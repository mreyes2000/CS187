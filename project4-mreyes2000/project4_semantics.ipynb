{
 "cells": [
  {
   "cell_type": "code",
   "execution_count": 1,
   "id": "yjsDXT6wsqhd",
   "metadata": {
    "colab": {
     "base_uri": "https://localhost:8080/"
    },
    "id": "yjsDXT6wsqhd",
    "outputId": "7901bea3-6bef-4557-a4f5-d89a7bf7125b"
   },
   "outputs": [
    {
     "name": "stdout",
     "output_type": "stream",
     "text": [
      "Drive already mounted at /content/drive; to attempt to forcibly remount, call drive.mount(\"/content/drive\", force_remount=True).\n",
      "/content/drive/MyDrive/project4\n",
      "Requirement already satisfied: wget in /usr/local/lib/python3.7/dist-packages (3.2)\n"
     ]
    }
   ],
   "source": [
    "from google.colab import drive\n",
    "drive.mount('/content/drive')\n",
    "\n",
    "%cd /content/drive/MyDrive/project4/\n",
    "\n",
    "!pip install wget"
   ]
  },
  {
   "cell_type": "code",
   "execution_count": 2,
   "id": "f642e7d9",
   "metadata": {
    "colab": {
     "base_uri": "https://localhost:8080/"
    },
    "deletable": false,
    "editable": false,
    "id": "f642e7d9",
    "jupyter": {
     "outputs_hidden": true,
     "source_hidden": true
    },
    "outputId": "871145dd-05ed-47c4-d5c0-70524edcb22c"
   },
   "outputs": [
    {
     "name": "stdout",
     "output_type": "stream",
     "text": [
      "\n"
     ]
    }
   ],
   "source": [
    "# Please do not change this cell because some hidden tests might depend on it.\n",
    "import os\n",
    "\n",
    "# Otter grader does not handle ! commands well, so we define and use our\n",
    "# own function to execute shell commands.\n",
    "def shell(commands, warn=True):\n",
    "    \"\"\"Executes the string `commands` as a sequence of shell commands.\n",
    "     \n",
    "       Prints the result to stdout and returns the exit status. \n",
    "       Provides a printed warning on non-zero exit status unless `warn` \n",
    "       flag is unset.\n",
    "    \"\"\"\n",
    "    file = os.popen(commands)\n",
    "    print (file.read().rstrip('\\n'))\n",
    "    exit_status = file.close()\n",
    "    if warn and exit_status != None:\n",
    "        print(f\"Completed with errors. Exit status: {exit_status}\\n\")\n",
    "    return exit_status\n",
    "\n",
    "shell(\"\"\"\n",
    "ls requirements.txt >/dev/null 2>&1\n",
    "if [ ! $? = 0 ]; then\n",
    " rm -rf .tmp\n",
    " git clone https://github.com/cs187-2021/project4.git .tmp\n",
    " mv .tmp/requirements.txt ./\n",
    " rm -rf .tmp\n",
    "fi\n",
    "pip install -q -r requirements.txt\n",
    "\"\"\")"
   ]
  },
  {
   "cell_type": "code",
   "execution_count": 3,
   "id": "84c2a078",
   "metadata": {
    "deletable": false,
    "editable": false,
    "id": "84c2a078"
   },
   "outputs": [],
   "source": [
    "# Initialize Otter\n",
    "import otter\n",
    "grader = otter.Notebook()"
   ]
  },
  {
   "cell_type": "raw",
   "id": "c7c99c22",
   "metadata": {
    "id": "c7c99c22",
    "jupyter": {
     "source_hidden": true
    }
   },
   "source": [
    "%%latex\n",
    "\\newcommand{\\vect}[1]{\\mathbf{#1}}\n",
    "\\newcommand{\\cnt}[1]{\\sharp(#1)}\n",
    "\\newcommand{\\argmax}[1]{\\underset{#1}{\\operatorname{argmax}}}\n",
    "\\newcommand{\\softmax}{\\operatorname{softmax}}\n",
    "\\newcommand{\\Prob}{\\Pr}\n",
    "\\newcommand{\\given}{\\,|\\,}"
   ]
  },
  {
   "cell_type": "markdown",
   "id": "02f12ded",
   "metadata": {
    "id": "02f12ded",
    "jupyter": {
     "source_hidden": true
    }
   },
   "source": [
    "$$\n",
    "\\renewcommand{\\vect}[1]{\\mathbf{#1}}\n",
    "\\renewcommand{\\cnt}[1]{\\sharp(#1)}\n",
    "\\renewcommand{\\argmax}[1]{\\underset{#1}{\\operatorname{argmax}}}\n",
    "\\renewcommand{\\softmax}{\\operatorname{softmax}}\n",
    "\\renewcommand{\\Prob}{\\Pr}\n",
    "\\renewcommand{\\given}{\\,|\\,}\n",
    "$$"
   ]
  },
  {
   "cell_type": "markdown",
   "id": "afae10a3",
   "metadata": {
    "id": "afae10a3",
    "tags": [
     "remove_for_latex"
    ]
   },
   "source": [
    "# CS187\n",
    "## Project 4: Semantic Interpretation – Question Answering"
   ]
  },
  {
   "cell_type": "markdown",
   "id": "1f0363b5",
   "metadata": {
    "id": "1f0363b5"
   },
   "source": [
    "The goal of semantic parsing is to convert natural language utterances to a meaning representation such as a _logical form_ expression or a _SQL query_. In the previous project segment, you built a parsing system to reconstruct parse trees from the natural-language queries in the ATIS dataset. However, that only solves an intermediary task, not the end-user task of obtaining answers to the queries.\n",
    "\n",
    "In this final project segment, you will go further, building a semantic parsing system to convert English queries to SQL queries, so that by consulting a database you will be able to answer those questions. You will implement both a rule-based approach and an end-to-end sequence-to-sequence (seq2seq) approach. Both algorithms come with their pros and cons, and by the end of this segment you should have a basic understanding of the characteristics of the two approaches. \n",
    "\n",
    "## Goals\n",
    "\n",
    "1. Build a semantic parsing algorithm to convert text to SQL queries based on the syntactic parse trees from the last project.\n",
    "2. Build an attention-based end-to-end seq2seq system to convert text to SQL.\n",
    "3. Improve the attention-based end-to-end seq2seq system with self-attention to convert text to SQL.\n",
    "4. Discuss the pros and cons of the rule-based system and the end-to-end system.\n",
    "5. (Optional) Use the state-of-the-art pretrained transformers for text-to-SQL conversion.\n",
    "\n",
    "This will be an extremely challenging project, so we recommend that you start early."
   ]
  },
  {
   "cell_type": "markdown",
   "id": "1341b57a",
   "metadata": {
    "id": "1341b57a"
   },
   "source": [
    "# Setup"
   ]
  },
  {
   "cell_type": "code",
   "execution_count": 4,
   "id": "463676fb",
   "metadata": {
    "colab": {
     "base_uri": "https://localhost:8080/",
     "height": 17
    },
    "id": "463676fb",
    "outputId": "a09209d1-e5d3-4b5a-ec25-1cd98aa721c5"
   },
   "outputs": [
    {
     "data": {
      "text/html": [
       "<style>pre { white-space: pre !important; }</style>"
      ],
      "text/plain": [
       "<IPython.core.display.HTML object>"
      ]
     },
     "metadata": {},
     "output_type": "display_data"
    }
   ],
   "source": [
    "import copy\n",
    "import datetime\n",
    "import math\n",
    "import re\n",
    "import sys\n",
    "import warnings\n",
    "\n",
    "import wget\n",
    "import nltk\n",
    "import sqlite3\n",
    "import torch\n",
    "import torch.nn as nn\n",
    "import torchtext.legacy as tt\n",
    "\n",
    "from cryptography.fernet import Fernet\n",
    "from func_timeout import func_set_timeout\n",
    "from torch.nn.utils.rnn import pack_padded_sequence as pack\n",
    "from torch.nn.utils.rnn import pad_packed_sequence as unpack\n",
    "from tqdm import tqdm\n",
    "from transformers import BartTokenizer, BartForConditionalGeneration\n",
    "\n",
    "from IPython.core.display import HTML \n",
    "display(HTML(\"<style>pre { white-space: pre !important; }</style>\"))"
   ]
  },
  {
   "cell_type": "code",
   "execution_count": 5,
   "id": "4da729fa",
   "metadata": {
    "colab": {
     "base_uri": "https://localhost:8080/"
    },
    "id": "4da729fa",
    "outputId": "148fa099-24a3-4bca-9857-ec5b89d57b3b"
   },
   "outputs": [
    {
     "name": "stdout",
     "output_type": "stream",
     "text": [
      "cuda\n"
     ]
    }
   ],
   "source": [
    "# Set random seeds\n",
    "seed = 1234\n",
    "torch.manual_seed(seed)\n",
    "# Set timeout for executing SQL\n",
    "TIMEOUT = 3 # seconds\n",
    "\n",
    "# GPU check: Set runtime type to use GPU where available\n",
    "device = torch.device(\"cuda\" if torch.cuda.is_available() else \"cpu\")\n",
    "print (device)"
   ]
  },
  {
   "cell_type": "code",
   "execution_count": 6,
   "id": "ba932f15",
   "metadata": {
    "colab": {
     "base_uri": "https://localhost:8080/",
     "height": 35
    },
    "id": "ba932f15",
    "outputId": "e6093f3c-786f-4025-a2ef-78a032be7488"
   },
   "outputs": [
    {
     "data": {
      "application/vnd.google.colaboratory.intrinsic+json": {
       "type": "string"
      },
      "text/plain": [
       "'data//atis_sqlite (1).db'"
      ]
     },
     "execution_count": 6,
     "metadata": {},
     "output_type": "execute_result"
    }
   ],
   "source": [
    "## Download needed scripts and data\n",
    "os.makedirs('data', exist_ok=True)\n",
    "os.makedirs('scripts', exist_ok=True)\n",
    "source_url = \"https://raw.githubusercontent.com/nlp-course/data/master\"\n",
    "\n",
    "# Grammar to augment for this segment\n",
    "if not os.path.isfile('data/grammar'):\n",
    "  wget.download(f\"{source_url}/ATIS/grammar_distrib4.crypt\", out=\"data/\")\n",
    "\n",
    "  # Decrypt the grammar file\n",
    "  key = b'bfksTY2BJ5VKKK9xZb1PDDLaGkdu7KCDFYfVePSEfGY='\n",
    "  fernet = Fernet(key)\n",
    "  with open('./data/grammar_distrib4.crypt', 'rb') as f:\n",
    "    restored = Fernet(key).decrypt(f.read())\n",
    "  with open('./data/grammar', 'wb') as f:\n",
    "    f.write(restored)\n",
    "\n",
    "# Download scripts and ATIS database\n",
    "wget.download(f\"{source_url}/scripts/trees/transform.py\", out=\"scripts/\")\n",
    "wget.download(f\"{source_url}/ATIS/atis_sqlite.db\", out=\"data/\")"
   ]
  },
  {
   "cell_type": "code",
   "execution_count": 7,
   "id": "85867162",
   "metadata": {
    "id": "85867162"
   },
   "outputs": [],
   "source": [
    "# Import downloaded scripts for parsing augmented grammars\n",
    "sys.path.insert(1, './scripts')\n",
    "import transform as xform"
   ]
  },
  {
   "cell_type": "markdown",
   "id": "b8df71b3",
   "metadata": {
    "id": "b8df71b3"
   },
   "source": [
    "# Semantically augmented grammars\n",
    "\n",
    "In the first part of this project segment, you'll be implementing a rule-based system for semantic interpretation of sentences. Before jumping into using such a system on the ATIS dataset – we'll get to that soon enough – let's first work with some trivial examples to get things going.\n",
    "\n",
    "The fundamental idea of rule-based semantic interpretation is the rule of compositionality, that *the meaning of a constituent is a function of the meanings of its immediate subconstituents and the syntactic rule that combined them*. This leads to an infrastructure for specifying semantic interpretation in which each syntactic rule in a grammar (in our case, a context-free grammar) is associated with a semantic rule that applies to the meanings associated with the elements on the right-hand side of the rule.\n",
    "\n",
    "## Example: arithmetic expressions\n",
    "\n",
    "As a first example, let's consider an augmented grammar for arithmetic expressions, familiar from lab 3-1. We again use the function `xform.parse_augmented_grammar` to parse the augmented grammar. You can read more about it in the file `scripts/transform.py`."
   ]
  },
  {
   "cell_type": "code",
   "execution_count": 8,
   "id": "d9d641d9",
   "metadata": {
    "id": "d9d641d9"
   },
   "outputs": [],
   "source": [
    "arithmetic_grammar, arithmetic_augmentations = xform.parse_augmented_grammar(\n",
    "    \"\"\"\n",
    "    ## Sample grammar for arithmetic expressions\n",
    "    \n",
    "    S -> NUM                              : lambda Num: Num\n",
    "       | S OP S                           : lambda S1, Op, S2: Op(S1, S2)\n",
    "\n",
    "    OP -> ADD                             : lambda Op: Op\n",
    "        | SUB \n",
    "        | MULT\n",
    "        | DIV\n",
    "\n",
    "    NUM -> 'zero'                         : lambda: 0\n",
    "         | 'one'                          : lambda: 1\n",
    "         | 'two'                          : lambda: 2\n",
    "         | 'three'                        : lambda: 3\n",
    "         | 'four'                         : lambda: 4\n",
    "         | 'five'                         : lambda: 5\n",
    "         | 'six'                          : lambda: 6\n",
    "         | 'seven'                        : lambda: 7\n",
    "         | 'eight'                        : lambda: 8\n",
    "         | 'nine'                         : lambda: 9\n",
    "         | 'ten'                          : lambda: 10\n",
    "\n",
    "    ADD -> 'plus' | 'added' 'to'          : lambda: lambda x, y: x + y\n",
    "    SUB -> 'minus'                        : lambda: lambda x, y: x - y\n",
    "    MULT -> 'times' | 'multiplied' 'by'   : lambda: lambda x, y: x * y\n",
    "    DIV -> 'divided' 'by'                 : lambda: lambda x, y: x / y\n",
    "    \"\"\"\n",
    ")"
   ]
  },
  {
   "cell_type": "markdown",
   "id": "d2e20947",
   "metadata": {
    "id": "d2e20947"
   },
   "source": [
    "Recall that in this grammar specification format, rules that are not explicitly provided with an augmentation (like all the `OP` rules after the first `OP -> ADD`) are associated with the textually most recent one (`lambda Op: Op`).\n",
    "\n",
    "The `parse_augmented_grammar` function returns both an NLTK grammar and a dictionary that maps from productions in the grammar to their associated augmentations. Let's examine the returned grammar."
   ]
  },
  {
   "cell_type": "code",
   "execution_count": 9,
   "id": "b7b1f2e8",
   "metadata": {
    "colab": {
     "base_uri": "https://localhost:8080/"
    },
    "id": "b7b1f2e8",
    "outputId": "30486a52-fdde-466b-9c33-674126e996f4"
   },
   "outputs": [
    {
     "name": "stdout",
     "output_type": "stream",
     "text": [
      "S -> NUM                      <function <lambda> at 0x7f0bc24d2cb0>\n",
      "S -> S OP S                   <function <lambda> at 0x7f0bc24d2d40>\n",
      "OP -> ADD                     <function <lambda> at 0x7f0bc24d2e60>\n",
      "OP -> SUB                     <function <lambda> at 0x7f0bc24d2f80>\n",
      "OP -> MULT                    <function <lambda> at 0x7f0bc24da0e0>\n",
      "OP -> DIV                     <function <lambda> at 0x7f0bc24da200>\n",
      "NUM -> 'zero'                 <function <lambda> at 0x7f0bc24da320>\n",
      "NUM -> 'one'                  <function <lambda> at 0x7f0bc24da440>\n",
      "NUM -> 'two'                  <function <lambda> at 0x7f0bc24da560>\n",
      "NUM -> 'three'                <function <lambda> at 0x7f0bc24da680>\n",
      "NUM -> 'four'                 <function <lambda> at 0x7f0bc24da7a0>\n",
      "NUM -> 'five'                 <function <lambda> at 0x7f0bc24da8c0>\n",
      "NUM -> 'six'                  <function <lambda> at 0x7f0bc24da9e0>\n",
      "NUM -> 'seven'                <function <lambda> at 0x7f0bc24dab00>\n",
      "NUM -> 'eight'                <function <lambda> at 0x7f0bc24dac20>\n",
      "NUM -> 'nine'                 <function <lambda> at 0x7f0bc24dad40>\n",
      "NUM -> 'ten'                  <function <lambda> at 0x7f0bc24dae60>\n",
      "ADD -> 'plus'                 <function <lambda> at 0x7f0bc24db050>\n",
      "ADD -> 'added' 'to'           <function <lambda> at 0x7f0bc24db200>\n",
      "SUB -> 'minus'                <function <lambda> at 0x7f0bc24db3b0>\n",
      "MULT -> 'times'               <function <lambda> at 0x7f0bc24db560>\n",
      "MULT -> 'multiplied' 'by'     <function <lambda> at 0x7f0bc24db710>\n",
      "DIV -> 'divided' 'by'         <function <lambda> at 0x7f0bc24db8c0>\n"
     ]
    }
   ],
   "source": [
    "for production in arithmetic_grammar.productions():\n",
    "  print(f\"{repr(production):25}     {arithmetic_augmentations[production]}\")"
   ]
  },
  {
   "cell_type": "markdown",
   "id": "47548e2c",
   "metadata": {
    "id": "47548e2c"
   },
   "source": [
    "We can parse with the grammar using one of the built-in NLTK parsers."
   ]
  },
  {
   "cell_type": "code",
   "execution_count": 10,
   "id": "9062744b",
   "metadata": {
    "colab": {
     "base_uri": "https://localhost:8080/"
    },
    "id": "9062744b",
    "outputId": "c6832636-635e-432f-9712-be1740183553"
   },
   "outputs": [
    {
     "name": "stdout",
     "output_type": "stream",
     "text": [
      "            S            \n",
      "        ____|_________    \n",
      "       S         |    |  \n",
      "   ____|____     |    |   \n",
      "  S    OP   S    OP   S  \n",
      "  |    |    |    |    |   \n",
      " NUM  ADD  NUM  MULT NUM \n",
      "  |    |    |    |    |   \n",
      "three plus one times four\n",
      "\n",
      "            S            \n",
      "   _________|____         \n",
      "  |    |         S       \n",
      "  |    |     ____|____    \n",
      "  S    OP   S    OP   S  \n",
      "  |    |    |    |    |   \n",
      " NUM  ADD  NUM  MULT NUM \n",
      "  |    |    |    |    |   \n",
      "three plus one times four\n",
      "\n"
     ]
    }
   ],
   "source": [
    "arithmetic_parser = nltk.parse.BottomUpChartParser(arithmetic_grammar)\n",
    "parses = [p for p in arithmetic_parser.parse('three plus one times four'.split())]\n",
    "for parse in parses:\n",
    "  parse.pretty_print()"
   ]
  },
  {
   "cell_type": "markdown",
   "id": "2ddbe880",
   "metadata": {
    "id": "2ddbe880"
   },
   "source": [
    "Now let's turn to the augmentations. They can be arbitrary Python functions applied to the semantic representations associated with the right-hand-side nonterminals, returning the semantic representation of the left-hand side. To interpret the semantic representation of the entire sentence (at the root of the parse tree), we can use the following pseudo-code:\n",
    "```\n",
    "to interpret a tree:\n",
    "  interpret each of the nonterminal-rooted subtrees\n",
    "  find the augmentation associated with the root production of the tree\n",
    "    (it should be a function of as many arguments as there are nonterminals on the right-hand side)\n",
    "  return the result of applying the augmentation to the subtree values\n",
    "```\n",
    "(The base case of this recursion occurs when the number of nonterminal-rooted subtrees is zero, that is, a rule all of whose right-hand side elements are terminals.)\n",
    "\n",
    "Suppose we had such a function, call it `interpret`. How would it operate on, for instance, the tree `(S (S (NUM three)) (OP (ADD plus)) (S (NUM one)))`?\n",
    "\n",
    "```\n",
    "interpret (S (S (NUM three)) (OP (ADD plus)) (S (NUM one)))\n",
    "    |->interpret (S (NUM three))\n",
    "    |      |->interpret (NUM three)\n",
    "    |      |      |->(no subconstituents to evaluate)\n",
    "    |      |      |->apply the augmentation for the rule NUM -> three to the empty set of values\n",
    "    |      |      |      (lambda: 3) () ==> 3\n",
    "    |      |      \\==> 3\n",
    "    |      |->apply the augmentation for the rule S -> NUM to the value 3\n",
    "    |      |      (lambda NUM: NUM)(3) ==> 3\n",
    "    |      \\==> 3\n",
    "    |->interpret (OP (ADD plus)) \n",
    "    |      |...\n",
    "    |      \\==> lambda x, y: x + y\n",
    "    |->interpret (S (NUM one))\n",
    "    |      |...\n",
    "    |      \\==> 1\n",
    "    |->apply the augmentation for the rule S -> S OP S to the values 3, (lambda x, y: x + y), and 1\n",
    "    |      (lambda S1, Op, S2: Op(S1, S2))(3, (lambda x, y: x + y), 1) ==> 4\n",
    "    \\==> 4\n",
    "```\n",
    "\n",
    "Thus, the string \"three plus one\" is semantically interpreted as the value 4.\n",
    "\n",
    "We provide the `interpret` function to carry out this recursive process, copied over from lab 4-2:"
   ]
  },
  {
   "cell_type": "code",
   "execution_count": 11,
   "id": "0da0846d",
   "metadata": {
    "id": "0da0846d"
   },
   "outputs": [],
   "source": [
    "def interpret(tree, augmentations):\n",
    "  syntactic_rule = tree.productions()[0]\n",
    "  semantic_rule = augmentations[syntactic_rule]\n",
    "  child_meanings = [interpret(child, augmentations) \n",
    "                    for child in tree \n",
    "                    if isinstance(child, nltk.Tree)]\n",
    "  return semantic_rule(*child_meanings)"
   ]
  },
  {
   "cell_type": "markdown",
   "id": "342d5164",
   "metadata": {
    "id": "342d5164"
   },
   "source": [
    "Now we should be able to evaluate the arithmetic example from above."
   ]
  },
  {
   "cell_type": "code",
   "execution_count": 12,
   "id": "bc902277",
   "metadata": {
    "colab": {
     "base_uri": "https://localhost:8080/"
    },
    "id": "bc902277",
    "outputId": "7ce72dfe-084f-471d-b30b-b284baeef3b3"
   },
   "outputs": [
    {
     "data": {
      "text/plain": [
       "16"
      ]
     },
     "execution_count": 12,
     "metadata": {},
     "output_type": "execute_result"
    }
   ],
   "source": [
    "interpret(parses[0], arithmetic_augmentations)"
   ]
  },
  {
   "cell_type": "markdown",
   "id": "80eacbe6",
   "metadata": {
    "id": "80eacbe6"
   },
   "source": [
    "And we can even write a function that parses and interprets a string. We'll have it evaluate each of the possible parses and print the results."
   ]
  },
  {
   "cell_type": "code",
   "execution_count": 13,
   "id": "a6fa0e36",
   "metadata": {
    "id": "a6fa0e36"
   },
   "outputs": [],
   "source": [
    "def parse_and_interpret(string, grammar, augmentations):\n",
    "  parser = nltk.parse.BottomUpChartParser(grammar)\n",
    "  parses = parser.parse(string.split())\n",
    "  for parse in parses:\n",
    "    parse.pretty_print()\n",
    "    print(parse, \"==>\", interpret(parse, augmentations))"
   ]
  },
  {
   "cell_type": "code",
   "execution_count": 14,
   "id": "c92c856b",
   "metadata": {
    "colab": {
     "base_uri": "https://localhost:8080/"
    },
    "id": "c92c856b",
    "outputId": "0a3e29d1-ce5e-4201-bd13-1b0b7f6f78da"
   },
   "outputs": [
    {
     "name": "stdout",
     "output_type": "stream",
     "text": [
      "            S            \n",
      "        ____|_________    \n",
      "       S         |    |  \n",
      "   ____|____     |    |   \n",
      "  S    OP   S    OP   S  \n",
      "  |    |    |    |    |   \n",
      " NUM  ADD  NUM  MULT NUM \n",
      "  |    |    |    |    |   \n",
      "three plus one times four\n",
      "\n",
      "(S\n",
      "  (S (S (NUM three)) (OP (ADD plus)) (S (NUM one)))\n",
      "  (OP (MULT times))\n",
      "  (S (NUM four))) ==> 16\n",
      "            S            \n",
      "   _________|____         \n",
      "  |    |         S       \n",
      "  |    |     ____|____    \n",
      "  S    OP   S    OP   S  \n",
      "  |    |    |    |    |   \n",
      " NUM  ADD  NUM  MULT NUM \n",
      "  |    |    |    |    |   \n",
      "three plus one times four\n",
      "\n",
      "(S\n",
      "  (S (NUM three))\n",
      "  (OP (ADD plus))\n",
      "  (S (S (NUM one)) (OP (MULT times)) (S (NUM four)))) ==> 7\n"
     ]
    }
   ],
   "source": [
    "parse_and_interpret(\"three plus one times four\", arithmetic_grammar, arithmetic_augmentations)"
   ]
  },
  {
   "cell_type": "markdown",
   "id": "c7d4cfe4",
   "metadata": {
    "id": "c7d4cfe4"
   },
   "source": [
    "Since the string is syntactically ambiguous according to the grammar, it is semantically ambiguous as well."
   ]
  },
  {
   "cell_type": "markdown",
   "id": "e4d20197",
   "metadata": {
    "id": "e4d20197"
   },
   "source": [
    "## Some grammar specification conveniences\n",
    "\n",
    "Before going on, it will be useful to have a few more conveniences in writing augmentations for rules. First, since the augmentations are arbitrary Python expressions, they can be built from and make use of other functions. For instance, you'll notice that many of the augmentations at the leaves of the tree took no arguments and returned a constant. We can define a function `constant` that returns a function that ignores its arguments and returns a particular value."
   ]
  },
  {
   "cell_type": "code",
   "execution_count": 15,
   "id": "1de4b6f6",
   "metadata": {
    "id": "1de4b6f6"
   },
   "outputs": [],
   "source": [
    "def constant(value):\n",
    "  \"\"\"Return `value`, ignoring any arguments\"\"\"\n",
    "  return lambda *args: value"
   ]
  },
  {
   "cell_type": "markdown",
   "id": "dbfa4fa6",
   "metadata": {
    "id": "dbfa4fa6"
   },
   "source": [
    "Similarly, several of the augmentations are functions that just return their first argument. Again, we can define a generic form `first` of such a function:"
   ]
  },
  {
   "cell_type": "code",
   "execution_count": 16,
   "id": "eed6d72a",
   "metadata": {
    "id": "eed6d72a"
   },
   "outputs": [],
   "source": [
    "def first(*args):\n",
    "  \"\"\"Return the value of the first (and perhaps only) subconstituent, \n",
    "     ignoring any others\"\"\"  \n",
    "  return args[0]"
   ]
  },
  {
   "cell_type": "markdown",
   "id": "38d2597c",
   "metadata": {
    "id": "38d2597c"
   },
   "source": [
    "We can now rewrite the grammar above to take advantage of these shortcuts. \n",
    "\n",
    "> In the call to `parse_augmented_grammar` below, we pass in the global environment, extracted via a `globals()` function call, via the named argument `globals`. This allows the `parse_augmented_grammar` function to make use of the global bindings for `constant`, `first`, and the like when evaluating the augmentation expressions to their values. You can check out the code in `transform.py` to see how the passed in `globals` bindings are used. To help understand what's going on, see what happens if you don't include the `globals=globals()`."
   ]
  },
  {
   "cell_type": "code",
   "execution_count": 17,
   "id": "cebf2129",
   "metadata": {
    "id": "cebf2129"
   },
   "outputs": [],
   "source": [
    "arithmetic_grammar_2, arithmetic_augmentations_2 = xform.parse_augmented_grammar(\n",
    "    \"\"\"\n",
    "    ## Sample grammar for arithmetic expressions\n",
    "    \n",
    "    S -> NUM                              : first\n",
    "       | S OP S                           : lambda S1, Op, S2: Op(S1, S2)\n",
    "\n",
    "    OP -> ADD                             : first\n",
    "       | SUB \n",
    "       | MULT\n",
    "       | DIV\n",
    "\n",
    "    NUM -> 'zero'                         : constant(0)\n",
    "         | 'one'                          : constant(1)\n",
    "         | 'two'                          : constant(2)\n",
    "         | 'three'                        : constant(3)\n",
    "         | 'four'                         : constant(4)\n",
    "         | 'five'                         : constant(5)\n",
    "         | 'six'                          : constant(6)\n",
    "         | 'seven'                        : constant(7)\n",
    "         | 'eight'                        : constant(8)\n",
    "         | 'nine'                         : constant(9)\n",
    "         | 'ten'                          : constant(10)\n",
    "\n",
    "    ADD -> 'plus' | 'added' 'to'          : constant(lambda x, y: x + y)\n",
    "    SUB -> 'minus'                        : constant(lambda x, y: x - y)\n",
    "    MULT -> 'times' | 'multiplied' 'by'   : constant(lambda x, y: x * y)\n",
    "    DIV -> 'divided' 'by'                 : constant(lambda x, y: x / y)\n",
    "    \"\"\",\n",
    "    globals=globals())"
   ]
  },
  {
   "cell_type": "markdown",
   "id": "838486c8",
   "metadata": {
    "id": "838486c8"
   },
   "source": [
    "Finally, it might make our lives easier to write a template of augmentations whose instantiation depends on the right-hand side of the rule. \n",
    "\n",
    "We use a reserved keyword `_RHS` to denote the right-hand side of the syntactic rule, which will be replaced by a **list** of the right-hand-side strings. For example, an augmentation `numeric_template(_RHS)` would be as if written as `numeric_template(['zero'])` when the rule is `NUM -> 'zero'`, and `numeric_template(['one'])` when the rule is `NUM -> 'one'`. The details of how this works can be found at [`scripts/transform.py`](https://github.com/nlp-course/data/blob/master/scripts/trees/transform.py).\n",
    "\n",
    "This would allow us to use a single template function, for example,"
   ]
  },
  {
   "cell_type": "code",
   "execution_count": 18,
   "id": "e7ec99f2",
   "metadata": {
    "id": "e7ec99f2"
   },
   "outputs": [],
   "source": [
    "def numeric_template(rhs):\n",
    "  \"\"\"Ignore the subphrase meanings and lookup the first right-hand-side symbol \n",
    "     as a number\"\"\"\n",
    "  return constant({'zero':0, 'one':1, 'two':2, 'three':3, 'four':4, 'five':5,\n",
    "          'six':6, 'seven':7, 'eight':8, 'nine':9, 'ten':10}[rhs[0]])"
   ]
  },
  {
   "cell_type": "markdown",
   "id": "82de023b",
   "metadata": {
    "id": "82de023b"
   },
   "source": [
    "and then further simplify the grammar specification:"
   ]
  },
  {
   "cell_type": "code",
   "execution_count": 19,
   "id": "1ee6d355",
   "metadata": {
    "id": "1ee6d355"
   },
   "outputs": [],
   "source": [
    "arithmetic_grammar_3, arithmetic_augmentations_3 = xform.parse_augmented_grammar(\n",
    "    \"\"\"\n",
    "    ## Sample grammar for arithmetic expressions\n",
    "    \n",
    "    S -> NUM                              : first\n",
    "       | S OP S                           : lambda S1, Op, S2: Op(S1, S2)\n",
    "\n",
    "    OP -> ADD                             : first\n",
    "       | SUB\n",
    "       | MULT\n",
    "       | DIV\n",
    "\n",
    "    NUM -> 'zero'  | 'one'   | 'two'      : numeric_template(_RHS)\n",
    "         | 'three' | 'four'  | 'five'\n",
    "         | 'six'   | 'seven' | 'eight'\n",
    "         | 'nine'  | 'ten'\n",
    "\n",
    "    ADD -> 'plus' | 'added' 'to'          : constant(lambda x, y: x + y)\n",
    "    SUB -> 'minus'                        : constant(lambda x, y: x - y)\n",
    "    MULT -> 'times' | 'multiplied' 'by'   : constant(lambda x, y: x * y)\n",
    "    DIV -> 'divided' 'by'                 : constant(lambda x, y: x / y)\n",
    "    \"\"\",\n",
    "    globals=globals())"
   ]
  },
  {
   "cell_type": "code",
   "execution_count": 20,
   "id": "9e536652",
   "metadata": {
    "colab": {
     "base_uri": "https://localhost:8080/"
    },
    "id": "9e536652",
    "outputId": "b7ac7ecb-eac2-4593-eee9-c9fff4394953"
   },
   "outputs": [
    {
     "name": "stdout",
     "output_type": "stream",
     "text": [
      "       S                 \n",
      "  _____|______________    \n",
      " S           OP       S  \n",
      " |           |        |   \n",
      "NUM         DIV      NUM \n",
      " |      _____|___     |   \n",
      "six divided      by three\n",
      "\n",
      "(S (S (NUM six)) (OP (DIV divided by)) (S (NUM three))) ==> 2.0\n"
     ]
    }
   ],
   "source": [
    "parse_and_interpret(\"six divided by three\", arithmetic_grammar_3, arithmetic_augmentations_3)"
   ]
  },
  {
   "cell_type": "markdown",
   "id": "7db97ed4",
   "metadata": {
    "id": "7db97ed4"
   },
   "source": [
    "## Example: _Green Eggs and Ham_ revisited\n",
    "\n",
    "This stuff is tricky, so it's useful to see more examples before jumping in the deep end. In this simple GEaH fragment grammar, we use a larger set of auxiliary functions to build the augmentations."
   ]
  },
  {
   "cell_type": "code",
   "execution_count": 21,
   "id": "3f678453",
   "metadata": {
    "id": "3f678453"
   },
   "outputs": [],
   "source": [
    "def forward(F, A):\n",
    "  \"\"\"Forward application: Return the application of the first \n",
    "     argument to the second\"\"\"\n",
    "  return F(A)\n",
    "\n",
    "def backward(A, F):\n",
    "  \"\"\"Backward application: Return the application of the second \n",
    "     argument to the first\"\"\"\n",
    "  return F(A)\n",
    "\n",
    "def second(*args):\n",
    "  \"\"\"Return the value of the second subconstituent, ignoring any others\"\"\"\n",
    "  return args[1]\n",
    "\n",
    "def ignore(*args):\n",
    "  \"\"\"Return `None`, ignoring everything about the constituent. (Good as a\n",
    "     placeholder until a better augmentation can be devised.)\"\"\"\n",
    "  return None"
   ]
  },
  {
   "cell_type": "markdown",
   "id": "c812edfb",
   "metadata": {
    "id": "c812edfb"
   },
   "source": [
    "Using these, we can build and test the grammar."
   ]
  },
  {
   "cell_type": "code",
   "execution_count": 22,
   "id": "1abe86e5",
   "metadata": {
    "id": "1abe86e5"
   },
   "outputs": [],
   "source": [
    "geah_grammar_spec = \"\"\"\n",
    "  ## Productions\n",
    "  S -> NP VP            : backward\n",
    "  VP -> V NP            : forward\n",
    "\n",
    "  ## Lexicon\n",
    "  V -> 'likes'          : constant(lambda Object: lambda Subject: f\"like({Subject}, {Object})\")\n",
    "  NP -> 'Sam' | 'sam'   : constant(_RHS[0])\n",
    "  NP -> 'ham'\n",
    "  NP -> 'eggs'\n",
    "\"\"\""
   ]
  },
  {
   "cell_type": "code",
   "execution_count": 23,
   "id": "df085dd0",
   "metadata": {
    "id": "df085dd0"
   },
   "outputs": [],
   "source": [
    "geah_grammar, geah_augmentations = xform.parse_augmented_grammar(geah_grammar_spec, \n",
    "                                                                 globals=globals())"
   ]
  },
  {
   "cell_type": "code",
   "execution_count": 24,
   "id": "ed5753ed",
   "metadata": {
    "colab": {
     "base_uri": "https://localhost:8080/"
    },
    "id": "ed5753ed",
    "outputId": "fc315e42-3bea-470d-b717-4e8afe492feb"
   },
   "outputs": [
    {
     "name": "stdout",
     "output_type": "stream",
     "text": [
      "      S          \n",
      "  ____|____       \n",
      " |         VP    \n",
      " |     ____|___   \n",
      " NP   V        NP\n",
      " |    |        |  \n",
      "Sam likes     ham\n",
      "\n",
      "(S (NP Sam) (VP (V likes) (NP ham))) ==> like(Sam, ham)\n"
     ]
    }
   ],
   "source": [
    "parse_and_interpret(\"Sam likes ham\", geah_grammar, geah_augmentations)"
   ]
  },
  {
   "cell_type": "markdown",
   "id": "efbfa299",
   "metadata": {
    "id": "efbfa299"
   },
   "source": [
    "# Semantics of ATIS queries\n",
    "\n",
    "Now you're in a good position to understand and add augmentations to a more comprehensive grammar, say, one that parses ATIS queries and generates SQL queries.\n",
    "\n",
    "In preparation for that, we need to load the ATIS data, both NL and SQL queries."
   ]
  },
  {
   "cell_type": "markdown",
   "id": "433060a9",
   "metadata": {
    "id": "433060a9"
   },
   "source": [
    "## Loading and preprocessing the corpus\n",
    "\n",
    "To simplify things a bit, we'll only consider ATIS queries whose question type (remember that from project segment 1?) is `flight_id`. We download training, development, and test splits for this subset of the ATIS corpus, including corresponding SQL queries."
   ]
  },
  {
   "cell_type": "code",
   "execution_count": 25,
   "id": "2caf3faf",
   "metadata": {
    "colab": {
     "base_uri": "https://localhost:8080/",
     "height": 35
    },
    "id": "2caf3faf",
    "outputId": "b15d0bae-aa99-4461-f729-93dae15dd01d"
   },
   "outputs": [
    {
     "data": {
      "application/vnd.google.colaboratory.intrinsic+json": {
       "type": "string"
      },
      "text/plain": [
       "'data//train_flightid (1).sql'"
      ]
     },
     "execution_count": 25,
     "metadata": {},
     "output_type": "execute_result"
    }
   ],
   "source": [
    "# Acquire the datasets - training, development, and test splits of the \n",
    "# ATIS queries and corresponding SQL queries\n",
    "wget.download(f\"{source_url}/ATIS/test_flightid.nl\", out=\"data/\")\n",
    "wget.download(f\"{source_url}/ATIS/test_flightid.sql\", out=\"data/\")\n",
    "wget.download(f\"{source_url}/ATIS/dev_flightid.nl\", out=\"data/\")\n",
    "wget.download(f\"{source_url}/ATIS/dev_flightid.sql\", out=\"data/\")\n",
    "wget.download(f\"{source_url}/ATIS/train_flightid.nl\", out=\"data/\")\n",
    "wget.download(f\"{source_url}/ATIS/train_flightid.sql\", out=\"data/\")"
   ]
  },
  {
   "cell_type": "markdown",
   "id": "716287dd",
   "metadata": {
    "id": "716287dd"
   },
   "source": [
    "Let's take a look at the data: the NL queries are in `.nl` files, and the SQL queries are in `.sql` files."
   ]
  },
  {
   "cell_type": "code",
   "execution_count": 26,
   "id": "c150fd06",
   "metadata": {
    "colab": {
     "base_uri": "https://localhost:8080/"
    },
    "id": "c150fd06",
    "outputId": "f4fb8434-174f-489c-8772-234b3bf055e1"
   },
   "outputs": [
    {
     "name": "stdout",
     "output_type": "stream",
     "text": [
      "what flights are available tomorrow from denver to philadelphia\n",
      "SELECT DISTINCT flight_1.flight_id FROM flight flight_1 , airport_service airport_service_1 , city city_1 , airport_service airport_service_2 , city city_2 , days days_1 , date_day date_day_1 WHERE flight_1.from_airport = airport_service_1.airport_code AND airport_service_1.city_code = city_1.city_code AND city_1.city_name = 'DENVER' AND ( flight_1.to_airport = airport_service_2.airport_code AND airport_service_2.city_code = city_2.city_code AND city_2.city_name = 'PHILADELPHIA' AND flight_1.flight_days = days_1.days_code AND days_1.day_name = date_day_1.day_name AND date_day_1.year = 1991 AND date_day_1.month_number = 1 AND date_day_1.day_number = 20 )\n"
     ]
    }
   ],
   "source": [
    "shell(\"head -1 data/dev_flightid.nl\")\n",
    "shell(\"head -1 data/dev_flightid.sql\")"
   ]
  },
  {
   "cell_type": "markdown",
   "id": "5e322766",
   "metadata": {
    "id": "5e322766"
   },
   "source": [
    "## Corpus preprocessing"
   ]
  },
  {
   "cell_type": "markdown",
   "id": "fd449509",
   "metadata": {
    "id": "fd449509"
   },
   "source": [
    "We'll use `torchtext` to process the data. We use two `Field`s: `SRC` for the questions, and `TGT` for the SQL queries. We'll use the tokenizer from project segment 3."
   ]
  },
  {
   "cell_type": "code",
   "execution_count": 27,
   "id": "273359cc",
   "metadata": {
    "colab": {
     "base_uri": "https://localhost:8080/"
    },
    "id": "273359cc",
    "outputId": "ea055174-36fd-4a53-a0f6-a824764645c6"
   },
   "outputs": [
    {
     "name": "stdout",
     "output_type": "stream",
     "text": [
      "['are', 'there', 'any', 'first-class', 'flights', 'from', 'st.', 'louis', 'at', '11', 'pm', 'for', 'less', 'than', '$3.50', '?']\n"
     ]
    }
   ],
   "source": [
    "## Tokenizer\n",
    "tokenizer = nltk.tokenize.RegexpTokenizer('\\d+|st\\.|[\\w-]+|\\$[\\d\\.]+|\\S+')\n",
    "def tokenize(string):\n",
    "  return tokenizer.tokenize(string.lower())\n",
    "\n",
    "## Demonstrating the tokenizer\n",
    "## Note especially the handling of `\"11pm\"` and hyphenated words.\n",
    "print(tokenize(\"Are there any first-class flights from St. Louis at 11pm for less than $3.50?\"))"
   ]
  },
  {
   "cell_type": "code",
   "execution_count": 28,
   "id": "db7565d5",
   "metadata": {
    "id": "db7565d5"
   },
   "outputs": [],
   "source": [
    "SRC = tt.data.Field(include_lengths=True,         # include lengths\n",
    "                    batch_first=False,            # batches will be max_len x batch_size\n",
    "                    tokenize=tokenize,            # use our tokenizer\n",
    "                   ) \n",
    "TGT = tt.data.Field(include_lengths=False,\n",
    "                    batch_first=False,            # batches will be max_len x batch_size\n",
    "                    tokenize=lambda x: x.split(), # use split to tokenize\n",
    "                    init_token=\"<bos>\",           # prepend <bos>\n",
    "                    eos_token=\"<eos>\")            # append <eos>\n",
    "fields = [('src', SRC), ('tgt', TGT)]"
   ]
  },
  {
   "cell_type": "markdown",
   "id": "4f2686ff",
   "metadata": {
    "id": "4f2686ff"
   },
   "source": [
    "> Note that we specified `batch_first=False` (as in lab 4-4), so that the returned batched tensors would be of size `max_length x batch_size`, which facilitates seq2seq implementation.\n",
    "\n",
    "Now, we load the data using `torchtext`. We use the `TranslationDataset` class here because our task is essentially a translation task: \"translating\" questions into the corresponding SQL queries. Therefore, we also refer to the questions as the _source_ side (`SRC`) and the SQL queries as the _target_ side (`TGT`)."
   ]
  },
  {
   "cell_type": "code",
   "execution_count": 29,
   "id": "bdec6017",
   "metadata": {
    "colab": {
     "base_uri": "https://localhost:8080/"
    },
    "id": "bdec6017",
    "outputId": "b9dd8725-84dc-49d2-ae3b-d097c3a73061"
   },
   "outputs": [
    {
     "name": "stdout",
     "output_type": "stream",
     "text": [
      "Size of English vocab: 421\n",
      "Most common English words: [('to', 3478), ('from', 3019), ('flights', 2094), ('the', 1550), ('on', 1230), ('me', 973), ('flight', 972), ('show', 845), ('what', 833), ('boston', 813)]\n",
      "\n",
      "Size of SQL vocab: 392\n",
      "Most common SQL words: [('=', 38876), ('AND', 36564), (',', 22772), ('airport_service', 8314), ('city', 8313), ('(', 6432), (')', 6432), ('flight_1.flight_id', 4536), ('flight', 4221), ('SELECT', 4178)]\n",
      "\n",
      "Index for start of sequence token: 2\n",
      "Index for end of sequence token: 3\n"
     ]
    }
   ],
   "source": [
    "# Make splits for data\n",
    "train_data, val_data, test_data = tt.datasets.TranslationDataset.splits(\n",
    "    ('_flightid.nl', '_flightid.sql'), fields, path='./data/',\n",
    "    train='train', validation='dev', test='test')\n",
    "\n",
    "MIN_FREQ = 3\n",
    "SRC.build_vocab(train_data.src, min_freq=MIN_FREQ)\n",
    "TGT.build_vocab(train_data.tgt, min_freq=MIN_FREQ)\n",
    "\n",
    "print (f\"Size of English vocab: {len(SRC.vocab)}\")\n",
    "print (f\"Most common English words: {SRC.vocab.freqs.most_common(10)}\\n\")\n",
    "\n",
    "print (f\"Size of SQL vocab: {len(TGT.vocab)}\")\n",
    "print (f\"Most common SQL words: {TGT.vocab.freqs.most_common(10)}\\n\")\n",
    "\n",
    "print (f\"Index for start of sequence token: {TGT.vocab.stoi[TGT.init_token]}\")\n",
    "print (f\"Index for end of sequence token: {TGT.vocab.stoi[TGT.eos_token]}\")"
   ]
  },
  {
   "cell_type": "markdown",
   "id": "74cc33ae",
   "metadata": {
    "id": "74cc33ae"
   },
   "source": [
    "Next, we batch our data to facilitate processing on a GPU. Batching is a bit tricky because the source and target will typically be of different lengths. Fortunately, `torchtext` allows us to pass in a `sort_key` function. By sorting on length, we can minimize the amount of padding on the source side, but since there is still some padding, we need to handle them with [`pack`](https://pytorch.org/docs/stable/generated/torch.nn.utils.rnn.pack_padded_sequence.html#torch.nn.utils.rnn.pack_padded_sequence) and [`unpack`](https://pytorch.org/docs/stable/generated/torch.nn.utils.rnn.pad_packed_sequence.html) later on in the seq2seq part (as in lab 4-5). "
   ]
  },
  {
   "cell_type": "code",
   "execution_count": 30,
   "id": "d26d7e63",
   "metadata": {
    "id": "d26d7e63"
   },
   "outputs": [],
   "source": [
    "BATCH_SIZE = 16 # batch size for training/validation\n",
    "TEST_BATCH_SIZE = 1 # batch size for test, we use 1 to make beam search implementation easier\n",
    "\n",
    "train_iter, val_iter = tt.data.BucketIterator.splits((train_data, val_data),\n",
    "                                                     batch_size=BATCH_SIZE, \n",
    "                                                     device=device,\n",
    "                                                     repeat=False, \n",
    "                                                     sort_key=lambda x: len(x.src), \n",
    "                                                     sort_within_batch=True)\n",
    "test_iter = tt.data.BucketIterator(test_data, \n",
    "                                   batch_size=TEST_BATCH_SIZE, \n",
    "                                   device=device,\n",
    "                                   repeat=False, \n",
    "                                   sort=False, \n",
    "                                   train=False)"
   ]
  },
  {
   "cell_type": "markdown",
   "id": "9995be7d",
   "metadata": {
    "id": "9995be7d"
   },
   "source": [
    "Let's look at a single batch from one of these iterators."
   ]
  },
  {
   "cell_type": "code",
   "execution_count": 31,
   "id": "dbbed4a0",
   "metadata": {
    "colab": {
     "base_uri": "https://localhost:8080/"
    },
    "id": "dbbed4a0",
    "outputId": "f8e4b2fe-7fce-4c5c-bd4a-1090e0cd4d74"
   },
   "outputs": [
    {
     "name": "stdout",
     "output_type": "stream",
     "text": [
      "Size of text batch: torch.Size([7, 16])\n",
      "Third sentence in batch: tensor([ 21,   4,   2,  23,  40, 133,  34], device='cuda:0')\n",
      "Length of the third sentence in batch: 7\n",
      "Converted back to string: all flights to baltimore after 6 pm\n",
      "Size of sql batch: torch.Size([97, 16])\n",
      "Third SQL in batch: tensor([ 2, 14, 31, 11, 13, 12, 16,  6,  7, 22,  6,  8, 23, 15, 24,  4, 18,  5,\n",
      "        19,  4, 17,  5, 20,  4, 62,  5, 32, 75, 84,  3,  1,  1,  1,  1,  1,  1,\n",
      "         1,  1,  1,  1,  1,  1,  1,  1,  1,  1,  1,  1,  1,  1,  1,  1,  1,  1,\n",
      "         1,  1,  1,  1,  1,  1,  1,  1,  1,  1,  1,  1,  1,  1,  1,  1,  1,  1,\n",
      "         1,  1,  1,  1,  1,  1,  1,  1,  1,  1,  1,  1,  1,  1,  1,  1,  1,  1,\n",
      "         1,  1,  1,  1,  1,  1,  1], device='cuda:0')\n",
      "Converted back to string: <bos> SELECT DISTINCT flight_1.flight_id FROM flight flight_1 , airport_service airport_service_1 , city city_1 WHERE flight_1.to_airport = airport_service_1.airport_code AND airport_service_1.city_code = city_1.city_code AND city_1.city_name = 'BALTIMORE' AND flight_1.departure_time > 1800 <eos> <pad> <pad> <pad> <pad> <pad> <pad> <pad> <pad> <pad> <pad> <pad> <pad> <pad> <pad> <pad> <pad> <pad> <pad> <pad> <pad> <pad> <pad> <pad> <pad> <pad> <pad> <pad> <pad> <pad> <pad> <pad> <pad> <pad> <pad> <pad> <pad> <pad> <pad> <pad> <pad> <pad> <pad> <pad> <pad> <pad> <pad> <pad> <pad> <pad> <pad> <pad> <pad> <pad> <pad> <pad> <pad> <pad> <pad> <pad> <pad> <pad> <pad> <pad> <pad> <pad> <pad> <pad>\n"
     ]
    }
   ],
   "source": [
    "batch = next(iter(train_iter))\n",
    "train_batch_text, train_batch_text_lengths = batch.src\n",
    "print (f\"Size of text batch: {train_batch_text.shape}\")\n",
    "print (f\"Third sentence in batch: {train_batch_text[:, 2]}\")\n",
    "print (f\"Length of the third sentence in batch: {train_batch_text_lengths[2]}\")\n",
    "print (f\"Converted back to string: {' '.join([SRC.vocab.itos[i] for i in train_batch_text[:, 2]])}\")\n",
    "\n",
    "train_batch_sql = batch.tgt\n",
    "print (f\"Size of sql batch: {train_batch_sql.shape}\")\n",
    "print (f\"Third SQL in batch: {train_batch_sql[:, 2]}\")\n",
    "print (f\"Converted back to string: {' '.join([TGT.vocab.itos[i] for i in train_batch_sql[:, 2]])}\")"
   ]
  },
  {
   "cell_type": "markdown",
   "id": "a812adb8",
   "metadata": {
    "id": "a812adb8"
   },
   "source": [
    "Alternatively, we can directly iterate over the raw examples:"
   ]
  },
  {
   "cell_type": "code",
   "execution_count": 32,
   "id": "64495414",
   "metadata": {
    "colab": {
     "base_uri": "https://localhost:8080/"
    },
    "id": "64495414",
    "outputId": "1e0f2427-600e-4d13-d1ba-3c22aacf1176"
   },
   "outputs": [
    {
     "name": "stdout",
     "output_type": "stream",
     "text": [
      "Question: list all the flights that arrive at general mitchell international from various cities\n",
      "\n",
      "SQL: SELECT DISTINCT flight_1.flight_id FROM flight flight_1 , airport airport_1 , airport_service airport_service_1 , city city_1 WHERE flight_1.to_airport = airport_1.airport_code AND airport_1.airport_code = 'MKE' AND flight_1.from_airport = airport_service_1.airport_code AND airport_service_1.city_code = city_1.city_code AND 1 = 1\n"
     ]
    }
   ],
   "source": [
    "for example in train_iter.dataset[:1]:\n",
    "  train_text_1 = ' '.join(example.src) # detokenized question\n",
    "  train_sql_1 = ' '.join(example.tgt)  # detokenized sql\n",
    "  print (f\"Question: {train_text_1}\\n\")\n",
    "  print (f\"SQL: {train_sql_1}\")"
   ]
  },
  {
   "cell_type": "markdown",
   "id": "4304e4b2",
   "metadata": {
    "id": "4304e4b2"
   },
   "source": [
    "## Establishing a SQL database for evaluating ATIS queries\n",
    "\n",
    "The output of our systems will be SQL queries. How should we determine if the generated queries are correct? We can't merely compare against the gold SQL queries, since there are many ways to implement a SQL query that answers any given NL query.\n",
    "\n",
    "Instead, we will execute the queries – both the predicted SQL query and the gold SQL query – on an actual database, and verify that the returned responses are the same. For that purpose, we need a SQL database server to use. We'll set one up here, using the [Python `sqlite3` module](https://docs.python.org/3.8/library/sqlite3.html)."
   ]
  },
  {
   "cell_type": "code",
   "execution_count": 33,
   "id": "75ac7687",
   "metadata": {
    "id": "75ac7687"
   },
   "outputs": [],
   "source": [
    "@func_set_timeout(TIMEOUT)\n",
    "def execute_sql(sql):\n",
    "  conn = sqlite3.connect('data/atis_sqlite.db')  # establish the DB based on the downloaded data\n",
    "  c = conn.cursor()                              # build a \"cursor\"\n",
    "  c.execute(sql)\n",
    "  results = list(c.fetchall())\n",
    "  c.close()\n",
    "  conn.close()\n",
    "  return results"
   ]
  },
  {
   "cell_type": "markdown",
   "id": "07ab6919",
   "metadata": {
    "id": "07ab6919"
   },
   "source": [
    "To run a query, we use the cursor's `execute` function, and retrieve the results with `fetchall`. Let's get all the flights that arrive at General Mitchell International – the query `train_sql_1` above. There's a lot, so we'll just print out the first few."
   ]
  },
  {
   "cell_type": "code",
   "execution_count": 34,
   "id": "e3eceac8",
   "metadata": {
    "colab": {
     "base_uri": "https://localhost:8080/"
    },
    "id": "e3eceac8",
    "outputId": "53fb1240-0ce3-45d5-96aa-e77352516823"
   },
   "outputs": [
    {
     "name": "stdout",
     "output_type": "stream",
     "text": [
      "\n",
      "Executing: SELECT DISTINCT flight_1.flight_id FROM flight flight_1 , airport airport_1 , airport_service airport_service_1 , city city_1 WHERE flight_1.to_airport = airport_1.airport_code AND airport_1.airport_code = 'MKE' AND flight_1.from_airport = airport_service_1.airport_code AND airport_service_1.city_code = city_1.city_code AND 1 = 1\n",
      "\n",
      "Result: 534 entries starting with\n",
      "\n",
      "[(107929,), (107930,), (107931,), (107932,), (107933,), (107934,), (107935,), (107936,), (107937,), (107938,)]\n",
      "\n"
     ]
    }
   ],
   "source": [
    "predicted_ret = execute_sql(train_sql_1)\n",
    "\n",
    "print(f\"\"\"\n",
    "Executing: {train_sql_1}\n",
    "\n",
    "Result: {len(predicted_ret)} entries starting with\n",
    "\n",
    "{predicted_ret[:10]}\n",
    "\"\"\")"
   ]
  },
  {
   "cell_type": "markdown",
   "id": "f041c21c",
   "metadata": {
    "id": "f041c21c"
   },
   "source": [
    "For your reference, the SQL database we are using has a database schema described at https://github.com/jkkummerfeld/text2sql-data/blob/master/data/atis-schema.csv, and is consistent with the SQL queries provided in the various `.sql` files loaded above."
   ]
  },
  {
   "cell_type": "markdown",
   "id": "d5421d47",
   "metadata": {
    "deletable": false,
    "editable": false,
    "id": "d5421d47"
   },
   "source": [
    "# Rule-based parsing and interpretation of ATIS queries\n",
    "\n",
    "First, you will implement a rule-based semantic parser using a grammar like the one you completed in the third project segment. We've placed an initial grammar in the file `data/grammar`.\n",
    "In addition to the helper functions defined above (`constant`, `first`, etc.), it makes use of some other simple functions. We've included those below, but you can (and almost certainly should) augment this set with others that you define as you build out the full set of augmentations.\n",
    "\n",
    "<!--\n",
    "BEGIN QUESTION\n",
    "name: helper_functions\n",
    "-->"
   ]
  },
  {
   "cell_type": "code",
   "execution_count": 35,
   "id": "bbdbcf42",
   "metadata": {
    "id": "bbdbcf42"
   },
   "outputs": [],
   "source": [
    "def upper(term):\n",
    "  return '\"' + term.upper() + '\"'\n",
    "\n",
    "def weekday(day):\n",
    "  return f\"flight.flight_days IN (SELECT days.days_code FROM days WHERE days.day_name = '{day.upper()}')\"\n",
    "\n",
    "def month_name(month):\n",
    "  return {'JANUARY' : 1,\n",
    "          'FEBRUARY' : 2,\n",
    "          'MARCH' : 3,\n",
    "          'APRIL' : 4,\n",
    "          'MAY' : 5,\n",
    "          'JUNE' : 6,\n",
    "          'JULY' : 7,\n",
    "          'AUGUST' : 8,\n",
    "          'SEPTEMBER' : 9,\n",
    "          'OCTOBER' : 10,\n",
    "          'NOVEMBER' : 11,\n",
    "          'DECEMBER' : 12}[month.upper()]\n",
    "\n",
    "def airports_from_airport_name(airport_name):\n",
    "  return f\"(SELECT airport.airport_code FROM airport WHERE airport.airport_name = {upper(airport_name)})\"\n",
    "\n",
    "def airports_from_city(city):\n",
    "  return f\"\"\"\n",
    "    (SELECT airport_service.airport_code FROM airport_service WHERE airport_service.city_code IN\n",
    "      (SELECT city.city_code FROM city WHERE city.city_name = {upper(city)}))\n",
    "  \"\"\"\n",
    "\n",
    "def airports_from_city(city):\n",
    "  return f\"\"\"\n",
    "    (SELECT airport_service.airport_code FROM airport_service WHERE airport_service.city_code IN\n",
    "      (SELECT city.city_code FROM city WHERE city.city_name = {upper(city)}))\n",
    "  \"\"\"\n",
    "\n",
    "def null_condition(*args, **kwargs):\n",
    "  return 1\n",
    "\n",
    "def depart_around(time):\n",
    "  return f\"\"\"\n",
    "    flight.departure_time >= {add_delta(miltime(time), -15).strftime('%H%M')}\n",
    "    AND flight.departure_time <= {add_delta(miltime(time), 15).strftime('%H%M')}\n",
    "    \"\"\".strip()\n",
    "\n",
    "def depart_before(time):\n",
    "  return f\"\"\"\n",
    "    flight.departure_time <= {miltime(time).strftime('%H%M')}\n",
    "    \"\"\".strip()\n",
    "\n",
    "def depart_at(time):\n",
    "  return f\"\"\"\n",
    "    flight.departure_time = {miltime(time).strftime('%H%M')}\n",
    "    \"\"\".strip()\n",
    "\n",
    "def depart_after(time):\n",
    "  return f\"\"\"\n",
    "    flight.departure_time >= {miltime(time).strftime('%H%M')}\n",
    "    \"\"\".strip()\n",
    "\n",
    "\n",
    "def arrive_around(time):\n",
    "  return f\"\"\"\n",
    "    flight.arrival_time >= {add_delta(miltime(time), -15).strftime('%H%M')}\n",
    "    AND flight.arrival_time <= {add_delta(miltime(time), 15).strftime('%H%M')}\n",
    "    \"\"\".strip()\n",
    "\n",
    "def arrive_before(time):\n",
    "  return f\"\"\"\n",
    "    flight.arrival_time <= {miltime(time).strftime('%H%M')}\n",
    "    \"\"\".strip()\n",
    "\n",
    "def arrive_at(time):\n",
    "  return f\"\"\"\n",
    "    flight.arrival_time = {miltime(time).strftime('%H%M')}\n",
    "    \"\"\".strip()\n",
    "\n",
    "def arrive_after(time):\n",
    "  return f\"\"\"\n",
    "    flight.arrival_time >= {miltime(time).strftime('%H%M')}\n",
    "    \"\"\".strip()\n",
    "\n",
    "def add_delta(tme, delta):\n",
    "    # transform to a full datetime first\n",
    "    return (datetime.datetime.combine(datetime.date.today(), tme) + \n",
    "            datetime.timedelta(minutes=delta)).time()\n",
    "\n",
    "def miltime(minutes):\n",
    "  return datetime.time(hour=int(minutes/100), minute=(minutes % 100))\n",
    "\n",
    "def arriving_at(query):\n",
    "  return f\"flight.to_airport IN {query}\"\n",
    "\n",
    "def departing_from(query):\n",
    "  return f\"flight.from_airport IN {query}\"\n",
    "\n",
    "def and_conditions(cond1, cond2):\n",
    "  return f\"({cond1} AND {cond2})\"\n",
    "\n",
    "def or_conditions(cond1, cond2):\n",
    "  return f\"({cond1} OR {cond2})\"\n",
    "\n",
    "def between(place1, place2):\n",
    "  return and_conditions(departing_from(place1), arriving_at(place2))\n",
    "\n",
    "def select_first(first):\n",
    "  return f\"SELECT DISTINCT flight.flight_id FROM flight WHERE {first}\"\n",
    "\n",
    "def select_second(first, second):\n",
    "  return f\"SELECT DISTINCT flight.flight_id FROM flight WHERE {second}\"\n",
    "\n",
    "def condition_airline_ignore(ignore, airline_code):\n",
    "  return f\"flight.airline_code = \\\"{airline_code}\\\"\"\n",
    "\n",
    "def condition_airline(airline_code):\n",
    "  return f\"flight.airline_code = \\\"{airline_code}\\\"\"\n",
    "\n",
    "def layover_at(query):\n",
    "  return f\"flight.flight_id IN (SELECT flight_stop.flight_id from flight_stop WHERE flight_stop.stop_airport IN {query})\"\n"
   ]
  },
  {
   "cell_type": "markdown",
   "id": "020194c9",
   "metadata": {
    "id": "020194c9"
   },
   "source": [
    "We can build a parser with the augmented grammar:"
   ]
  },
  {
   "cell_type": "code",
   "execution_count": 36,
   "id": "1dea1eb4",
   "metadata": {
    "id": "1dea1eb4"
   },
   "outputs": [],
   "source": [
    "atis_grammar, atis_augmentations = xform.read_augmented_grammar('data/grammar', globals=globals())\n",
    "atis_parser = nltk.parse.BottomUpChartParser(atis_grammar)"
   ]
  },
  {
   "cell_type": "markdown",
   "id": "9b3a23a2",
   "metadata": {
    "id": "9b3a23a2"
   },
   "source": [
    "We'll define a function to return a parse tree for a string according to the ATIS grammar (if available)."
   ]
  },
  {
   "cell_type": "code",
   "execution_count": 37,
   "id": "039b53a3",
   "metadata": {
    "id": "039b53a3"
   },
   "outputs": [],
   "source": [
    "def parse_tree(sentence):\n",
    "  \"\"\"Parse a sentence and return the parse tree, or None if failure.\"\"\"\n",
    "  try:\n",
    "    parses = list(atis_parser.parse(tokenize(sentence)))\n",
    "    if len(parses) == 0:\n",
    "      return None\n",
    "    else:\n",
    "      return parses[0]\n",
    "  except:\n",
    "    return None"
   ]
  },
  {
   "cell_type": "markdown",
   "id": "9bb03dbb",
   "metadata": {
    "id": "9bb03dbb"
   },
   "source": [
    "We can check the overall coverage of this grammar on the training set by using the `parse_tree` function to determine if a parse is available. The grammar that we provide should get about a 40% coverage of the training set."
   ]
  },
  {
   "cell_type": "code",
   "execution_count": 38,
   "id": "a983d224",
   "metadata": {
    "colab": {
     "base_uri": "https://localhost:8080/"
    },
    "id": "a983d224",
    "outputId": "bea4c0f3-ec40-47b1-994b-3e1790f06512"
   },
   "outputs": [
    {
     "name": "stderr",
     "output_type": "stream",
     "text": [
      "100%|██████████| 3651/3651 [00:32<00:00, 113.58it/s]"
     ]
    },
    {
     "name": "stdout",
     "output_type": "stream",
     "text": [
      "\n",
      "Parsed 1609 of 3651 (44.07%)\n"
     ]
    },
    {
     "name": "stderr",
     "output_type": "stream",
     "text": [
      "\n"
     ]
    }
   ],
   "source": [
    "# Check coverage on training set\n",
    "parsed = 0\n",
    "with open(\"data/train_flightid.nl\") as train:\n",
    "  examples = train.readlines()[:]\n",
    "for sentence in tqdm(examples):\n",
    "  if parse_tree(sentence):\n",
    "    parsed += 1\n",
    "  else:\n",
    "    next\n",
    "\n",
    "print(f\"\\nParsed {parsed} of {len(examples)} ({parsed*100/(len(examples)):.2f}%)\")"
   ]
  },
  {
   "cell_type": "markdown",
   "id": "972c62f5",
   "metadata": {
    "id": "972c62f5"
   },
   "source": [
    "## Goal 1: Construct SQL queries from a parse tree and evaluate the results"
   ]
  },
  {
   "cell_type": "markdown",
   "id": "c3498567",
   "metadata": {
    "id": "c3498567"
   },
   "source": [
    "It's time to turn to the first major part of this project segment, implementing a rule-based semantic parsing system to answer flight-ID-type ATIS queries.\n",
    "\n",
    "Recall that in rule-based semantic parsing, each syntactic rule is associated with a semantic composition rule. The grammar we've provided has semantic augmentations for some of the low-level phrases – cities, airports, times, airlines – but not the higher level syntactic types. You'll be adding those. \n",
    "\n",
    "In the ATIS grammar that we provide, as with the earlier toy grammars, the augmentation for a rule with $n$ nonterminals and $m$ terminals on the right-hand side is assumed to be called with $n$ positional arguments (the values for the corresponding children). The `interpret` function you've already defined should therefore work well with this grammar.\n",
    "\n",
    "Let's run through one way that a semantic derivation might proceed, for the sample query \"flights to boston\":"
   ]
  },
  {
   "cell_type": "code",
   "execution_count": 39,
   "id": "01a4123d",
   "metadata": {
    "colab": {
     "base_uri": "https://localhost:8080/"
    },
    "id": "01a4123d",
    "outputId": "3a4478aa-9933-4f35-f9b8-6155a73b1c92"
   },
   "outputs": [
    {
     "name": "stdout",
     "output_type": "stream",
     "text": [
      "['flights', 'to', 'boston']\n",
      "                S                         \n",
      "                |                          \n",
      "            NP_FLIGHT                     \n",
      "                |                          \n",
      "            NOM_FLIGHT                    \n",
      "                |                          \n",
      "             N_FLIGHT                     \n",
      "      __________|_________                 \n",
      "     |                    PP              \n",
      "     |                    |                \n",
      "     |                 PP_PLACE           \n",
      "     |           _________|_________       \n",
      "  N_FLIGHT      |                N_PLACE  \n",
      "     |          |                   |      \n",
      "TERM_FLIGHT  P_PLACE            TERM_PLACE\n",
      "     |          |                   |      \n",
      "  flights       to                boston  \n",
      "\n"
     ]
    }
   ],
   "source": [
    "sample_query = \"flights to boston\"\n",
    "print(tokenize(sample_query))\n",
    "sample_tree = parse_tree(sample_query)\n",
    "sample_tree.pretty_print()"
   ]
  },
  {
   "cell_type": "markdown",
   "id": "f014d95c",
   "metadata": {
    "id": "f014d95c"
   },
   "source": [
    "Given a sentence, we first construct its parse tree using the syntactic rules, then compose the corresponding semantic rules bottom-up, until eventually we arrive at the root node with a finished SQL statement. For this query, we will go through what the possible meaning representations for the subconstituents of \"flights to boston\" might be. But this is just one way of doing things; other ways are possible, and you should feel free to experiment.\n",
    "\n",
    "Working from bottom up:\n",
    "\n",
    "1. The `TERM_PLACE` phrase \"boston\" uses the composition function template `constant(airports_from_city(' '.join(_RHS)))`, which will be instantiated as `constant(airports_from_city(' '.join(['boston'])))` (recall that `_RHS` is replaced by the right-hand side of the rule). The meaning of `TERM_PLACE` will be the SQL snippet\n",
    "```\n",
    "SELECT airport_service.airport_code \n",
    "FROM airport_service \n",
    "WHERE airport_service.city_code IN\n",
    "    (SELECT city.city_code \n",
    "     FROM city \n",
    "     WHERE city.city_name = \"BOSTON\")\n",
    "```\n",
    "(This query generates a list of all of the airports in Boston.)\n",
    "\n",
    "2. The `N_PLACE` phrase \"boston\" can have the same meaning as the `TERM_PLACE`.\n",
    "\n",
    "3. The `P_PLACE` phrase \"to\" might be associated with a function that maps a SQL query for a list of airports to a SQL condition that holds of flights that go to one of those airports, i.e., `flight.to_airport IN (...)`.\n",
    "\n",
    "4. The `PP_PLACE` phrase \"to boston\" might apply the `P_PLACE` meaning to the `TERM_PLACE` meaning, thus generating a SQL condition that holds of flights that go to one of the Boston airports:\n",
    "```\n",
    "flight.to_airport IN\n",
    "    (SELECT airport_service.airport_code \n",
    "     FROM airport_service \n",
    "     WHERE airport_service.city_code IN\n",
    "         (SELECT city.city_code \n",
    "          FROM city \n",
    "          WHERE city.city_name = \"BOSTON\")\n",
    "```\n",
    "\n",
    "5. The `PP` phrase \"to Boston\" can again get its meaning from the `PP_PLACE`.\n",
    "\n",
    "6. The `TERM_FLIGHT` phrase \"flights\" might also return a condition on flights, this time the \"null condition\", represented by the SQL truth value `1`. Ditto for the `N_FLIGHT` phrase \"flights\".\n",
    "\n",
    "7. The `N_FLIGHT` phrase \"flights to boston\" can conjoin the two conditions, yielding the SQL condition\n",
    "```\n",
    "flight.to_airport IN\n",
    "    (SELECT airport_service.airport_code \n",
    "     FROM airport_service \n",
    "     WHERE airport_service.city_code IN\n",
    "         (SELECT city.city_code \n",
    "          FROM city \n",
    "          WHERE city.city_name = \"BOSTON\")\n",
    "AND 1\n",
    "```\n",
    "which can be inherited by the `NOM_FLIGHT` and `NP_FLIGHT` phrases.\n",
    "\n",
    "8. The `S` phrase \"flights to boston\" can use the condition provided by the `NP_FLIGHT` phrase to select all flights satisfying the condition with a SQL query like\n",
    "```\n",
    "SELECT DISTINCT flight.flight_id\n",
    "FROM flight\n",
    "WHERE flight.to_airport IN\n",
    "        (SELECT airport_service.airport_code \n",
    "         FROM airport_service \n",
    "         WHERE airport_service.city_code IN\n",
    "             (SELECT city.city_code \n",
    "              FROM city \n",
    "              WHERE city.city_name = \"BOSTON\")\n",
    "      AND 1\n",
    "```\n",
    "\n",
    "This SQL query is then taken to be a representation of the meaning for the NL query \"flights to boston\", and can be executed against the ATIS database to retrieve the requested flights."
   ]
  },
  {
   "cell_type": "markdown",
   "id": "c43a5b8e",
   "metadata": {
    "id": "c43a5b8e"
   },
   "source": [
    "Now, it's your turn to add augmentations to `data/grammar` to make this example work. The augmentations that we have provided for the grammar make use of a set of auxiliary functions that we defined above. You should feel free to add your own auxiliary functions that you make use of in the grammar."
   ]
  },
  {
   "cell_type": "code",
   "execution_count": 40,
   "id": "9268fc7b",
   "metadata": {
    "colab": {
     "base_uri": "https://localhost:8080/"
    },
    "id": "9268fc7b",
    "outputId": "b44bc8f4-7372-4159-fd26-4086d14248c3"
   },
   "outputs": [
    {
     "name": "stdout",
     "output_type": "stream",
     "text": [
      "Predicted SQL:\n",
      "\n",
      " SELECT DISTINCT flight.flight_id FROM flight WHERE (1 AND flight.to_airport IN \n",
      "    (SELECT airport_service.airport_code FROM airport_service WHERE airport_service.city_code IN\n",
      "      (SELECT city.city_code FROM city WHERE city.city_name = \"BOSTON\"))\n",
      "  ) \n",
      "\n"
     ]
    }
   ],
   "source": [
    "#TODO: add augmentations to `data/grammar` to make this example work\n",
    "atis_grammar, atis_augmentations = xform.read_augmented_grammar('data/grammar', globals=globals())\n",
    "atis_parser = nltk.parse.BottomUpChartParser(atis_grammar)\n",
    "predicted_sql = interpret(sample_tree, atis_augmentations)\n",
    "print(\"Predicted SQL:\\n\\n\", predicted_sql, \"\\n\")"
   ]
  },
  {
   "cell_type": "markdown",
   "id": "c5db041c",
   "metadata": {
    "id": "c5db041c"
   },
   "source": [
    "#### Verification on some examples\n",
    "\n",
    "With a rule-based semantic parsing system, we can generate SQL queries given questions, and then execute those queries on a SQL database to answer the given questions. To evaluate the performance of the system, we compare the returned results against the results of executing the ground truth queries.\n",
    "\n",
    "We provide a function `verify` to compare the results from our generated SQL to the ground truth SQL. It should be useful for testing individual queries."
   ]
  },
  {
   "cell_type": "code",
   "execution_count": 41,
   "id": "b82cc713",
   "metadata": {
    "id": "b82cc713"
   },
   "outputs": [],
   "source": [
    "def verify(predicted_sql, gold_sql, silent=True):\n",
    "  \"\"\"\n",
    "  Compare the correctness of the generated SQL by executing on the \n",
    "  ATIS database and comparing the returned results.\n",
    "  Arguments:\n",
    "      predicted_sql: the predicted SQL query\n",
    "      gold_sql: the reference SQL query to compare against\n",
    "      silent: print outputs or not\n",
    "  Returns: True if the returned results are the same, otherwise False\n",
    "  \"\"\"\n",
    "  # Execute predicted SQL\n",
    "  try:\n",
    "    predicted_result = execute_sql(predicted_sql)\n",
    "  except BaseException as e:\n",
    "    if not silent:\n",
    "      print(f\"predicted sql exec failed: {e}\")\n",
    "    return False\n",
    "  if not silent:\n",
    "    print(\"Predicted DB result:\\n\\n\", predicted_result[:10], \"\\n\")\n",
    "\n",
    "  # Execute gold SQL\n",
    "  try:\n",
    "    gold_result = execute_sql(gold_sql)\n",
    "  except BaseException as e:\n",
    "    if not silent:\n",
    "      print(f\"gold sql exec failed: {e}\")\n",
    "    return False\n",
    "  if not silent:\n",
    "    print(\"Gold DB result:\\n\\n\", gold_result[:10], \"\\n\")\n",
    "  \n",
    "  # Verify correctness\n",
    "  if gold_result == predicted_result:\n",
    "    return True"
   ]
  },
  {
   "cell_type": "markdown",
   "id": "2fd6ac11",
   "metadata": {
    "id": "2fd6ac11"
   },
   "source": [
    "Let's try this methodology on a simple example: \"flights from phoenix to milwaukee\". we provide it along with the gold SQL query."
   ]
  },
  {
   "cell_type": "code",
   "execution_count": 42,
   "id": "a78b05b9",
   "metadata": {
    "id": "a78b05b9"
   },
   "outputs": [],
   "source": [
    "def rule_based_trial(sentence, gold_sql):\n",
    "  print(\"Sentence: \", sentence, \"\\n\")\n",
    "  tree = parse_tree(sentence)\n",
    "  print(\"Parse:\\n\\n\")\n",
    "  tree.pretty_print()\n",
    "\n",
    "  predicted_sql = interpret(tree, atis_augmentations)\n",
    "  print(\"Predicted SQL:\\n\\n\", predicted_sql, \"\\n\")\n",
    "\n",
    "  if verify(predicted_sql, gold_sql, silent=False):\n",
    "    print ('Correct!')\n",
    "  else:\n",
    "    print ('Incorrect!')"
   ]
  },
  {
   "cell_type": "code",
   "execution_count": 43,
   "id": "7664aebf",
   "metadata": {
    "id": "7664aebf"
   },
   "outputs": [],
   "source": [
    "# Run this cell to reload augmentations after you make changes to `data/grammar`\n",
    "atis_grammar, atis_augmentations = xform.read_augmented_grammar('data/grammar', globals=globals())\n",
    "atis_parser = nltk.parse.BottomUpChartParser(atis_grammar)"
   ]
  },
  {
   "cell_type": "code",
   "execution_count": 44,
   "id": "253b1e15",
   "metadata": {
    "colab": {
     "base_uri": "https://localhost:8080/"
    },
    "id": "253b1e15",
    "outputId": "574e845c-b0bc-495f-fe9a-a2328a45daba"
   },
   "outputs": [
    {
     "name": "stdout",
     "output_type": "stream",
     "text": [
      "Sentence:  flights from phoenix to milwaukee \n",
      "\n",
      "Parse:\n",
      "\n",
      "\n",
      "                                  S                                 \n",
      "                                  |                                  \n",
      "                              NP_FLIGHT                             \n",
      "                                  |                                  \n",
      "                              NOM_FLIGHT                            \n",
      "                                  |                                  \n",
      "                               N_FLIGHT                             \n",
      "                __________________|_________________                 \n",
      "            N_FLIGHT                                |               \n",
      "      _________|________                            |                \n",
      "     |                  PP                          PP              \n",
      "     |                  |                           |                \n",
      "     |               PP_PLACE                    PP_PLACE           \n",
      "     |          ________|_________           _______|_________       \n",
      "  N_FLIGHT     |               N_PLACE      |              N_PLACE  \n",
      "     |         |                  |         |                 |      \n",
      "TERM_FLIGHT P_PLACE           TERM_PLACE P_PLACE          TERM_PLACE\n",
      "     |         |                  |         |                 |      \n",
      "  flights     from             phoenix      to            milwaukee \n",
      "\n",
      "Predicted SQL:\n",
      "\n",
      " SELECT DISTINCT flight.flight_id FROM flight WHERE ((1 AND flight.from_airport IN \n",
      "    (SELECT airport_service.airport_code FROM airport_service WHERE airport_service.city_code IN\n",
      "      (SELECT city.city_code FROM city WHERE city.city_name = \"PHOENIX\"))\n",
      "  ) AND flight.to_airport IN \n",
      "    (SELECT airport_service.airport_code FROM airport_service WHERE airport_service.city_code IN\n",
      "      (SELECT city.city_code FROM city WHERE city.city_name = \"MILWAUKEE\"))\n",
      "  ) \n",
      "\n",
      "Predicted DB result:\n",
      "\n",
      " [(108086,), (108087,), (301763,), (301764,), (301765,), (301766,), (302323,), (304881,), (310619,), (310620,)] \n",
      "\n",
      "Gold DB result:\n",
      "\n",
      " [(108086,), (108087,), (301763,), (301764,), (301765,), (301766,), (302323,), (304881,), (310619,), (310620,)] \n",
      "\n",
      "Correct!\n"
     ]
    }
   ],
   "source": [
    "#TODO: add augmentations to `data/grammar` to make this example work\n",
    "# Example 1\n",
    "example_1 = 'flights from phoenix to milwaukee'\n",
    "gold_sql_1 = \"\"\"\n",
    "  SELECT DISTINCT flight_1.flight_id \n",
    "  FROM flight flight_1 , \n",
    "       airport_service airport_service_1 , \n",
    "       city city_1 , \n",
    "       airport_service airport_service_2 , \n",
    "       city city_2 \n",
    "  WHERE flight_1.from_airport = airport_service_1.airport_code \n",
    "        AND airport_service_1.city_code = city_1.city_code \n",
    "        AND city_1.city_name = 'PHOENIX' \n",
    "        AND flight_1.to_airport = airport_service_2.airport_code \n",
    "        AND airport_service_2.city_code = city_2.city_code \n",
    "        AND city_2.city_name = 'MILWAUKEE'\n",
    "  \"\"\"\n",
    "\n",
    "rule_based_trial(example_1, gold_sql_1)"
   ]
  },
  {
   "cell_type": "markdown",
   "id": "ef9abdb5",
   "metadata": {
    "id": "ef9abdb5"
   },
   "source": [
    "To make development faster, we recommend starting with a few examples before running the full evaluation script. We've taken some examples from the ATIS dataset including the gold SQL queries that they provided. Of course, yours (and those of the project segment solution set) may differ."
   ]
  },
  {
   "cell_type": "code",
   "execution_count": 45,
   "id": "ca05a9e5",
   "metadata": {
    "colab": {
     "base_uri": "https://localhost:8080/"
    },
    "id": "ca05a9e5",
    "outputId": "eb48c858-fc87-4bb9-db5c-d66d5dd6a97d"
   },
   "outputs": [
    {
     "name": "stdout",
     "output_type": "stream",
     "text": [
      "Sentence:  i would like a united flight \n",
      "\n",
      "Parse:\n",
      "\n",
      "\n",
      "                                                 S                                                                      \n",
      "                                     ____________|____________________________________________________                   \n",
      "                                    |                                                             NP_FLIGHT             \n",
      "                                    |                                                                 |                  \n",
      "                                PREIGNORE                                                         NOM_FLIGHT            \n",
      "        ____________________________|____________                                          ___________|___________       \n",
      "       |                                     PREIGNORE                                   ADJ                      |     \n",
      "       |                _________________________|____________                            |                       |      \n",
      "       |               |                                  PREIGNORE                  ADJ_AIRLINE              NOM_FLIGHT\n",
      "       |               |                          ____________|____________               |                       |      \n",
      "       |               |                         |                     PREIGNORE     TERM_AIRLINE              N_FLIGHT \n",
      "       |               |                         |                         |              |                       |      \n",
      "PREIGNORESYMBOL PREIGNORESYMBOL           PREIGNORESYMBOL           PREIGNORESYMBOL TERM_AIRBRAND            TERM_FLIGHT\n",
      "       |               |                         |                         |              |                       |      \n",
      "       i             would                      like                       a            united                  flight  \n",
      "\n",
      "Predicted SQL:\n",
      "\n",
      " SELECT DISTINCT flight.flight_id FROM flight WHERE (flight.airline_code = \"UA\" AND 1) \n",
      "\n",
      "Predicted DB result:\n",
      "\n",
      " [(100094,), (100099,), (100145,), (100158,), (100164,), (100167,), (100169,), (100203,), (100204,), (100296,)] \n",
      "\n",
      "Gold DB result:\n",
      "\n",
      " [(100094,), (100099,), (100145,), (100158,), (100164,), (100167,), (100169,), (100203,), (100204,), (100296,)] \n",
      "\n",
      "Correct!\n"
     ]
    }
   ],
   "source": [
    "#TODO: add augmentations to `data/grammar` to make this example work\n",
    "# Example 2\n",
    "example_2 = 'i would like a united flight'\n",
    "gold_sql_2 = \"\"\"\n",
    "  SELECT DISTINCT flight_1.flight_id\n",
    "  FROM flight flight_1 \n",
    "  WHERE flight_1.airline_code = 'UA'\n",
    "  \"\"\"\n",
    "\n",
    "rule_based_trial(example_2, gold_sql_2)"
   ]
  },
  {
   "cell_type": "code",
   "execution_count": 46,
   "id": "8fb14aeb",
   "metadata": {
    "colab": {
     "base_uri": "https://localhost:8080/"
    },
    "id": "8fb14aeb",
    "outputId": "75d65ce0-08ee-431d-8a98-97e3cdb3186e",
    "scrolled": false
   },
   "outputs": [
    {
     "name": "stdout",
     "output_type": "stream",
     "text": [
      "Sentence:  i would like a flight between boston and dallas \n",
      "\n",
      "Parse:\n",
      "\n",
      "\n",
      "                                                                                         S                                               \n",
      "                                     ____________________________________________________|__________                                      \n",
      "                                    |                                                           NP_FLIGHT                                \n",
      "                                    |                                                               |                                     \n",
      "                                    |                                                           NOM_FLIGHT                               \n",
      "                                    |                                                               |                                     \n",
      "                                PREIGNORE                                                        N_FLIGHT                                \n",
      "        ____________________________|____________                                         __________|_________                            \n",
      "       |                                     PREIGNORE                                   |                    PP                         \n",
      "       |                _________________________|____________                           |                    |                           \n",
      "       |               |                                  PREIGNORE                      |                 PP_PLACE                      \n",
      "       |               |                          ____________|____________              |           _________|____________________       \n",
      "       |               |                         |                     PREIGNORE      N_FLIGHT      |         |      N_PLACE    N_PLACE  \n",
      "       |               |                         |                         |             |          |         |         |          |      \n",
      "PREIGNORESYMBOL PREIGNORESYMBOL           PREIGNORESYMBOL           PREIGNORESYMBOL TERM_FLIGHT     |         |     TERM_PLACE TERM_PLACE\n",
      "       |               |                         |                         |             |          |         |         |          |      \n",
      "       i             would                      like                       a           flight    between     and      boston     dallas  \n",
      "\n",
      "Predicted SQL:\n",
      "\n",
      " SELECT DISTINCT flight.flight_id FROM flight WHERE (1 AND (flight.from_airport IN \n",
      "    (SELECT airport_service.airport_code FROM airport_service WHERE airport_service.city_code IN\n",
      "      (SELECT city.city_code FROM city WHERE city.city_name = \"BOSTON\"))\n",
      "   AND flight.to_airport IN \n",
      "    (SELECT airport_service.airport_code FROM airport_service WHERE airport_service.city_code IN\n",
      "      (SELECT city.city_code FROM city WHERE city.city_name = \"DALLAS\"))\n",
      "  )) \n",
      "\n",
      "Predicted DB result:\n",
      "\n",
      " [(103171,), (103172,), (103173,), (103174,), (103175,), (103176,), (103177,), (103178,), (103179,), (103180,)] \n",
      "\n",
      "Gold DB result:\n",
      "\n",
      " [(103171,), (103172,), (103173,), (103174,), (103175,), (103176,), (103177,), (103178,), (103179,), (103180,)] \n",
      "\n",
      "Correct!\n"
     ]
    }
   ],
   "source": [
    "# TODO: add augmentations to `data/grammar` to make this example work\n",
    "# Example 3\n",
    "example_3 = 'i would like a flight between boston and dallas'\n",
    "gold_sql_3 = \"\"\"\n",
    "  SELECT DISTINCT flight_1.flight_id \n",
    "  FROM flight flight_1 , \n",
    "       airport_service airport_service_1 , \n",
    "       city city_1 , \n",
    "       airport_service airport_service_2 , \n",
    "       city city_2 \n",
    "  WHERE flight_1.from_airport = airport_service_1.airport_code \n",
    "        AND airport_service_1.city_code = city_1.city_code \n",
    "        AND city_1.city_name = 'BOSTON' \n",
    "        AND flight_1.to_airport = airport_service_2.airport_code \n",
    "        AND airport_service_2.city_code = city_2.city_code \n",
    "        AND city_2.city_name = 'DALLAS'\n",
    "  \"\"\"\n",
    "\n",
    "# Note that the parse tree might appear wrong: instead of\n",
    "# `PP_PLACE -> 'between' N_PLACE 'and' N_PLACE`, the tree appears to be\n",
    "# `PP_PLACE -> 'between' 'and' N_PLACE N_PLACE`. But it's only a visualization\n",
    "# error of tree.pretty_print() and you should assume that the production is\n",
    "# `PP_PLACE -> 'between' N_PLACE 'and' N_PLACE` (you can verify by printing out\n",
    "# all productions).\n",
    "rule_based_trial(example_3, gold_sql_3)"
   ]
  },
  {
   "cell_type": "code",
   "execution_count": 47,
   "id": "ad94ef6b",
   "metadata": {
    "colab": {
     "base_uri": "https://localhost:8080/"
    },
    "id": "ad94ef6b",
    "outputId": "9e228919-8cc7-43ce-cfdf-5c5e6b02ad87"
   },
   "outputs": [
    {
     "name": "stdout",
     "output_type": "stream",
     "text": [
      "Sentence:  show me the united flights from denver to baltimore \n",
      "\n",
      "Parse:\n",
      "\n",
      "\n",
      "                                                                             S                                                                \n",
      "                        _____________________________________________________|__________                                                       \n",
      "                       |                                                            NP_FLIGHT                                                 \n",
      "                       |                                                                |                                                      \n",
      "                       |                                                            NOM_FLIGHT                                                \n",
      "                       |                                         _______________________|___________________                                   \n",
      "                       |                                        |                                       NOM_FLIGHT                            \n",
      "                       |                                        |                                           |                                  \n",
      "                       |                                        |                                        N_FLIGHT                             \n",
      "                       |                                        |                        ___________________|_________________                 \n",
      "                       |                                        |                    N_FLIGHT                                 |               \n",
      "                       |                                        |             __________|_________                            |                \n",
      "                   PREIGNORE                                   ADJ           |                    PP                          PP              \n",
      "        _______________|____________                            |            |                    |                           |                \n",
      "       |                        PREIGNORE                  ADJ_AIRLINE       |                 PP_PLACE                    PP_PLACE           \n",
      "       |                ____________|____________               |            |           _________|_________           _______|_________       \n",
      "       |               |                     PREIGNORE     TERM_AIRLINE   N_FLIGHT      |                N_PLACE      |              N_PLACE  \n",
      "       |               |                         |              |            |          |                   |         |                 |      \n",
      "PREIGNORESYMBOL PREIGNORESYMBOL           PREIGNORESYMBOL TERM_AIRBRAND TERM_FLIGHT  P_PLACE            TERM_PLACE P_PLACE          TERM_PLACE\n",
      "       |               |                         |              |            |          |                   |         |                 |      \n",
      "      show             me                       the           united      flights      from               denver      to            baltimore \n",
      "\n",
      "Predicted SQL:\n",
      "\n",
      " SELECT DISTINCT flight.flight_id FROM flight WHERE (flight.airline_code = \"UA\" AND ((1 AND flight.from_airport IN \n",
      "    (SELECT airport_service.airport_code FROM airport_service WHERE airport_service.city_code IN\n",
      "      (SELECT city.city_code FROM city WHERE city.city_name = \"DENVER\"))\n",
      "  ) AND flight.to_airport IN \n",
      "    (SELECT airport_service.airport_code FROM airport_service WHERE airport_service.city_code IN\n",
      "      (SELECT city.city_code FROM city WHERE city.city_name = \"BALTIMORE\"))\n",
      "  )) \n",
      "\n",
      "Predicted DB result:\n",
      "\n",
      " [(101231,), (101233,), (305983,)] \n",
      "\n",
      "Gold DB result:\n",
      "\n",
      " [(101231,), (101233,), (305983,)] \n",
      "\n",
      "Correct!\n"
     ]
    }
   ],
   "source": [
    "#TODO: add augmentations to `data/grammar` to make this example work\n",
    "# Example 4\n",
    "example_4 = 'show me the united flights from denver to baltimore'\n",
    "gold_sql_4 = \"\"\"\n",
    "  SELECT DISTINCT flight_1.flight_id \n",
    "  FROM flight flight_1 , \n",
    "       airport_service airport_service_1 , \n",
    "       city city_1 , \n",
    "       airport_service airport_service_2 , \n",
    "       city city_2 \n",
    "  WHERE flight_1.airline_code = 'UA' \n",
    "        AND ( flight_1.from_airport = airport_service_1.airport_code \n",
    "              AND airport_service_1.city_code = city_1.city_code \n",
    "              AND city_1.city_name = 'DENVER' \n",
    "              AND flight_1.to_airport = airport_service_2.airport_code \n",
    "              AND airport_service_2.city_code = city_2.city_code \n",
    "              AND city_2.city_name = 'BALTIMORE' )\n",
    "\n",
    "  \"\"\"\n",
    "\n",
    "rule_based_trial(example_4, gold_sql_4)"
   ]
  },
  {
   "cell_type": "code",
   "execution_count": 48,
   "id": "bbad5c41",
   "metadata": {
    "colab": {
     "base_uri": "https://localhost:8080/"
    },
    "id": "bbad5c41",
    "outputId": "84a39dd7-b6af-406e-a607-dea59bdf3fec"
   },
   "outputs": [
    {
     "name": "stdout",
     "output_type": "stream",
     "text": [
      "Sentence:  show flights from cleveland to miami that arrive before 4pm \n",
      "\n",
      "Parse:\n",
      "\n",
      "\n",
      "                               S                                                                                                         \n",
      "        _______________________|______________________________________________                                                            \n",
      "       |                                                                  NP_FLIGHT                                                      \n",
      "       |                                                                      |                                                           \n",
      "       |                                                                  NOM_FLIGHT                                                     \n",
      "       |                                                                      |                                                           \n",
      "       |                                                                   N_FLIGHT                                                      \n",
      "       |                                           ___________________________|_____________________                                      \n",
      "       |                                       N_FLIGHT                                             |                                    \n",
      "       |                        __________________|_________________                                |                                     \n",
      "       |                    N_FLIGHT                                |                               PP                                   \n",
      "       |              _________|________                            |                               |                                     \n",
      "       |             |                  PP                          PP                           PP_TIME                                 \n",
      "       |             |                  |                           |                        _______|__________________                   \n",
      "       |             |               PP_PLACE                    PP_PLACE                   |                       NP_TIME              \n",
      "       |             |          ________|_________           _______|_________              |                          |                  \n",
      "   PREIGNORE      N_FLIGHT     |               N_PLACE      |              N_PLACE          |                      TERM_TIME             \n",
      "       |             |         |                  |         |                 |             |                 _________|__________        \n",
      "PREIGNORESYMBOL TERM_FLIGHT P_PLACE           TERM_PLACE P_PLACE          TERM_PLACE      P_TIME         TERM_TIME           TERM_TIMEMOD\n",
      "       |             |         |                  |         |                 |        _____|_______         |                    |       \n",
      "      show        flights     from            cleveland     to              miami    that arrive  before     4                    pm     \n",
      "\n",
      "Predicted SQL:\n",
      "\n",
      " SELECT DISTINCT flight.flight_id FROM flight WHERE (((1 AND flight.from_airport IN \n",
      "    (SELECT airport_service.airport_code FROM airport_service WHERE airport_service.city_code IN\n",
      "      (SELECT city.city_code FROM city WHERE city.city_name = \"CLEVELAND\"))\n",
      "  ) AND flight.to_airport IN \n",
      "    (SELECT airport_service.airport_code FROM airport_service WHERE airport_service.city_code IN\n",
      "      (SELECT city.city_code FROM city WHERE city.city_name = \"MIAMI\"))\n",
      "  ) AND flight.arrival_time <= 1600) \n",
      "\n",
      "Predicted DB result:\n",
      "\n",
      " [(107698,), (301117,)] \n",
      "\n",
      "Gold DB result:\n",
      "\n",
      " [(107698,), (301117,)] \n",
      "\n",
      "Correct!\n"
     ]
    }
   ],
   "source": [
    "#TODO: add augmentations to `data/grammar` to make this example work\n",
    "# Example 5\n",
    "example_5 = 'show flights from cleveland to miami that arrive before 4pm'\n",
    "gold_sql_5 = \"\"\"\n",
    "  SELECT DISTINCT flight_1.flight_id \n",
    "  FROM flight flight_1 , \n",
    "       airport_service airport_service_1 , \n",
    "       city city_1 , \n",
    "       airport_service airport_service_2 , \n",
    "       city city_2 \n",
    "  WHERE flight_1.from_airport = airport_service_1.airport_code \n",
    "        AND airport_service_1.city_code = city_1.city_code \n",
    "        AND city_1.city_name = 'CLEVELAND' \n",
    "        AND ( flight_1.to_airport = airport_service_2.airport_code \n",
    "              AND airport_service_2.city_code = city_2.city_code \n",
    "              AND city_2.city_name = 'MIAMI' \n",
    "              AND flight_1.arrival_time < 1600 )\n",
    "  \"\"\"\n",
    "\n",
    "rule_based_trial(example_5, gold_sql_5)"
   ]
  },
  {
   "cell_type": "code",
   "execution_count": 49,
   "id": "6dcd33a2",
   "metadata": {
    "colab": {
     "base_uri": "https://localhost:8080/"
    },
    "id": "6dcd33a2",
    "outputId": "dcb74f84-ff74-421b-aef9-7727eae5a12c"
   },
   "outputs": [
    {
     "name": "stdout",
     "output_type": "stream",
     "text": [
      "Sentence:  okay how about a flight on sunday from tampa to charlotte \n",
      "\n",
      "Parse:\n",
      "\n",
      "\n",
      "                                                                                                   S                                                                                    \n",
      "                                     ______________________________________________________________|______________________________                                                       \n",
      "                                    |                                                                                         NP_FLIGHT                                                 \n",
      "                                    |                                                                                             |                                                      \n",
      "                                    |                                                                                         NOM_FLIGHT                                                \n",
      "                                    |                                                                                             |                                                      \n",
      "                                    |                                                                                          N_FLIGHT                                                 \n",
      "                                    |                                                                                  ___________|_____________________________________                 \n",
      "                                    |                                                                              N_FLIGHT                                             |               \n",
      "                                    |                                                               __________________|_____________________                            |                \n",
      "                                PREIGNORE                                                       N_FLIGHT                                    |                           |               \n",
      "        ____________________________|____________                                         _________|________                                |                           |                \n",
      "       |                                     PREIGNORE                                   |                  PP                              PP                          PP              \n",
      "       |                _________________________|____________                           |                  |                               |                           |                \n",
      "       |               |                                  PREIGNORE                      |               PP_DATE                         PP_PLACE                    PP_PLACE           \n",
      "       |               |                          ____________|____________              |          ________|_________             _________|_________           _______|_________       \n",
      "       |               |                         |                     PREIGNORE      N_FLIGHT     |               NP_DATE        |                N_PLACE      |              N_PLACE  \n",
      "       |               |                         |                         |             |         |                  |           |                   |         |                 |      \n",
      "PREIGNORESYMBOL PREIGNORESYMBOL           PREIGNORESYMBOL           PREIGNORESYMBOL TERM_FLIGHT  P_DATE          TERM_WEEKDAY  P_PLACE            TERM_PLACE P_PLACE          TERM_PLACE\n",
      "       |               |                         |                         |             |         |                  |           |                   |         |                 |      \n",
      "      okay            how                      about                       a           flight      on               sunday       from               tampa       to            charlotte \n",
      "\n",
      "Predicted SQL:\n",
      "\n",
      " SELECT DISTINCT flight.flight_id FROM flight WHERE (((1 AND flight.flight_days IN (SELECT days.days_code FROM days WHERE days.day_name = 'SUNDAY')) AND flight.from_airport IN \n",
      "    (SELECT airport_service.airport_code FROM airport_service WHERE airport_service.city_code IN\n",
      "      (SELECT city.city_code FROM city WHERE city.city_name = \"TAMPA\"))\n",
      "  ) AND flight.to_airport IN \n",
      "    (SELECT airport_service.airport_code FROM airport_service WHERE airport_service.city_code IN\n",
      "      (SELECT city.city_code FROM city WHERE city.city_name = \"CHARLOTTE\"))\n",
      "  ) \n",
      "\n",
      "Predicted DB result:\n",
      "\n",
      " [(101860,), (101861,), (101862,), (101863,), (101864,), (101865,), (305231,)] \n",
      "\n",
      "Gold DB result:\n",
      "\n",
      " [(101860,), (101861,), (101862,), (101863,), (101864,), (101865,), (305231,)] \n",
      "\n",
      "Correct!\n"
     ]
    }
   ],
   "source": [
    "\n",
    "#TODO: add augmentations to `data/grammar` to make this example work\n",
    "# Example 6\n",
    "example_6 = 'okay how about a flight on sunday from tampa to charlotte'\n",
    "gold_sql_6 = \"\"\"\n",
    "  SELECT DISTINCT flight_1.flight_id \n",
    "  FROM flight flight_1 , \n",
    "       airport_service airport_service_1 , \n",
    "       city city_1 , \n",
    "       airport_service airport_service_2 , \n",
    "       city city_2 , \n",
    "       days days_1 , \n",
    "       date_day date_day_1 \n",
    "  WHERE flight_1.from_airport = airport_service_1.airport_code \n",
    "        AND airport_service_1.city_code = city_1.city_code \n",
    "        AND city_1.city_name = 'TAMPA' \n",
    "        AND ( flight_1.to_airport = airport_service_2.airport_code \n",
    "              AND airport_service_2.city_code = city_2.city_code \n",
    "              AND city_2.city_name = 'CHARLOTTE' \n",
    "              AND flight_1.flight_days = days_1.days_code \n",
    "              AND days_1.day_name = date_day_1.day_name \n",
    "              AND date_day_1.year = 1991 \n",
    "              AND date_day_1.month_number = 8 \n",
    "              AND date_day_1.day_number = 27 )\n",
    "  \"\"\"\n",
    "\n",
    "# You might notice that the gold answer above used the exact date, which is\n",
    "# not easily implementable. A more implementable way (generated by the project \n",
    "# segment 4 solution code) is:\n",
    "gold_sql_6b = \"\"\"\n",
    "  SELECT DISTINCT flight.flight_id \n",
    "  FROM flight \n",
    "  WHERE ((((1 \n",
    "            AND flight.flight_days IN (SELECT days.days_code \n",
    "                                       FROM days \n",
    "                                       WHERE days.day_name = 'SUNDAY')\n",
    "            ) \n",
    "           AND flight.from_airport IN (SELECT airport_service.airport_code \n",
    "                                       FROM airport_service \n",
    "                                       WHERE airport_service.city_code IN (SELECT city.city_code \n",
    "                                                                           FROM city \n",
    "                                                                           WHERE city.city_name = \"TAMPA\"))) \n",
    "          AND flight.to_airport IN (SELECT airport_service.airport_code \n",
    "                                    FROM airport_service \n",
    "                                    WHERE airport_service.city_code IN (SELECT city.city_code \n",
    "                                                                        FROM city \n",
    "                                                                        WHERE city.city_name = \"CHARLOTTE\")))) \n",
    "  \"\"\"\n",
    "\n",
    "rule_based_trial(example_6, gold_sql_6b)"
   ]
  },
  {
   "cell_type": "code",
   "execution_count": 50,
   "id": "3674a318",
   "metadata": {
    "colab": {
     "base_uri": "https://localhost:8080/"
    },
    "id": "3674a318",
    "outputId": "1cd34db7-76b2-4ee9-ab13-ce27aa40f1fe",
    "scrolled": false
   },
   "outputs": [
    {
     "name": "stdout",
     "output_type": "stream",
     "text": [
      "Sentence:  list all flights going from boston to atlanta that leaves before 7 am on thursday \n",
      "\n",
      "Parse:\n",
      "\n",
      "\n",
      "                                  S                                                                                                                                                  \n",
      "        __________________________|_____________________________________________________                                                                                              \n",
      "       |                                                                            NP_FLIGHT                                                                                        \n",
      "       |          ______________________________________________________________________|__________                                                                                   \n",
      "       |         |                                                                             NOM_FLIGHT                                                                            \n",
      "       |         |                                                                                 |                                                                                  \n",
      "       |         |                                                                              N_FLIGHT                                                                             \n",
      "       |         |                                                                       __________|________________________________________________________________                  \n",
      "       |         |                                                                   N_FLIGHT                                                                       |                \n",
      "       |         |                                 _____________________________________|___________________________                                                |                 \n",
      "       |         |                             N_FLIGHT                                                             |                                               |                \n",
      "       |         |                        ________|___________________________                                      |                                               |                 \n",
      "       |         |                    N_FLIGHT                                |                                     PP                                              |                \n",
      "       |         |        _______________|________                            |                                     |                                               |                 \n",
      "       |         |       |                        PP                          PP                                 PP_TIME                                            PP               \n",
      "       |         |       |                        |                           |                              _______|__________________                             |                 \n",
      "       |         |       |                     PP_PLACE                    PP_PLACE                         |                       NP_TIME                      PP_DATE             \n",
      "       |         |       |                ________|_________           _______|_________                    |                          |                     _______|_________        \n",
      "   PREIGNORE     |    N_FLIGHT           |               N_PLACE      |              N_PLACE                |                      TERM_TIME                |              NP_DATE   \n",
      "       |         |       |               |                  |         |                 |                   |                 _________|__________          |                 |       \n",
      "PREIGNORESYMBOL DET TERM_FLIGHT       P_PLACE           TERM_PLACE P_PLACE          TERM_PLACE            P_TIME         TERM_TIME           TERM_TIMEMOD P_DATE         TERM_WEEKDAY\n",
      "       |         |       |         ______|________          |         |                 |           ________|_______         |                    |         |                 |       \n",
      "      list      all   flights   going            from     boston      to             atlanta      that    leaves  before     7                    am        on             thursday  \n",
      "\n",
      "Predicted SQL:\n",
      "\n",
      " SELECT DISTINCT flight.flight_id FROM flight WHERE (1 AND ((((1 AND flight.from_airport IN \n",
      "    (SELECT airport_service.airport_code FROM airport_service WHERE airport_service.city_code IN\n",
      "      (SELECT city.city_code FROM city WHERE city.city_name = \"BOSTON\"))\n",
      "  ) AND flight.to_airport IN \n",
      "    (SELECT airport_service.airport_code FROM airport_service WHERE airport_service.city_code IN\n",
      "      (SELECT city.city_code FROM city WHERE city.city_name = \"ATLANTA\"))\n",
      "  ) AND flight.departure_time <= 0700) AND flight.flight_days IN (SELECT days.days_code FROM days WHERE days.day_name = 'THURSDAY'))) \n",
      "\n",
      "Predicted DB result:\n",
      "\n",
      " [(100014,)] \n",
      "\n",
      "Gold DB result:\n",
      "\n",
      " [(100014,)] \n",
      "\n",
      "Correct!\n"
     ]
    }
   ],
   "source": [
    "#TODO: add augmentations to `data/grammar` to make this example work\n",
    "# Example 7\n",
    "example_7 = 'list all flights going from boston to atlanta that leaves before 7 am on thursday'\n",
    "gold_sql_7 = \"\"\"\n",
    "  SELECT DISTINCT flight_1.flight_id \n",
    "  FROM flight flight_1 , \n",
    "       airport_service airport_service_1 , \n",
    "       city city_1 , \n",
    "       airport_service airport_service_2 , \n",
    "       city city_2 , \n",
    "       days days_1 , \n",
    "       date_day date_day_1 \n",
    "  WHERE flight_1.from_airport = airport_service_1.airport_code \n",
    "        AND airport_service_1.city_code = city_1.city_code \n",
    "        AND city_1.city_name = 'BOSTON' \n",
    "        AND ( flight_1.to_airport = airport_service_2.airport_code \n",
    "              AND airport_service_2.city_code = city_2.city_code \n",
    "              AND city_2.city_name = 'ATLANTA' \n",
    "              AND ( flight_1.flight_days = days_1.days_code \n",
    "                    AND days_1.day_name = date_day_1.day_name \n",
    "                    AND date_day_1.year = 1991 \n",
    "                    AND date_day_1.month_number = 5 \n",
    "                    AND date_day_1.day_number = 24 \n",
    "                    AND flight_1.departure_time < 700 ) )\n",
    "  \"\"\"\n",
    "\n",
    "# Again, the gold answer above used the exact date, as opposed to the \n",
    "# following approach:\n",
    "gold_sql_7b = \"\"\"\n",
    "  SELECT DISTINCT flight.flight_id \n",
    "  FROM flight \n",
    "  WHERE ((1 \n",
    "          AND ((((1 \n",
    "                  AND flight.from_airport IN (SELECT airport_service.airport_code \n",
    "                                              FROM airport_service \n",
    "                                              WHERE airport_service.city_code IN (SELECT city.city_code \n",
    "                                                                                  FROM city \n",
    "                                                                                  WHERE city.city_name = \"BOSTON\")))\n",
    "                 AND flight.to_airport IN (SELECT airport_service.airport_code \n",
    "                                           FROM airport_service\n",
    "                                           WHERE airport_service.city_code IN (SELECT city.city_code \n",
    "                                                                               FROM city \n",
    "                                                                               WHERE city.city_name = \"ATLANTA\"))) \n",
    "                AND flight.departure_time <= 0700) \n",
    "               AND flight.flight_days IN (SELECT days.days_code \n",
    "                                          FROM days \n",
    "                                          WHERE days.day_name = 'THURSDAY')))) \n",
    "  \"\"\"\n",
    "\n",
    "rule_based_trial(example_7, gold_sql_7b)"
   ]
  },
  {
   "cell_type": "code",
   "execution_count": 51,
   "id": "78be132d",
   "metadata": {
    "colab": {
     "base_uri": "https://localhost:8080/"
    },
    "id": "78be132d",
    "outputId": "134c9873-592e-4f83-eab8-da602887edd6"
   },
   "outputs": [
    {
     "name": "stdout",
     "output_type": "stream",
     "text": [
      "Sentence:  list the flights from dallas to san francisco on american airlines \n",
      "\n",
      "Parse:\n",
      "\n",
      "\n",
      "                                                                                      S                                                                                         \n",
      "                     _________________________________________________________________|________                                                                                  \n",
      "                    |                                                                      NP_FLIGHT                                                                            \n",
      "                    |                                                                          |                                                                                 \n",
      "                    |                                                                      NOM_FLIGHT                                                                           \n",
      "                    |                                                                          |                                                                                 \n",
      "                    |                                                                       N_FLIGHT                                                                            \n",
      "                    |                                                        __________________|___________________________________________                                      \n",
      "                    |                                                    N_FLIGHT                                                          |                                    \n",
      "                    |                                     __________________|__________________                                            |                                     \n",
      "                    |                                 N_FLIGHT                                 |                                           |                                    \n",
      "                    |                           _________|________                             |                                           |                                     \n",
      "                    |                          |                  PP                           PP                                          PP                                   \n",
      "                    |                          |                  |                            |                                           |                                     \n",
      "                PREIGNORE                      |               PP_PLACE                     PP_PLACE                                   PP_AIRLINE                               \n",
      "        ____________|____________              |          ________|_________           ________|__________                      ___________|____________                         \n",
      "       |                     PREIGNORE      N_FLIGHT     |               N_PLACE      |                N_PLACE                 |                   TERM_AIRLINE                 \n",
      "       |                         |             |         |                  |         |                   |                    |            ____________|______________          \n",
      "PREIGNORESYMBOL           PREIGNORESYMBOL TERM_FLIGHT P_PLACE           TERM_PLACE P_PLACE            TERM_PLACE           P_AIRLINE TERM_AIRBRAND              TERM_AIRBRANDTYP\n",
      "       |                         |             |         |                  |         |                   |                    |           |                           E        \n",
      "       |                         |             |         |                  |         |         __________|__________          |           |                           |         \n",
      "      list                      the         flights     from              dallas      to      san                francisco     on       american                    airlines    \n",
      "\n",
      "Predicted SQL:\n",
      "\n",
      " SELECT DISTINCT flight.flight_id FROM flight WHERE (((1 AND flight.from_airport IN \n",
      "    (SELECT airport_service.airport_code FROM airport_service WHERE airport_service.city_code IN\n",
      "      (SELECT city.city_code FROM city WHERE city.city_name = \"DALLAS\"))\n",
      "  ) AND flight.to_airport IN \n",
      "    (SELECT airport_service.airport_code FROM airport_service WHERE airport_service.city_code IN\n",
      "      (SELECT city.city_code FROM city WHERE city.city_name = \"SAN FRANCISCO\"))\n",
      "  ) AND flight.airline_code = \"AA\") \n",
      "\n",
      "Predicted DB result:\n",
      "\n",
      " [(108452,), (108454,), (108456,), (111083,), (111085,), (111086,), (111090,), (111091,), (111092,), (111094,)] \n",
      "\n",
      "Gold DB result:\n",
      "\n",
      " [(108452,), (108454,), (108456,), (111083,), (111085,), (111086,), (111090,), (111091,), (111092,), (111094,)] \n",
      "\n",
      "Correct!\n"
     ]
    }
   ],
   "source": [
    "#TODO: add augmentations to `data/grammar` to make this example work\n",
    "# Example 8\n",
    "example_8 = 'list the flights from dallas to san francisco on american airlines'\n",
    "gold_sql_8 = \"\"\"\n",
    "  SELECT DISTINCT flight_1.flight_id \n",
    "  FROM flight flight_1 , \n",
    "       airport_service airport_service_1 , \n",
    "       city city_1 , \n",
    "       airport_service airport_service_2 , \n",
    "       city city_2 \n",
    "  WHERE flight_1.airline_code = 'AA' \n",
    "        AND ( flight_1.from_airport = airport_service_1.airport_code \n",
    "              AND airport_service_1.city_code = city_1.city_code \n",
    "              AND city_1.city_name = 'DALLAS' \n",
    "              AND flight_1.to_airport = airport_service_2.airport_code \n",
    "              AND airport_service_2.city_code = city_2.city_code \n",
    "              AND city_2.city_name = 'SAN FRANCISCO' )\n",
    "  \"\"\"\n",
    "\n",
    "rule_based_trial(example_8, gold_sql_8)"
   ]
  },
  {
   "cell_type": "code",
   "execution_count": 51,
   "id": "7ee94615",
   "metadata": {
    "id": "7ee94615"
   },
   "outputs": [],
   "source": []
  },
  {
   "cell_type": "markdown",
   "id": "765ba387",
   "metadata": {
    "id": "765ba387"
   },
   "source": [
    "### Systematic evaluation on a test set\n",
    "\n",
    "We can perform a more systematic evaluation by checking the accuracy of the queries on an entire test set for which we have gold queries. The `evaluate` function below does just this, calculating precision, recall, and F1 metrics for the test set. It takes as argument a \"predictor\" function, which maps token sequences to predicted SQL queries. We've provided a predictor function for the rule-based model in the next cell (and a predictor for the seq2seq system below when we get to that system).\n",
    "\n",
    "The rule-based system does not generate predictions for all queries; many queries won't parse. The precision and recall metrics take this into account in measuring the efficacy of the method. The recall metric captures what proportion of _all of the test examples_ for which the system generates a correct query. The precision metric captures what proportion of _all of the test examples for which a prediction is generated_ for which the system generates a correct query. (Recall that F1 is just the geometric mean of precision and recall.)\n",
    "\n",
    "Once you've made some progress on adding augmentations to the grammar, you can evaluate your progress by seeing if the precision and recall have improved. For reference, the solution code achieves precision of about 71% and recall of about 27% for an F1 of 40%."
   ]
  },
  {
   "cell_type": "code",
   "execution_count": 52,
   "id": "57f27203",
   "metadata": {
    "id": "57f27203"
   },
   "outputs": [],
   "source": [
    "def evaluate(predictor, dataset, num_examples=0, silent=True):\n",
    "  \"\"\"Evaluate accuracy of `predictor` by executing predictions on a\n",
    "  SQL database and comparing returned results against those of gold queries.\n",
    "  \n",
    "  Arguments:\n",
    "      predictor:    a function that maps a token sequence (provided by torchtext)\n",
    "                    to a predicted SQL query string\n",
    "      dataset:      the dataset of token sequences and gold SQL queries\n",
    "      num_examples: number of examples from `dataset` to use; all of\n",
    "                    them if 0\n",
    "      silent: if set to False, will print out logs\n",
    "  Returns: precision, recall, and F1 score\n",
    "  \"\"\"\n",
    "  # Prepare to count results\n",
    "  if num_examples <= 0:\n",
    "    num_examples = len(dataset)\n",
    "  example_count = 0\n",
    "  predicted_count = 0\n",
    "  correct = 0\n",
    "  incorrect = 0\n",
    "\n",
    "  # Process the examples from the dataset\n",
    "  for example in tqdm(dataset[:num_examples]):\n",
    "    example_count += 1\n",
    "    # obtain query SQL\n",
    "    predicted_sql = predictor(example.src)\n",
    "    if predicted_sql == None:\n",
    "      continue\n",
    "    predicted_count += 1\n",
    "    # obtain gold SQL\n",
    "    gold_sql = ' '.join(example.tgt)\n",
    "\n",
    "    # check that they're compatible\n",
    "    if verify(predicted_sql, gold_sql):\n",
    "      correct += 1\n",
    "    else:\n",
    "      incorrect += 1\n",
    "   \n",
    "  # Compute and return precision, recall, F1\n",
    "  precision = correct / predicted_count if predicted_count > 0 else 0\n",
    "  recall = correct / example_count\n",
    "  f1 = (2 * precision * recall) / (precision + recall) if precision + recall > 0 else 0\n",
    "  return precision, recall, f1"
   ]
  },
  {
   "cell_type": "code",
   "execution_count": 53,
   "id": "6079c6c8",
   "metadata": {
    "id": "6079c6c8"
   },
   "outputs": [],
   "source": [
    "def rule_based_predictor(tokens):\n",
    "  query = ' '.join(tokens)    # detokenized query\n",
    "  tree = parse_tree(query)\n",
    "  if tree is None:\n",
    "    return None\n",
    "  try:\n",
    "    predicted_sql = interpret(tree, atis_augmentations)\n",
    "  except Exception as err:\n",
    "    return None\n",
    "  return predicted_sql"
   ]
  },
  {
   "cell_type": "code",
   "execution_count": 54,
   "id": "445a3a80",
   "metadata": {
    "colab": {
     "base_uri": "https://localhost:8080/"
    },
    "id": "445a3a80",
    "outputId": "007aef11-d33d-4acf-b684-64206eeeb8ea"
   },
   "outputs": [
    {
     "name": "stderr",
     "output_type": "stream",
     "text": [
      "100%|██████████| 332/332 [00:06<00:00, 54.69it/s]"
     ]
    },
    {
     "name": "stdout",
     "output_type": "stream",
     "text": [
      "precision: 0.78\n",
      "recall:    0.29\n",
      "F1:        0.42\n"
     ]
    },
    {
     "name": "stderr",
     "output_type": "stream",
     "text": [
      "\n"
     ]
    }
   ],
   "source": [
    "precision, recall, f1 = evaluate(rule_based_predictor, test_iter.dataset, num_examples=0)\n",
    "print(f\"precision: {precision:3.2f}\")\n",
    "print(f\"recall:    {recall:3.2f}\")\n",
    "print(f\"F1:        {f1:3.2f}\")"
   ]
  },
  {
   "cell_type": "markdown",
   "id": "4c428316",
   "metadata": {
    "id": "4c428316"
   },
   "source": [
    "# End-to-End Seq2Seq Model"
   ]
  },
  {
   "cell_type": "markdown",
   "id": "a39536c3",
   "metadata": {
    "id": "a39536c3"
   },
   "source": [
    "In this part, you will implement a seq2seq model **with attention mechanism** to directly learn the translation from NL query to SQL. You might find labs 4-4 and 4-5 particularly helpful, as the primary difference here is that we are using a different dataset.\n",
    "\n",
    "**Note:** We recommend using GPUs to train the model in this part (one way to get GPUs is to use [Google Colab](https://colab.research.google.com) and clicking Menu -> Runtime -> Change runtime type -> GPU), as we need to use a very large model to solve the task well. For development we recommend starting with a smaller model and training for only 1 epoch."
   ]
  },
  {
   "cell_type": "markdown",
   "id": "9fbbe32d",
   "metadata": {
    "id": "9fbbe32d"
   },
   "source": [
    "## Goal 2: Implement a seq2seq model (with attention)"
   ]
  },
  {
   "cell_type": "markdown",
   "id": "6b2e2745",
   "metadata": {
    "id": "6b2e2745"
   },
   "source": [
    "In lab 4-5, you implemented a neural encoder-decoder model with attention. That model was used to convert English number phrases to numbers, but one of the biggest advantages of neural models is that we can easily apply them to different tasks (such as machine translation and document summarization) by using different training datasets.\n",
    "\n",
    "<img src=\"https://github.com/nlp-course/data/raw/master/img/encoderdecoder_attn_1layer.png\" alt=\"encoder-decoder-attn illustration\" />\n",
    "\n",
    "Implement the class `AttnEncoderDecoder` to convert natural language queries into SQL statements. You may find that you can reuse most of the code you wrote for lab 4-5. A reasonable way to proceed is to implement the following methods:\n",
    "\n",
    "* **Model**\n",
    "\n",
    "    1. `__init__`: an initializer where you create network modules.\n",
    "\n",
    "    2. `forward`: given source word ids of size `(max_src_len, batch_size)`, source lengths of size `(batch_size)` and decoder input target word ids `(max_tgt_len, batch_size)`, returns logits `(max_tgt_len, batch_size, V_tgt)`. For better modularity you might want to implement it by implementing two functions `forward_encoder` and `forward_decoder`.\n",
    "\n",
    "* **Optimization**\n",
    "\n",
    "    3. `train_all`: compute loss on training data, compute gradients, and update model parameters to minimize the loss.\n",
    "\n",
    "    4. `evaluate_ppl`: evaluate the current model's perplexity on a given dataset iterator, we use the perplexity value on the validation set to select the best model.\n",
    "\n",
    "* **Decoding**\n",
    "\n",
    "    5. `predict`: Generates the target sequence given a list of source tokens using beam search decoding. Note that here you can assume the batch size to be 1 for simplicity. "
   ]
  },
  {
   "cell_type": "code",
   "execution_count": 55,
   "id": "861dd185",
   "metadata": {
    "id": "861dd185"
   },
   "outputs": [],
   "source": [
    "#TODO - finish implementing this function.\n",
    "def attention(batched_Q, batched_K, batched_V, mask=None):\n",
    "  \"\"\"\n",
    "  Performs the attention operation and returns the attention matrix\n",
    "  `batched_A` and the context matrix `batched_C` using queries \n",
    "  `batched_Q`, keys `batched_K`, and values `batched_V`.\n",
    "  \n",
    "  Arguments:\n",
    "      batched_Q: (q_len, bsz, D)\n",
    "      batched_K: (k_len, bsz, D)\n",
    "      batched_V: (k_len, bsz, D)\n",
    "      mask: (bsz, q_len, k_len). An optional boolean mask *disallowing* \n",
    "            attentions where the mask value is *`False`*.\n",
    "  Returns:\n",
    "      batched_A: the normalized attention scores (bsz, q_len, k_ken)\n",
    "      batched_C: a tensor of size (q_len, bsz, D).\n",
    "  \"\"\"\n",
    "  # Check sizes\n",
    "  D = batched_Q.size(-1)\n",
    "  bsz = batched_Q.size(1)\n",
    "  q_len = batched_Q.size(0)\n",
    "  k_len = batched_K.size(0)\n",
    "  assert batched_K.size(-1) == D and batched_V.size(-1) == D\n",
    "  assert batched_K.size(1) == bsz and batched_V.size(1) == bsz\n",
    "  assert batched_V.size(0) == k_len\n",
    "  if mask is not None:\n",
    "    assert mask.size() == torch.Size([bsz, q_len, k_len])\n",
    "    \n",
    "  Q_reshaped = torch.transpose(batched_Q, 0, 1)\n",
    "  K_reshaped = torch.transpose(batched_K, 0, 1)\n",
    "  K_reshaped_T = torch.transpose(K_reshaped, 1, 2)\n",
    "  logits = torch.bmm(Q_reshaped, K_reshaped_T)\n",
    "  if mask is not None:\n",
    "    logits = logits.masked_fill(~mask.to(device), -float('inf'))\n",
    "  batched_A = torch.softmax(logits, dim=-1)\n",
    "    \n",
    "  V_reshaped = torch.transpose(batched_V, 0, 1)\n",
    "  batched_C = torch.transpose(torch.bmm(batched_A, V_reshaped), 0, 1)\n",
    "  \n",
    "  # Verify that things sum up to one properly.\n",
    "  assert torch.all(torch.isclose(batched_A.sum(-1), \n",
    "                                 torch.ones(bsz, q_len).to(device)))\n",
    "  return batched_A, batched_C"
   ]
  },
  {
   "cell_type": "code",
   "execution_count": 56,
   "id": "911632b8",
   "metadata": {
    "id": "911632b8"
   },
   "outputs": [],
   "source": [
    "# max target length\n",
    "class Beam():\n",
    "  \"\"\"\n",
    "  Helper class for storing a hypothesis, its score and its decoder hidden state.\n",
    "  \"\"\"\n",
    "  def __init__(self, decoder_state, tokens, score):\n",
    "    self.decoder_state = decoder_state\n",
    "    self.tokens = tokens\n",
    "    self.score = score\n",
    "        \n",
    "class BeamSearcher():\n",
    "  \"\"\"\n",
    "  Main class for beam search.\n",
    "  \"\"\"\n",
    "  def __init__(self, model):\n",
    "    self.model = model\n",
    "    self.bos_id = model.bos_id\n",
    "    self.eos_id = model.eos_id\n",
    "    self.padding_id_src = model.padding_id_src\n",
    "    self.V = model.V_tgt\n",
    "\n",
    "\n",
    "  def beam_search(self, src, src_lengths, K, max_T=400):\n",
    "    \"\"\"\n",
    "    Performs beam search decoding.\n",
    "    Arguments:\n",
    "        src: src batch of size (max_src_len, 1)\n",
    "        src_lengths: src lengths of size (1)\n",
    "        K: beam size\n",
    "        max_T: max possible target length considered\n",
    "    Returns:\n",
    "        a list of token ids and a list of attentions\n",
    "    \"\"\"\n",
    "    finished = []\n",
    "    all_attns = []\n",
    "    # Initialize the beam\n",
    "    self.model.eval()\n",
    "    #TODO - fill in `memory_bank`, `encoder_final_state`, and `init_beam` below\n",
    "    memory_bank, encoder_final_state = self.model.forward_encoder(src, src_lengths)\n",
    "    init_beam = Beam(encoder_final_state, tokens=torch.tensor([self.bos_id]), score=0)\n",
    "    beams = [init_beam]\n",
    "    \n",
    "    with torch.no_grad():\n",
    "      for t in range(max_T): # main body of search over time steps\n",
    "        \n",
    "        # Expand each beam by all possible tokens y_{t+1}\n",
    "        all_total_scores = []\n",
    "        for beam in beams:\n",
    "          y_1_to_t, score, decoder_state = beam.tokens, beam.score, beam.decoder_state\n",
    "          y_t = y_1_to_t[-1]\n",
    "          #TODO - finish the code below\n",
    "          # Hint: you might want to use `model.forward_decoder_incrementally` with `normalize=True`\n",
    "          src_mask = src.ne(self.padding_id_src)\n",
    "          logits, decoder_state, attn = self.model.forward_decoder_incrementally(decoder_state, torch.tensor([[y_t]]), memory_bank, src_mask, normalize=True)\n",
    "          total_scores = logits + score\n",
    "          all_total_scores.append(total_scores)\n",
    "          all_attns.append(attn) # keep attentions for visualization\n",
    "          beam.decoder_state = decoder_state # update decoder state in the beam\n",
    "        all_total_scores = torch.stack(all_total_scores) # (K, V) when t>0, (1, V) when t=0\n",
    "\n",
    "        # Find K best next beams\n",
    "        # The code below has the same functionality as line 6-12, but is more efficient\n",
    "        all_scores_flattened = all_total_scores.view(-1) # K*V when t>0, 1*V when t=0\n",
    "        topk_scores, topk_ids = all_scores_flattened.topk(K, 0)\n",
    "        beam_ids = topk_ids.div(self.V, rounding_mode='floor')\n",
    "        next_tokens = topk_ids - beam_ids * self.V\n",
    "        new_beams = []\n",
    "        for k in range(K):\n",
    "          beam_id = beam_ids[k]       # which beam it comes from\n",
    "          y_t_plus_1 = next_tokens[k] # which y_{t+1}\n",
    "          score = topk_scores[k]\n",
    "          beam = beams[beam_id]\n",
    "          decoder_state = beam.decoder_state\n",
    "          y_1_to_t = beam.tokens\n",
    "          #TODO\n",
    "          new_beam = Beam(decoder_state, tokens=(list(y_1_to_t) + [y_t_plus_1]), score=score)\n",
    "          new_beams.append(new_beam)\n",
    "        beams = new_beams\n",
    "\n",
    "        # Set aside completed beams\n",
    "        # TODO - move completed beams to `finished` (and remove them from `beams`)\n",
    "        deleted = []\n",
    "        for beam in beams:\n",
    "            if beam.tokens[-1] == self.eos_id:\n",
    "                finished.append(beam)\n",
    "            else:\n",
    "                deleted.append(beam)\n",
    "        beams = deleted\n",
    "        \n",
    "        # Break the loop if everything is completed\n",
    "        if len(beams) == 0:\n",
    "            break\n",
    "            \n",
    "    # Return the best hypothesis\n",
    "    if len(finished) > 0:\n",
    "      finished = sorted(finished, key=lambda beam: -beam.score)\n",
    "      return finished[0].tokens, all_attns\n",
    "    else: # when nothing is finished, return an unfinished hypothesis\n",
    "      return beams[0].tokens, all_attns"
   ]
  },
  {
   "cell_type": "code",
   "execution_count": 57,
   "id": "5bd013f6",
   "metadata": {
    "id": "5bd013f6"
   },
   "outputs": [],
   "source": [
    "#TODO - implement the `AttnEncoderDecoder` class.\n",
    "class AttnEncoderDecoder(nn.Module):\n",
    "  def __init__(self, src_field, tgt_field, hidden_size=64, layers=3):\n",
    "    \"\"\"\n",
    "    Initializer. Creates network modules and loss function.\n",
    "    Arguments:\n",
    "        src_field: src field\n",
    "        tgt_field: tgt field\n",
    "        hidden_size: hidden layer size of both encoder and decoder\n",
    "        layers: number of layers of both encoder and decoder\n",
    "    \"\"\"\n",
    "    super().__init__()\n",
    "    self.src_field = src_field\n",
    "    self.tgt_field = tgt_field\n",
    "    \n",
    "    # Keep the vocabulary sizes available\n",
    "    self.V_src = len(src_field.vocab.itos)\n",
    "    self.V_tgt = len(tgt_field.vocab.itos)\n",
    "    \n",
    "    # Get special word ids\n",
    "    self.padding_id_src = src_field.vocab.stoi[src_field.pad_token]\n",
    "    self.padding_id_tgt = tgt_field.vocab.stoi[tgt_field.pad_token]\n",
    "    self.bos_id = tgt_field.vocab.stoi[tgt_field.init_token]\n",
    "    self.eos_id = tgt_field.vocab.stoi[tgt_field.eos_token]\n",
    "\n",
    "    # Keep hyper-parameters available\n",
    "    self.embedding_size = hidden_size\n",
    "    self.hidden_size = hidden_size\n",
    "    self.layers = layers\n",
    "\n",
    "    # Create essential modules\n",
    "    self.word_embeddings_src = nn.Embedding(self.V_src, self.embedding_size)\n",
    "    self.word_embeddings_tgt = nn.Embedding(self.V_tgt, self.embedding_size)\n",
    "\n",
    "    # RNN cells\n",
    "    self.encoder_rnn = nn.LSTM(\n",
    "      input_size    = self.embedding_size,\n",
    "      hidden_size   = hidden_size // 2, # to match decoder hidden size\n",
    "      num_layers    = layers,\n",
    "      bidirectional = True              # bidirectional encoder\n",
    "    )\n",
    "    self.decoder_rnn = nn.LSTM(\n",
    "      input_size    = self.embedding_size,\n",
    "      hidden_size   = hidden_size,\n",
    "      num_layers    = layers,\n",
    "      bidirectional = False             # unidirectional decoder\n",
    "    )\n",
    "\n",
    "    # Final projection layer\n",
    "    self.hidden2output = nn.Linear(2*hidden_size, self.V_tgt) # project the concatenation to logits\n",
    "   \n",
    "    # Create loss function\n",
    "    self.loss_function = nn.CrossEntropyLoss(reduction='sum', \n",
    "                                             ignore_index=self.padding_id_tgt)\n",
    "\n",
    "  def forward_encoder(self, src, src_lengths):\n",
    "    \"\"\"\n",
    "    Encodes source words `src`.\n",
    "    Arguments:\n",
    "        src: src batch of size (max_src_len, bsz)\n",
    "        src_lengths: src lengths of size (bsz)\n",
    "    Returns:\n",
    "        memory_bank: a tensor of size (src_len, bsz, hidden_size)\n",
    "        (final_state, context): `final_state` is a tuple (h, c) where h/c is of size \n",
    "                                (layers, bsz, hidden_size), and `context` is `None`. \n",
    "    \"\"\"\n",
    "    #TODO\n",
    "    embeddings = self.word_embeddings_src(src.to(device))\n",
    "    packed = pack(embeddings, src_lengths.to('cpu'), batch_first =False)\n",
    "    memory_bank, (hn, cn) = self.encoder_rnn(packed)\n",
    "\n",
    "    hn = hn.transpose(0,1)\n",
    "    (bsz, l, hsz) = hn.size()\n",
    "    hn = hn.reshape(bsz, l // 2, hsz * 2)\n",
    "    hn = hn.transpose(0,1)\n",
    "\n",
    "\n",
    "    cn = cn.transpose(0,1)\n",
    "    (bsz, l, hsz) = cn.size()\n",
    "    cn = cn.reshape(bsz, l // 2, hsz * 2)\n",
    "    cn = cn.transpose(0,1)\n",
    "        \n",
    "    return memory_bank, ((hn, cn), None)\n",
    "\n",
    "  def forward_decoder(self, encoder_final_state, tgt_in, memory_bank, src_mask):\n",
    "    \"\"\"\n",
    "    Decodes based on encoder final state, memory bank, src_mask, and ground truth \n",
    "    target words.\n",
    "    Arguments:\n",
    "        encoder_final_state: (final_state, None) where final_state is the encoder\n",
    "                             final state used to initialize decoder. None is the\n",
    "                             initial context (there's no previous context at the\n",
    "                             first step).\n",
    "        tgt_in: a tensor of size (tgt_len, bsz)\n",
    "        memory_bank: a tensor of size (src_len, bsz, hidden_size), encoder outputs \n",
    "                     at every position\n",
    "        src_mask: a tensor of size (src_len, bsz): a boolean tensor, `False` where\n",
    "                  src is padding (we disallow decoder to attend to those places).\n",
    "    Returns:\n",
    "        Logits of size (tgt_len, bsz, V_tgt) (before the softmax operation)\n",
    "    \"\"\"\n",
    "    max_tgt_length = tgt_in.size(0)\n",
    "    \n",
    "    # Initialize decoder state, note that it's a tuple (state, context) here\n",
    "    decoder_states = encoder_final_state\n",
    "    \n",
    "    all_logits = []\n",
    "    for i in range(max_tgt_length):\n",
    "      logits, decoder_states, attn = \\\n",
    "        self.forward_decoder_incrementally(decoder_states, \n",
    "                                           tgt_in[i], \n",
    "                                           memory_bank,\n",
    "                                           src_mask,\n",
    "                                           normalize=False)\n",
    "      all_logits.append(logits)             # list of bsz, vocab_tgt\n",
    "    all_logits = torch.stack(all_logits, 0) # tgt_len, bsz, vocab_tgt\n",
    "    return all_logits\n",
    "\n",
    "  def forward(self, src, src_lengths, tgt_in):\n",
    "    \"\"\"\n",
    "    Performs forward computation, returns logits.\n",
    "    Arguments:\n",
    "        src: src batch of size (max_src_len, bsz)\n",
    "        src_lengths: src lengths of size (bsz)\n",
    "        tgt_in:  a tensor of size (tgt_len, bsz)\n",
    "    \"\"\"\n",
    "    src_mask = src.ne(self.padding_id_src) # max_src_len, bsz\n",
    "    # Forward encoder\n",
    "    memory_bank, encoder_final_state = self.forward_encoder(src, src_lengths)\n",
    "    # Forward decoder\n",
    "    logits = self.forward_decoder(encoder_final_state, tgt_in, memory_bank, src_mask)\n",
    "    return logits\n",
    "\n",
    "  def forward_decoder_incrementally(self, prev_decoder_states, tgt_in_onestep, \n",
    "                                    memory_bank, src_mask,\n",
    "                                    normalize=True):\n",
    "    \"\"\"\n",
    "    Forward the decoder for a single step with token `tgt_in_onestep`.\n",
    "    This function will be used both in `forward_decoder` and in beam search.\n",
    "    Note that bsz can be greater than 1.\n",
    "    Arguments:\n",
    "        prev_decoder_states: a tuple (prev_decoder_state, prev_context). `prev_context`\n",
    "                             is `None` for the first step\n",
    "        tgt_in_onestep: a tensor of size (bsz), tokens at one step\n",
    "        memory_bank: a tensor of size (src_len, bsz, hidden_size), encoder outputs \n",
    "                     at every position\n",
    "        src_mask: a tensor of size (src_len, bsz): a boolean tensor, `False` where\n",
    "                  src is padding (we disallow decoder to attend to those places).\n",
    "        normalize: use log_softmax to normalize or not. Beam search needs to normalize,\n",
    "                   while `forward_decoder` does not\n",
    "    Returns:\n",
    "        logits: log probabilities for `tgt_in_token` of size (bsz, V_tgt)\n",
    "        decoder_states: (`decoder_state`, `context`) which will be used for the \n",
    "                        next incremental update\n",
    "        attn: normalized attention scores at this step (bsz, src_len)\n",
    "    \"\"\"\n",
    "    prev_decoder_state, prev_context = prev_decoder_states\n",
    "    \n",
    "    # Compute embeddings\n",
    "    tgt_embeddings = self.word_embeddings_tgt(\n",
    "        tgt_in_onestep.to(device).view(1, -1)\n",
    "    )  # tgt_len, bsz, hidden\n",
    "    \n",
    "    # Add prev_context if exists\n",
    "    if prev_context is not None:\n",
    "        tgt_embeddings += prev_context\n",
    "    \n",
    "    # Apply decoder RNN \n",
    "    decoder_outs, decoder_state = self.decoder_rnn(tgt_embeddings, prev_decoder_state)\n",
    "    \n",
    "    # Unpack and save memory bank\n",
    "    memory_bank = torch.nn.utils.rnn.pad_packed_sequence(memory_bank,batch_first=False)[0]\n",
    "    \n",
    "    mask = torch.unsqueeze(src_mask.T,1)\n",
    "\n",
    "    # Compute attention \n",
    "    attn, context = attention(decoder_outs,memory_bank,memory_bank,mask)\n",
    "    attn = attn.squeeze(1)\n",
    "    \n",
    "    # Project and compute logits\n",
    "    inputs = torch.cat((context, decoder_outs),dim=-1)\n",
    "    logits = self.hidden2output(inputs)  # tgt_len, bsz, V_tgt\n",
    "\n",
    "    \n",
    "    decoder_states = (decoder_state, context)\n",
    "    if normalize:\n",
    "      logits = torch.log_softmax(logits, dim=-1)\n",
    "    return logits, decoder_states, attn\n",
    "\n",
    "  def predict(self, tokens, K=1, max_T=400):\n",
    "    # create beam searcher\n",
    "    src = torch.tensor([[self.src_field.vocab.stoi[i] for i in tokens]]).transpose(0,1)\n",
    "    src_lengths = torch.tensor([len(tokens)])\n",
    "    \n",
    "    beam_searcher = BeamSearcher(self)\n",
    "\n",
    "    prediction, _ = beam_searcher.beam_search(src.to(device), src_lengths, K, max_T=max_T)\n",
    "    \n",
    "    # Convert to string\n",
    "    prediction = ' '.join([self.tgt_field.vocab.itos[token] for token in prediction])\n",
    "    prediction = prediction.lstrip('<bos>').rstrip('<eos>').strip()\n",
    "    \n",
    "    return prediction\n",
    "    \n",
    "\n",
    "  def evaluate_ppl(self, iterator):\n",
    "    \"\"\"Returns the model's perplexity on a given dataset `iterator`.\"\"\"\n",
    "    # Switch to eval mode\n",
    "    self.eval()\n",
    "    total_loss = 0\n",
    "    total_words = 0\n",
    "    for batch in iterator:\n",
    "      # Input and target\n",
    "      src, src_lengths = batch.src\n",
    "      tgt = batch.tgt # max_length_sql, bsz\n",
    "      tgt_in = tgt[:-1] # remove <eos> for decode input (y_0=<bos>, y_1, y_2)\n",
    "      tgt_out = tgt[1:] # remove <bos> as target        (y_1, y_2, y_3=<eos>)\n",
    "      # Forward to get logits\n",
    "      logits = self.forward(src, src_lengths, tgt_in)\n",
    "      # Compute cross entropy loss\n",
    "      loss = self.loss_function(logits.view(-1, self.V_tgt), tgt_out.view(-1))\n",
    "      total_loss += loss.item()\n",
    "      total_words += tgt_out.ne(self.padding_id_tgt).float().sum().item()\n",
    "    return math.exp(total_loss/total_words)\n",
    "\n",
    "  def train_all(self, train_iter, val_iter, epochs=10, learning_rate=0.001):\n",
    "    \"\"\"Train the model.\"\"\"\n",
    "    # Switch the module to training mode\n",
    "    self.train()\n",
    "    # Use Adam to optimize the parameters\n",
    "    optim = torch.optim.Adam(self.parameters(), lr=learning_rate)\n",
    "    best_validation_ppl = float('inf')\n",
    "    best_model = None\n",
    "    # Run the optimization for multiple epochs\n",
    "    for epoch in range(epochs): \n",
    "      total_words = 0\n",
    "      total_loss = 0.0\n",
    "      for batch in tqdm(train_iter):\n",
    "        # Zero the parameter gradients\n",
    "        self.zero_grad()\n",
    "        # Input and target\n",
    "        src, src_lengths = batch.src # text: max_src_length, bsz\n",
    "        tgt = batch.tgt # max_tgt_length, bsz\n",
    "        tgt_in = tgt[:-1] # Remove <eos> for decode input (y_0=<bos>, y_1, y_2)\n",
    "        tgt_out = tgt[1:] # Remove <bos> as target        (y_1, y_2, y_3=<eos>)\n",
    "        bsz = tgt.size(1)\n",
    "        # Run forward pass and compute loss along the way.\n",
    "        logits = self.forward(src, src_lengths, tgt_in)\n",
    "        loss = self.loss_function(logits.view(-1, self.V_tgt), tgt_out.view(-1))\n",
    "        # Training stats\n",
    "        num_tgt_words = tgt_out.ne(self.padding_id_tgt).float().sum().item()\n",
    "        total_words += num_tgt_words\n",
    "        total_loss += loss.item()\n",
    "        # Perform backpropagation\n",
    "        loss.div(bsz).backward()\n",
    "        optim.step()\n",
    "\n",
    "      # Evaluate and track improvements on the validation dataset\n",
    "      validation_ppl = self.evaluate_ppl(val_iter)\n",
    "      self.train()\n",
    "      if validation_ppl < best_validation_ppl:\n",
    "        best_validation_ppl = validation_ppl\n",
    "        self.best_model = copy.deepcopy(self.state_dict())\n",
    "      epoch_loss = total_loss / total_words\n",
    "      print (f'Epoch: {epoch} Training Perplexity: {math.exp(epoch_loss):.4f} '\n",
    "             f'Validation Perplexity: {validation_ppl:.4f}')"
   ]
  },
  {
   "cell_type": "markdown",
   "id": "1ffdd71a",
   "metadata": {
    "id": "1ffdd71a"
   },
   "source": [
    "We provide the recommended hyperparameters for the final model in the script below, but you are free to tune the hyperparameters or change any part of the provided code. \n",
    "\n",
    ">For quick debugging, we recommend starting with smaller models (by using a very small `hidden_size`), and only a single epoch. If the model runs smoothly, then you can train the full model on GPUs."
   ]
  },
  {
   "cell_type": "code",
   "execution_count": 58,
   "id": "c0f02be3",
   "metadata": {
    "colab": {
     "base_uri": "https://localhost:8080/"
    },
    "id": "c0f02be3",
    "outputId": "ddc82458-2190-486f-fd49-0f02c38df261"
   },
   "outputs": [
    {
     "name": "stderr",
     "output_type": "stream",
     "text": [
      "100%|██████████| 229/229 [03:18<00:00,  1.16it/s]\n"
     ]
    },
    {
     "name": "stdout",
     "output_type": "stream",
     "text": [
      "Epoch: 0 Training Perplexity: 4.1952 Validation Perplexity: 1.7354\n"
     ]
    },
    {
     "name": "stderr",
     "output_type": "stream",
     "text": [
      "100%|██████████| 229/229 [03:16<00:00,  1.17it/s]\n"
     ]
    },
    {
     "name": "stdout",
     "output_type": "stream",
     "text": [
      "Epoch: 1 Training Perplexity: 1.4781 Validation Perplexity: 1.4059\n"
     ]
    },
    {
     "name": "stderr",
     "output_type": "stream",
     "text": [
      "100%|██████████| 229/229 [03:15<00:00,  1.17it/s]\n"
     ]
    },
    {
     "name": "stdout",
     "output_type": "stream",
     "text": [
      "Epoch: 2 Training Perplexity: 1.3024 Validation Perplexity: 1.2955\n"
     ]
    },
    {
     "name": "stderr",
     "output_type": "stream",
     "text": [
      "100%|██████████| 229/229 [03:19<00:00,  1.15it/s]\n"
     ]
    },
    {
     "name": "stdout",
     "output_type": "stream",
     "text": [
      "Epoch: 3 Training Perplexity: 1.2225 Validation Perplexity: 1.2712\n"
     ]
    },
    {
     "name": "stderr",
     "output_type": "stream",
     "text": [
      "100%|██████████| 229/229 [03:16<00:00,  1.17it/s]\n"
     ]
    },
    {
     "name": "stdout",
     "output_type": "stream",
     "text": [
      "Epoch: 4 Training Perplexity: 1.1724 Validation Perplexity: 1.1853\n"
     ]
    },
    {
     "name": "stderr",
     "output_type": "stream",
     "text": [
      "100%|██████████| 229/229 [03:15<00:00,  1.17it/s]\n"
     ]
    },
    {
     "name": "stdout",
     "output_type": "stream",
     "text": [
      "Epoch: 5 Training Perplexity: 1.1353 Validation Perplexity: 1.1719\n"
     ]
    },
    {
     "name": "stderr",
     "output_type": "stream",
     "text": [
      "100%|██████████| 229/229 [03:15<00:00,  1.17it/s]\n"
     ]
    },
    {
     "name": "stdout",
     "output_type": "stream",
     "text": [
      "Epoch: 6 Training Perplexity: 1.1113 Validation Perplexity: 1.1540\n"
     ]
    },
    {
     "name": "stderr",
     "output_type": "stream",
     "text": [
      "100%|██████████| 229/229 [03:18<00:00,  1.15it/s]\n"
     ]
    },
    {
     "name": "stdout",
     "output_type": "stream",
     "text": [
      "Epoch: 7 Training Perplexity: 1.0945 Validation Perplexity: 1.1479\n"
     ]
    },
    {
     "name": "stderr",
     "output_type": "stream",
     "text": [
      "100%|██████████| 229/229 [03:20<00:00,  1.14it/s]\n"
     ]
    },
    {
     "name": "stdout",
     "output_type": "stream",
     "text": [
      "Epoch: 8 Training Perplexity: 1.0815 Validation Perplexity: 1.1273\n"
     ]
    },
    {
     "name": "stderr",
     "output_type": "stream",
     "text": [
      "100%|██████████| 229/229 [03:14<00:00,  1.18it/s]\n"
     ]
    },
    {
     "name": "stdout",
     "output_type": "stream",
     "text": [
      "Epoch: 9 Training Perplexity: 1.0694 Validation Perplexity: 1.1234\n"
     ]
    },
    {
     "name": "stderr",
     "output_type": "stream",
     "text": [
      "100%|██████████| 229/229 [03:17<00:00,  1.16it/s]\n"
     ]
    },
    {
     "name": "stdout",
     "output_type": "stream",
     "text": [
      "Epoch: 10 Training Perplexity: 1.0595 Validation Perplexity: 1.1166\n"
     ]
    },
    {
     "name": "stderr",
     "output_type": "stream",
     "text": [
      "100%|██████████| 229/229 [03:17<00:00,  1.16it/s]\n"
     ]
    },
    {
     "name": "stdout",
     "output_type": "stream",
     "text": [
      "Epoch: 11 Training Perplexity: 1.0514 Validation Perplexity: 1.1102\n"
     ]
    },
    {
     "name": "stderr",
     "output_type": "stream",
     "text": [
      "100%|██████████| 229/229 [03:17<00:00,  1.16it/s]\n"
     ]
    },
    {
     "name": "stdout",
     "output_type": "stream",
     "text": [
      "Epoch: 12 Training Perplexity: 1.0441 Validation Perplexity: 1.1082\n"
     ]
    },
    {
     "name": "stderr",
     "output_type": "stream",
     "text": [
      "100%|██████████| 229/229 [03:16<00:00,  1.16it/s]\n"
     ]
    },
    {
     "name": "stdout",
     "output_type": "stream",
     "text": [
      "Epoch: 13 Training Perplexity: 1.0391 Validation Perplexity: 1.1103\n"
     ]
    },
    {
     "name": "stderr",
     "output_type": "stream",
     "text": [
      "100%|██████████| 229/229 [03:16<00:00,  1.17it/s]\n"
     ]
    },
    {
     "name": "stdout",
     "output_type": "stream",
     "text": [
      "Epoch: 14 Training Perplexity: 1.0351 Validation Perplexity: 1.1124\n",
      "Validation perplexity: 1.108\n"
     ]
    }
   ],
   "source": [
    "EPOCHS = 15 # epochs; we recommend starting with a smaller number like 1\n",
    "LEARNING_RATE = 1e-4 # learning rate\n",
    "\n",
    "# Instantiate and train classifier\n",
    "model = AttnEncoderDecoder(SRC, TGT,\n",
    "  hidden_size    = 1024,\n",
    "  layers         = 1,\n",
    ").to(device)\n",
    "\n",
    "model.train_all(train_iter, val_iter, epochs=EPOCHS, learning_rate=LEARNING_RATE)\n",
    "model.load_state_dict(model.best_model)\n",
    "\n",
    "# Evaluate model performance, the expected value should be < 1.2\n",
    "print (f'Validation perplexity: {model.evaluate_ppl(val_iter):.3f}')"
   ]
  },
  {
   "cell_type": "markdown",
   "id": "60fc51fc",
   "metadata": {
    "id": "60fc51fc"
   },
   "source": [
    "With a trained model, we can convert questions to SQL statements. We recommend making sure that the model can generate at least reasonable results on the examples from before, before evaluating on the full test set."
   ]
  },
  {
   "cell_type": "code",
   "execution_count": 59,
   "id": "15ff735c",
   "metadata": {
    "id": "15ff735c"
   },
   "outputs": [],
   "source": [
    "def seq2seq_trial(sentence, gold_sql):\n",
    "  print(\"Sentence: \", sentence, \"\\n\")\n",
    "  tokens = tokenize(sentence)\n",
    "\n",
    "  predicted_sql = model.predict(tokens, K=1, max_T=400)\n",
    "  print(\"Predicted SQL:\\n\\n\", predicted_sql, \"\\n\")\n",
    "\n",
    "  if verify(predicted_sql, gold_sql, silent=False):\n",
    "    print ('Correct!')\n",
    "  else:\n",
    "    print ('Incorrect!')"
   ]
  },
  {
   "cell_type": "code",
   "execution_count": 60,
   "id": "3dbfffe1",
   "metadata": {
    "colab": {
     "base_uri": "https://localhost:8080/"
    },
    "id": "3dbfffe1",
    "outputId": "73ba7b37-d53c-413a-d997-7f3d66b519ac"
   },
   "outputs": [
    {
     "name": "stdout",
     "output_type": "stream",
     "text": [
      "Sentence:  flights from phoenix to milwaukee \n",
      "\n",
      "Predicted SQL:\n",
      "\n",
      " SELECT DISTINCT flight_1.flight_id FROM flight flight_1 , airport_service airport_service_1 , city city_1 , airport_service airport_service_2 , city city_2 WHERE flight_1.from_airport = airport_service_1.airport_code AND airport_service_1.city_code = city_1.city_code AND city_1.city_name = 'PHOENIX' AND flight_1.to_airport = airport_service_2.airport_code AND airport_service_2.city_code = city_2.city_code AND city_2.city_name = 'MILWAUKEE' \n",
      "\n",
      "Predicted DB result:\n",
      "\n",
      " [(108086,), (108087,), (301763,), (301764,), (301765,), (301766,), (302323,), (304881,), (310619,), (310620,)] \n",
      "\n",
      "Gold DB result:\n",
      "\n",
      " [(108086,), (108087,), (301763,), (301764,), (301765,), (301766,), (302323,), (304881,), (310619,), (310620,)] \n",
      "\n",
      "Correct!\n"
     ]
    }
   ],
   "source": [
    "seq2seq_trial(example_1, gold_sql_1)"
   ]
  },
  {
   "cell_type": "code",
   "execution_count": 61,
   "id": "d6dc990c",
   "metadata": {
    "colab": {
     "base_uri": "https://localhost:8080/"
    },
    "id": "d6dc990c",
    "outputId": "8ecc02c0-0426-465f-df24-d21710e9033e"
   },
   "outputs": [
    {
     "name": "stdout",
     "output_type": "stream",
     "text": [
      "Sentence:  i would like a united flight \n",
      "\n",
      "Predicted SQL:\n",
      "\n",
      " SELECT DISTINCT flight_1.flight_id FROM flight flight_1 , airport_service airport_service_1 , city city_1 WHERE flight_1.airline_code = 'UA' AND flight_1.to_airport = airport_service_1.airport_code AND airport_service_1.city_code = city_1.city_code AND city_1.city_name = 'DENVER' \n",
      "\n",
      "Predicted DB result:\n",
      "\n",
      " [(102732,), (102736,), (102740,), (102745,), (102747,), (102751,), (102753,), (102754,), (102755,), (102756,)] \n",
      "\n",
      "Gold DB result:\n",
      "\n",
      " [(100094,), (100099,), (100145,), (100158,), (100164,), (100167,), (100169,), (100203,), (100204,), (100296,)] \n",
      "\n",
      "Incorrect!\n"
     ]
    }
   ],
   "source": [
    "seq2seq_trial(example_2, gold_sql_2)"
   ]
  },
  {
   "cell_type": "code",
   "execution_count": 62,
   "id": "dff3d5a7",
   "metadata": {
    "colab": {
     "base_uri": "https://localhost:8080/"
    },
    "id": "dff3d5a7",
    "outputId": "4dda6ebf-4491-4675-c0aa-19c297b64942"
   },
   "outputs": [
    {
     "name": "stdout",
     "output_type": "stream",
     "text": [
      "Sentence:  i would like a flight between boston and dallas \n",
      "\n",
      "Predicted SQL:\n",
      "\n",
      " SELECT DISTINCT flight_1.flight_id FROM flight flight_1 , airport_service airport_service_1 , city city_1 , airport_service airport_service_2 , city city_2 WHERE flight_1.from_airport = airport_service_1.airport_code AND airport_service_1.city_code = city_1.city_code AND city_1.city_name = 'BOSTON' AND flight_1.to_airport = airport_service_2.airport_code AND airport_service_2.city_code = city_2.city_code AND city_2.city_name = 'DALLAS' \n",
      "\n",
      "Predicted DB result:\n",
      "\n",
      " [(103171,), (103172,), (103173,), (103174,), (103175,), (103176,), (103177,), (103178,), (103179,), (103180,)] \n",
      "\n",
      "Gold DB result:\n",
      "\n",
      " [(103171,), (103172,), (103173,), (103174,), (103175,), (103176,), (103177,), (103178,), (103179,), (103180,)] \n",
      "\n",
      "Correct!\n"
     ]
    }
   ],
   "source": [
    "seq2seq_trial(example_3, gold_sql_3)"
   ]
  },
  {
   "cell_type": "code",
   "execution_count": 63,
   "id": "45b7ef49",
   "metadata": {
    "colab": {
     "base_uri": "https://localhost:8080/"
    },
    "id": "45b7ef49",
    "outputId": "595e33eb-fc4a-4334-a39e-8eb14a619eb8"
   },
   "outputs": [
    {
     "name": "stdout",
     "output_type": "stream",
     "text": [
      "Sentence:  show me the united flights from denver to baltimore \n",
      "\n",
      "Predicted SQL:\n",
      "\n",
      " SELECT DISTINCT flight_1.flight_id FROM flight flight_1 , airport_service airport_service_1 , city city_1 , airport_service airport_service_2 , city city_2 WHERE flight_1.airline_code = 'UA' AND ( flight_1.from_airport = airport_service_1.airport_code AND airport_service_1.city_code = city_1.city_code AND city_1.city_name = 'DENVER' AND flight_1.to_airport = airport_service_2.airport_code AND airport_service_2.city_code = city_2.city_code AND city_2.city_name = 'BALTIMORE' ) \n",
      "\n",
      "Predicted DB result:\n",
      "\n",
      " [(101231,), (101233,), (305983,)] \n",
      "\n",
      "Gold DB result:\n",
      "\n",
      " [(101231,), (101233,), (305983,)] \n",
      "\n",
      "Correct!\n"
     ]
    }
   ],
   "source": [
    "seq2seq_trial(example_4, gold_sql_4)"
   ]
  },
  {
   "cell_type": "code",
   "execution_count": 64,
   "id": "6787061f",
   "metadata": {
    "colab": {
     "base_uri": "https://localhost:8080/"
    },
    "id": "6787061f",
    "outputId": "659a63df-01fc-4b04-85a3-602dfdffc1d8"
   },
   "outputs": [
    {
     "name": "stdout",
     "output_type": "stream",
     "text": [
      "Sentence:  show flights from cleveland to miami that arrive before 4pm \n",
      "\n",
      "Predicted SQL:\n",
      "\n",
      " SELECT DISTINCT flight_1.flight_id FROM flight flight_1 , airport_service airport_service_1 , city city_1 , airport_service airport_service_2 , city city_2 WHERE flight_1.from_airport = airport_service_1.airport_code AND airport_service_1.city_code = city_1.city_code AND city_1.city_name = 'CLEVELAND' AND ( flight_1.to_airport = airport_service_2.airport_code AND airport_service_2.city_code = city_2.city_code AND city_2.city_name = 'MIAMI' AND flight_1.arrival_time < 1600 ) \n",
      "\n",
      "Predicted DB result:\n",
      "\n",
      " [(107698,), (301117,)] \n",
      "\n",
      "Gold DB result:\n",
      "\n",
      " [(107698,), (301117,)] \n",
      "\n",
      "Correct!\n"
     ]
    }
   ],
   "source": [
    "seq2seq_trial(example_5, gold_sql_5)"
   ]
  },
  {
   "cell_type": "code",
   "execution_count": 65,
   "id": "a3b99c6b",
   "metadata": {
    "colab": {
     "base_uri": "https://localhost:8080/"
    },
    "id": "a3b99c6b",
    "outputId": "ae5ebc21-ab7e-46e8-e758-42792ea68e67"
   },
   "outputs": [
    {
     "name": "stdout",
     "output_type": "stream",
     "text": [
      "Sentence:  okay how about a flight on sunday from tampa to charlotte \n",
      "\n",
      "Predicted SQL:\n",
      "\n",
      " SELECT DISTINCT flight_1.flight_id FROM flight flight_1 , airport_service airport_service_1 , city city_1 , airport_service airport_service_2 , city city_2 , days days_1 , date_day date_day_1 WHERE flight_1.from_airport = airport_service_1.airport_code AND airport_service_1.city_code = city_1.city_code AND city_1.city_name = 'TAMPA' AND ( flight_1.to_airport = airport_service_2.airport_code AND airport_service_2.city_code = city_2.city_code AND city_2.city_name = 'CHARLOTTE' AND flight_1.flight_days = days_1.days_code AND days_1.day_name = date_day_1.day_name AND date_day_1.year = 1991 AND date_day_1.month_number = 8 AND date_day_1.day_number = 27 ) \n",
      "\n",
      "Predicted DB result:\n",
      "\n",
      " [(101860,), (101861,), (101862,), (101863,), (101864,), (101865,), (305231,)] \n",
      "\n",
      "Gold DB result:\n",
      "\n",
      " [(101860,), (101861,), (101862,), (101863,), (101864,), (101865,), (305231,)] \n",
      "\n",
      "Correct!\n"
     ]
    }
   ],
   "source": [
    "seq2seq_trial(example_6, gold_sql_6b)"
   ]
  },
  {
   "cell_type": "code",
   "execution_count": 66,
   "id": "81cc3c0a",
   "metadata": {
    "colab": {
     "base_uri": "https://localhost:8080/"
    },
    "id": "81cc3c0a",
    "outputId": "9e957112-3efe-42e0-f9cc-c74890f1dfeb"
   },
   "outputs": [
    {
     "name": "stdout",
     "output_type": "stream",
     "text": [
      "Sentence:  list all flights going from boston to atlanta that leaves before 7 am on thursday \n",
      "\n",
      "Predicted SQL:\n",
      "\n",
      " SELECT DISTINCT flight_1.flight_id FROM flight flight_1 , airport_service airport_service_1 , city city_1 , airport_service airport_service_2 , city city_2 , days days_1 , date_day date_day_1 WHERE flight_1.from_airport = airport_service_1.airport_code AND airport_service_1.city_code = city_1.city_code AND city_1.city_name = 'BOSTON' AND ( flight_1.to_airport = airport_service_2.airport_code AND airport_service_2.city_code = city_2.city_code AND city_2.city_name = 'ATLANTA' AND ( flight_1.flight_days = days_1.days_code AND days_1.day_name = date_day_1.day_name AND date_day_1.year = 1991 AND date_day_1.month_number = 5 AND date_day_1.day_number = 24 AND flight_1.departure_time < 700 ) ) \n",
      "\n",
      "Predicted DB result:\n",
      "\n",
      " [(100014,)] \n",
      "\n",
      "Gold DB result:\n",
      "\n",
      " [(100014,)] \n",
      "\n",
      "Correct!\n"
     ]
    }
   ],
   "source": [
    "seq2seq_trial(example_7, gold_sql_7b)"
   ]
  },
  {
   "cell_type": "code",
   "execution_count": 67,
   "id": "205f0d76",
   "metadata": {
    "colab": {
     "base_uri": "https://localhost:8080/"
    },
    "id": "205f0d76",
    "outputId": "a6912dc0-d204-442d-c874-853839ad5ad0"
   },
   "outputs": [
    {
     "name": "stdout",
     "output_type": "stream",
     "text": [
      "Sentence:  list the flights from dallas to san francisco on american airlines \n",
      "\n",
      "Predicted SQL:\n",
      "\n",
      " SELECT DISTINCT flight_1.flight_id FROM flight flight_1 , airport_service airport_service_1 , city city_1 , airport_service airport_service_2 , city city_2 WHERE flight_1.airline_code = 'AA' AND ( flight_1.from_airport = airport_service_1.airport_code AND airport_service_1.city_code = city_1.city_code AND city_1.city_name = 'DALLAS' AND flight_1.to_airport = airport_service_2.airport_code AND airport_service_2.city_code = city_2.city_code AND city_2.city_name = 'SAN FRANCISCO' ) \n",
      "\n",
      "Predicted DB result:\n",
      "\n",
      " [(108452,), (108454,), (108456,), (111083,), (111085,), (111086,), (111090,), (111091,), (111092,), (111094,)] \n",
      "\n",
      "Gold DB result:\n",
      "\n",
      " [(108452,), (108454,), (108456,), (111083,), (111085,), (111086,), (111090,), (111091,), (111092,), (111094,)] \n",
      "\n",
      "Correct!\n"
     ]
    }
   ],
   "source": [
    "seq2seq_trial(example_8, gold_sql_8)"
   ]
  },
  {
   "cell_type": "markdown",
   "id": "999a6edd",
   "metadata": {
    "id": "999a6edd"
   },
   "source": [
    "### Evaluation\n",
    "\n",
    "Now we are ready to run the full evaluation. A proper implementation should reach more than 35% precision/recall/F1."
   ]
  },
  {
   "cell_type": "code",
   "execution_count": 68,
   "id": "bd261825",
   "metadata": {
    "id": "bd261825"
   },
   "outputs": [],
   "source": [
    "def seq2seq_predictor(tokens):\n",
    "  prediction = model.predict(tokens, K=1, max_T=400)\n",
    "  return prediction"
   ]
  },
  {
   "cell_type": "code",
   "execution_count": 69,
   "id": "94e2a108",
   "metadata": {
    "colab": {
     "base_uri": "https://localhost:8080/"
    },
    "id": "94e2a108",
    "outputId": "ad1a7243-f91b-42e2-ffdb-3687ccb4029c"
   },
   "outputs": [
    {
     "name": "stderr",
     "output_type": "stream",
     "text": [
      "100%|██████████| 332/332 [01:43<00:00,  3.20it/s]"
     ]
    },
    {
     "name": "stdout",
     "output_type": "stream",
     "text": [
      "precision: 0.35\n",
      "recall:    0.35\n",
      "F1:        0.35\n"
     ]
    },
    {
     "name": "stderr",
     "output_type": "stream",
     "text": [
      "\n"
     ]
    }
   ],
   "source": [
    "# Expect 30% acc\n",
    "\n",
    "precision, recall, f1 = evaluate(seq2seq_predictor, test_iter.dataset, num_examples=0)\n",
    "print(f\"precision: {precision:3.2f}\")\n",
    "print(f\"recall:    {recall:3.2f}\")\n",
    "print(f\"F1:        {f1:3.2f}\")"
   ]
  },
  {
   "cell_type": "markdown",
   "id": "3c8bf8f5",
   "metadata": {
    "id": "3c8bf8f5"
   },
   "source": [
    "## Goal 3: Implement a seq2seq model (with cross attention and self attention)\n",
    "\n",
    "In the previous section, you have implemented a seq2seq model with attention. The attention mechanism used in that section is usually referred to as \"cross-attention\", as at each decoding step, the decoder attends to encoder outputs, enabling a dynamic view on the encoder side as decoding proceeds.\n",
    "\n",
    "Similarly, we can have a dynamic view on the decoder side as well as decoding proceeds, i.e., the decoder attends to decoder outputs at previous steps. This is called \"self attention\", and has been found very useful in modern neural architectures such as transformers.\n",
    "\n",
    "Augment the seq2seq model you implemented before with a decoder self-attention mechanism as class `AttnEncoderDecoder2`. A model diagram can be found below:\n",
    "\n",
    "\n",
    "<img src=\"https://github.com/nlp-course/data/raw/master/img/encoderdecoder_attn_selfattn.png\" alt=\"encoder-decoder-attn-with-selfattn illustration\" />\n",
    "\n",
    "At each decoding step, the decoder LSTM first produces an output state $o_t$, then it attends to all previous output states $o_1, \\ldots, o_{t-1}$ (decoder self-attention). You need to special case the first decoding step to not perform self-attention, as there are no previous decoder states. The attention result is added to $o_t$ itself and the sum is used as $q_t$ to attend to the encoder side (encoder-decoder cross-attention). The rest of the model is the same as encoder-decoder with attention.\n"
   ]
  },
  {
   "cell_type": "code",
   "execution_count": 70,
   "id": "ae42ad81",
   "metadata": {
    "id": "ae42ad81"
   },
   "outputs": [],
   "source": [
    "#TODO - implement the `AttnEncoderDecoder2` class.\n",
    "#TODO - implement `forward_encoder` and `forward_decoder_incrementally`.\n",
    "class AttnEncoderDecoder2(nn.Module):\n",
    "  def __init__(self, src_field, tgt_field, hidden_size=64, layers=3):\n",
    "    \"\"\"\n",
    "    Initializer. Creates network modules and loss function.\n",
    "    Arguments:\n",
    "        src_field: src field\n",
    "        tgt_field: tgt field\n",
    "        hidden_size: hidden layer size of both encoder and decoder\n",
    "        layers: number of layers of both encoder and decoder\n",
    "    \"\"\"\n",
    "    super().__init__()\n",
    "    self.src_field = src_field\n",
    "    self.tgt_field = tgt_field\n",
    "    \n",
    "    # Keep the vocabulary sizes available\n",
    "    self.V_src = len(src_field.vocab.itos)\n",
    "    self.V_tgt = len(tgt_field.vocab.itos)\n",
    "    \n",
    "    # Get special word ids\n",
    "    self.padding_id_src = src_field.vocab.stoi[src_field.pad_token]\n",
    "    self.padding_id_tgt = tgt_field.vocab.stoi[tgt_field.pad_token]\n",
    "    self.bos_id = tgt_field.vocab.stoi[tgt_field.init_token]\n",
    "    self.eos_id = tgt_field.vocab.stoi[tgt_field.eos_token]\n",
    "\n",
    "    # Keep hyper-parameters available\n",
    "    self.embedding_size = hidden_size\n",
    "    self.hidden_size = hidden_size\n",
    "    self.layers = layers\n",
    "\n",
    "    # Create essential modules\n",
    "    self.word_embeddings_src = nn.Embedding(self.V_src, self.embedding_size)\n",
    "    self.word_embeddings_tgt = nn.Embedding(self.V_tgt, self.embedding_size)\n",
    "\n",
    "    # RNN cells\n",
    "    self.encoder_rnn = nn.LSTM(\n",
    "      input_size    = self.embedding_size,\n",
    "      hidden_size   = hidden_size // 2, # to match decoder hidden size\n",
    "      num_layers    = layers,\n",
    "      bidirectional = True              # bidirectional encoder\n",
    "    )\n",
    "    self.decoder_rnn = nn.LSTM(\n",
    "      input_size    = self.embedding_size,\n",
    "      hidden_size   = hidden_size,\n",
    "      num_layers    = layers,\n",
    "      bidirectional = False             # unidirectional decoder\n",
    "    )\n",
    "\n",
    "    # Final projection layer\n",
    "    self.hidden2output = nn.Linear(2*hidden_size, self.V_tgt) # project the concatenation to logits\n",
    "   \n",
    "    # Create loss function\n",
    "    self.loss_function = nn.CrossEntropyLoss(reduction='sum', \n",
    "                                             ignore_index=self.padding_id_tgt)\n",
    "\n",
    "  def forward_encoder(self, src, src_lengths):\n",
    "    \"\"\"\n",
    "    Encodes source words `src`.\n",
    "    Arguments:\n",
    "        src: src batch of size (max_src_len, bsz)\n",
    "        src_lengths: src lengths of size (bsz)\n",
    "    Returns:\n",
    "        memory_bank: a tensor of size (src_len, bsz, hidden_size)\n",
    "        (final_state, context): `final_state` is a tuple (h, c) where h/c is of size \n",
    "                                (layers, bsz, hidden_size), and `context` is `None`. \n",
    "    \"\"\"\n",
    "    #TODO\n",
    "    embeddings = self.word_embeddings_src(src.to(device))\n",
    "    packed = pack(embeddings, src_lengths.to('cpu'), batch_first =False)\n",
    "    memory_bank, (hn, cn) = self.encoder_rnn(packed)\n",
    "\n",
    "    hn = hn.transpose(0,1)\n",
    "    (bsz, l, hsz) = hn.size()\n",
    "    hn = hn.reshape(bsz, l // 2, hsz * 2)\n",
    "    hn = hn.transpose(0,1)\n",
    "\n",
    "\n",
    "    cn = cn.transpose(0,1)\n",
    "    (bsz, l, hsz) = cn.size()\n",
    "    cn = cn.reshape(bsz, l // 2, hsz * 2)\n",
    "    cn = cn.transpose(0,1)\n",
    "        \n",
    "    return memory_bank, ((hn, cn), None, None)\n",
    "\n",
    "  def forward_decoder(self, encoder_final_state, tgt_in, memory_bank, src_mask):\n",
    "    \"\"\"\n",
    "    Decodes based on encoder final state, memory bank, src_mask, and ground truth \n",
    "    target words.\n",
    "    Arguments:\n",
    "        encoder_final_state: (final_state, None) where final_state is the encoder\n",
    "                             final state used to initialize decoder. None is the\n",
    "                             initial context (there's no previous context at the\n",
    "                             first step).\n",
    "        tgt_in: a tensor of size (tgt_len, bsz)\n",
    "        memory_bank: a tensor of size (src_len, bsz, hidden_size), encoder outputs \n",
    "                     at every position\n",
    "        src_mask: a tensor of size (src_len, bsz): a boolean tensor, `False` where\n",
    "                  src is padding (we disallow decoder to attend to those places).\n",
    "    Returns:\n",
    "        Logits of size (tgt_len, bsz, V_tgt) (before the softmax operation)\n",
    "    \"\"\"\n",
    "    max_tgt_length = tgt_in.size(0)\n",
    "    \n",
    "    # Initialize decoder state, note that it's a tuple (state, context) here\n",
    "    decoder_states = encoder_final_state\n",
    "    \n",
    "    all_logits = []\n",
    "    for i in range(max_tgt_length):\n",
    "      logits, decoder_states, attn = \\\n",
    "        self.forward_decoder_incrementally(decoder_states, \n",
    "                                           tgt_in[i], \n",
    "                                           memory_bank,\n",
    "                                           src_mask,\n",
    "                                           normalize=False)\n",
    "      all_logits.append(logits)             # list of bsz, vocab_tgt\n",
    "    all_logits = torch.stack(all_logits, 0) # tgt_len, bsz, vocab_tgt\n",
    "    return all_logits\n",
    "\n",
    "  def forward(self, src, src_lengths, tgt_in):\n",
    "    \"\"\"\n",
    "    Performs forward computation, returns logits.\n",
    "    Arguments:\n",
    "        src: src batch of size (max_src_len, bsz)\n",
    "        src_lengths: src lengths of size (bsz)\n",
    "        tgt_in:  a tensor of size (tgt_len, bsz)\n",
    "    \"\"\"\n",
    "    src_mask = src.ne(self.padding_id_src) # max_src_len, bsz\n",
    "    # Forward encoder\n",
    "    memory_bank, encoder_final_state = self.forward_encoder(src, src_lengths)\n",
    "    # Forward decoder\n",
    "    logits = self.forward_decoder(encoder_final_state, tgt_in, memory_bank, src_mask)\n",
    "    return logits\n",
    "\n",
    "  def forward_decoder_incrementally(self, prev_decoder_states, tgt_in_onestep, \n",
    "                                    memory_bank, src_mask,\n",
    "                                    normalize=True):\n",
    "    \"\"\"\n",
    "    Forward the decoder for a single step with token `tgt_in_onestep`.\n",
    "    This function will be used both in `forward_decoder` and in beam search.\n",
    "    Note that bsz can be greater than 1.\n",
    "    Arguments:\n",
    "        prev_decoder_states: a tuple (prev_decoder_state, prev_context, past_outputs). `prev_context`\n",
    "                             is `None` for the first step\n",
    "        tgt_in_onestep: a tensor of size (bsz), tokens at one step\n",
    "        memory_bank: a tensor of size (src_len, bsz, hidden_size), encoder outputs \n",
    "                     at every position\n",
    "        src_mask: a tensor of size (src_len, bsz): a boolean tensor, `False` where\n",
    "                  src is padding (we disallow decoder to attend to those places).\n",
    "        normalize: use log_softmax to normalize or not. Beam search needs to normalize,\n",
    "                   while `forward_decoder` does not\n",
    "    Returns:\n",
    "        logits: log probabilities for `tgt_in_token` of size (bsz, V_tgt)\n",
    "        decoder_states: (`decoder_state`, `context`) which will be used for the \n",
    "                        next incremental update\n",
    "        attn: normalized attention scores at this step (bsz, src_len)\n",
    "    \"\"\"\n",
    "    \n",
    "    prev_decoder_state, prev_context, past_outputs = prev_decoder_states\n",
    "    \n",
    "    # Compute embeddings\n",
    "    tgt_embeddings = self.word_embeddings_tgt(\n",
    "        tgt_in_onestep.to(device).view(1, -1)\n",
    "    )  # tgt_len, bsz, hidden\n",
    "    \n",
    "    # Add prev_context if exists\n",
    "    if prev_context is not None:\n",
    "        tgt_embeddings += prev_context\n",
    "    \n",
    "    # Apply decoder RNN \n",
    "    decoder_outs, decoder_state = self.decoder_rnn(tgt_embeddings, prev_decoder_state)\n",
    "    \n",
    "    # Compute self-attention if not none \n",
    "    if past_outputs is not None:\n",
    "        attn, context = attention(decoder_outs,past_outputs,past_outputs, None)\n",
    "        past_outputs = torch.cat((past_outputs, decoder_outs), dim=0)\n",
    "        decoder_outs = context + decoder_outs\n",
    "    else:\n",
    "        past_outputs = decoder_outs\n",
    "\n",
    "    # Unpack and save memory bank\n",
    "    memory_bank = torch.nn.utils.rnn.pad_packed_sequence(memory_bank,batch_first=False)[0]\n",
    "    mask = torch.unsqueeze(src_mask.T,1)\n",
    "\n",
    "    # Compute cross-attention \n",
    "    attn, context = attention(decoder_outs,memory_bank,memory_bank,mask)\n",
    "    attn = attn.squeeze(1)\n",
    "    # Project and compute logits\n",
    "    inputs = torch.cat((context, decoder_outs),dim=-1)\n",
    "    logits = self.hidden2output(inputs)  # tgt_len, bsz, V_tgt\n",
    "    \n",
    "    decoder_states = (decoder_state, context, past_outputs)\n",
    "    if normalize:\n",
    "      logits = torch.log_softmax(logits, dim=-1)\n",
    "    return logits, decoder_states, attn\n",
    "\n",
    "  def predict(self, tokens, K=1, max_T=400):\n",
    "    # create beam searcher\n",
    "    src = torch.tensor([[self.src_field.vocab.stoi[i] for i in tokens]]).transpose(0,1)\n",
    "    src_lengths = torch.tensor([len(tokens)])\n",
    "    \n",
    "    beam_searcher = BeamSearcher(self)\n",
    "\n",
    "    prediction, _ = beam_searcher.beam_search(src.to(device), src_lengths, K, max_T=max_T)\n",
    "    \n",
    "    # Convert to string\n",
    "    prediction = ' '.join([self.tgt_field.vocab.itos[token] for token in prediction])\n",
    "    prediction = prediction.lstrip('<bos>').rstrip('<eos>').strip()\n",
    "    \n",
    "    return prediction\n",
    "    \n",
    "\n",
    "  def evaluate_ppl(self, iterator):\n",
    "    \"\"\"Returns the model's perplexity on a given dataset `iterator`.\"\"\"\n",
    "    # Switch to eval mode\n",
    "    self.eval()\n",
    "    total_loss = 0\n",
    "    total_words = 0\n",
    "    for batch in iterator:\n",
    "      # Input and target\n",
    "      src, src_lengths = batch.src\n",
    "      tgt = batch.tgt # max_length_sql, bsz\n",
    "      tgt_in = tgt[:-1] # remove <eos> for decode input (y_0=<bos>, y_1, y_2)\n",
    "      tgt_out = tgt[1:] # remove <bos> as target        (y_1, y_2, y_3=<eos>)\n",
    "      # Forward to get logits\n",
    "      logits = self.forward(src, src_lengths, tgt_in)\n",
    "      # Compute cross entropy loss\n",
    "      loss = self.loss_function(logits.view(-1, self.V_tgt), tgt_out.view(-1))\n",
    "      total_loss += loss.item()\n",
    "      total_words += tgt_out.ne(self.padding_id_tgt).float().sum().item()\n",
    "    return math.exp(total_loss/total_words)\n",
    "\n",
    "  def train_all(self, train_iter, val_iter, epochs=10, learning_rate=0.001):\n",
    "    \"\"\"Train the model.\"\"\"\n",
    "    # Switch the module to training mode\n",
    "    self.train()\n",
    "    # Use Adam to optimize the parameters\n",
    "    optim = torch.optim.Adam(self.parameters(), lr=learning_rate)\n",
    "    best_validation_ppl = float('inf')\n",
    "    best_model = None\n",
    "    # Run the optimization for multiple epochs\n",
    "    for epoch in range(epochs): \n",
    "      total_words = 0\n",
    "      total_loss = 0.0\n",
    "      for batch in tqdm(train_iter):\n",
    "        # Zero the parameter gradients\n",
    "        self.zero_grad()\n",
    "        # Input and target\n",
    "        src, src_lengths = batch.src # text: max_src_length, bsz\n",
    "        tgt = batch.tgt # max_tgt_length, bsz\n",
    "        tgt_in = tgt[:-1] # Remove <eos> for decode input (y_0=<bos>, y_1, y_2)\n",
    "        tgt_out = tgt[1:] # Remove <bos> as target        (y_1, y_2, y_3=<eos>)\n",
    "        bsz = tgt.size(1)\n",
    "        # Run forward pass and compute loss along the way.\n",
    "        logits = self.forward(src, src_lengths, tgt_in)\n",
    "        loss = self.loss_function(logits.view(-1, self.V_tgt), tgt_out.view(-1))\n",
    "        # Training stats\n",
    "        num_tgt_words = tgt_out.ne(self.padding_id_tgt).float().sum().item()\n",
    "        total_words += num_tgt_words\n",
    "        total_loss += loss.item()\n",
    "        # Perform backpropagation\n",
    "        loss.div(bsz).backward()\n",
    "        optim.step()\n",
    "\n",
    "      # Evaluate and track improvements on the validation dataset\n",
    "      validation_ppl = self.evaluate_ppl(val_iter)\n",
    "      self.train()\n",
    "      if validation_ppl < best_validation_ppl:\n",
    "        best_validation_ppl = validation_ppl\n",
    "        self.best_model = copy.deepcopy(self.state_dict())\n",
    "      epoch_loss = total_loss / total_words\n",
    "      print (f'Epoch: {epoch} Training Perplexity: {math.exp(epoch_loss):.4f} '\n",
    "             f'Validation Perplexity: {validation_ppl:.4f}')"
   ]
  },
  {
   "cell_type": "code",
   "execution_count": 71,
   "id": "d4e2aa52",
   "metadata": {
    "colab": {
     "base_uri": "https://localhost:8080/"
    },
    "id": "d4e2aa52",
    "outputId": "94316e2e-b23a-47d2-bf3e-5132060e7c47"
   },
   "outputs": [
    {
     "data": {
      "text/plain": [
       "Ellipsis"
      ]
     },
     "execution_count": 71,
     "metadata": {},
     "output_type": "execute_result"
    }
   ],
   "source": [
    "..."
   ]
  },
  {
   "cell_type": "code",
   "execution_count": 72,
   "id": "5c794758",
   "metadata": {
    "colab": {
     "base_uri": "https://localhost:8080/"
    },
    "id": "5c794758",
    "outputId": "4b0de759-2a80-4bab-fbc9-c128f64c36ae"
   },
   "outputs": [
    {
     "name": "stderr",
     "output_type": "stream",
     "text": [
      "100%|██████████| 229/229 [04:24<00:00,  1.16s/it]\n"
     ]
    },
    {
     "name": "stdout",
     "output_type": "stream",
     "text": [
      "Epoch: 0 Training Perplexity: 3.9646 Validation Perplexity: 1.8204\n"
     ]
    },
    {
     "name": "stderr",
     "output_type": "stream",
     "text": [
      "100%|██████████| 229/229 [04:18<00:00,  1.13s/it]\n"
     ]
    },
    {
     "name": "stdout",
     "output_type": "stream",
     "text": [
      "Epoch: 1 Training Perplexity: 1.5543 Validation Perplexity: 1.4709\n"
     ]
    },
    {
     "name": "stderr",
     "output_type": "stream",
     "text": [
      "100%|██████████| 229/229 [04:21<00:00,  1.14s/it]\n"
     ]
    },
    {
     "name": "stdout",
     "output_type": "stream",
     "text": [
      "Epoch: 2 Training Perplexity: 1.3534 Validation Perplexity: 1.3664\n"
     ]
    },
    {
     "name": "stderr",
     "output_type": "stream",
     "text": [
      "100%|██████████| 229/229 [04:25<00:00,  1.16s/it]\n"
     ]
    },
    {
     "name": "stdout",
     "output_type": "stream",
     "text": [
      "Epoch: 3 Training Perplexity: 1.2633 Validation Perplexity: 1.2669\n"
     ]
    },
    {
     "name": "stderr",
     "output_type": "stream",
     "text": [
      "100%|██████████| 229/229 [04:21<00:00,  1.14s/it]\n"
     ]
    },
    {
     "name": "stdout",
     "output_type": "stream",
     "text": [
      "Epoch: 4 Training Perplexity: 1.2012 Validation Perplexity: 1.2780\n"
     ]
    },
    {
     "name": "stderr",
     "output_type": "stream",
     "text": [
      "100%|██████████| 229/229 [04:19<00:00,  1.13s/it]\n"
     ]
    },
    {
     "name": "stdout",
     "output_type": "stream",
     "text": [
      "Epoch: 5 Training Perplexity: 1.1701 Validation Perplexity: 1.2166\n"
     ]
    },
    {
     "name": "stderr",
     "output_type": "stream",
     "text": [
      "100%|██████████| 229/229 [04:21<00:00,  1.14s/it]\n"
     ]
    },
    {
     "name": "stdout",
     "output_type": "stream",
     "text": [
      "Epoch: 6 Training Perplexity: 1.1428 Validation Perplexity: 1.1815\n"
     ]
    },
    {
     "name": "stderr",
     "output_type": "stream",
     "text": [
      "100%|██████████| 229/229 [04:15<00:00,  1.12s/it]\n"
     ]
    },
    {
     "name": "stdout",
     "output_type": "stream",
     "text": [
      "Epoch: 7 Training Perplexity: 1.1164 Validation Perplexity: 1.1617\n"
     ]
    },
    {
     "name": "stderr",
     "output_type": "stream",
     "text": [
      "100%|██████████| 229/229 [04:22<00:00,  1.15s/it]\n"
     ]
    },
    {
     "name": "stdout",
     "output_type": "stream",
     "text": [
      "Epoch: 8 Training Perplexity: 1.1048 Validation Perplexity: 1.1558\n"
     ]
    },
    {
     "name": "stderr",
     "output_type": "stream",
     "text": [
      "100%|██████████| 229/229 [04:22<00:00,  1.15s/it]\n"
     ]
    },
    {
     "name": "stdout",
     "output_type": "stream",
     "text": [
      "Epoch: 9 Training Perplexity: 1.0844 Validation Perplexity: 1.1409\n"
     ]
    },
    {
     "name": "stderr",
     "output_type": "stream",
     "text": [
      "100%|██████████| 229/229 [04:20<00:00,  1.14s/it]\n"
     ]
    },
    {
     "name": "stdout",
     "output_type": "stream",
     "text": [
      "Epoch: 10 Training Perplexity: 1.0747 Validation Perplexity: 1.1390\n"
     ]
    },
    {
     "name": "stderr",
     "output_type": "stream",
     "text": [
      "100%|██████████| 229/229 [04:21<00:00,  1.14s/it]\n"
     ]
    },
    {
     "name": "stdout",
     "output_type": "stream",
     "text": [
      "Epoch: 11 Training Perplexity: 1.0678 Validation Perplexity: 1.1359\n"
     ]
    },
    {
     "name": "stderr",
     "output_type": "stream",
     "text": [
      "100%|██████████| 229/229 [04:19<00:00,  1.14s/it]\n"
     ]
    },
    {
     "name": "stdout",
     "output_type": "stream",
     "text": [
      "Epoch: 12 Training Perplexity: 1.0582 Validation Perplexity: 1.1261\n"
     ]
    },
    {
     "name": "stderr",
     "output_type": "stream",
     "text": [
      "100%|██████████| 229/229 [04:18<00:00,  1.13s/it]\n"
     ]
    },
    {
     "name": "stdout",
     "output_type": "stream",
     "text": [
      "Epoch: 13 Training Perplexity: 1.0693 Validation Perplexity: 1.1342\n"
     ]
    },
    {
     "name": "stderr",
     "output_type": "stream",
     "text": [
      "100%|██████████| 229/229 [04:24<00:00,  1.16s/it]\n"
     ]
    },
    {
     "name": "stdout",
     "output_type": "stream",
     "text": [
      "Epoch: 14 Training Perplexity: 1.0520 Validation Perplexity: 1.1265\n"
     ]
    },
    {
     "name": "stderr",
     "output_type": "stream",
     "text": [
      "100%|██████████| 229/229 [04:21<00:00,  1.14s/it]\n"
     ]
    },
    {
     "name": "stdout",
     "output_type": "stream",
     "text": [
      "Epoch: 15 Training Perplexity: 1.0427 Validation Perplexity: 1.1167\n"
     ]
    },
    {
     "name": "stderr",
     "output_type": "stream",
     "text": [
      "100%|██████████| 229/229 [04:21<00:00,  1.14s/it]\n"
     ]
    },
    {
     "name": "stdout",
     "output_type": "stream",
     "text": [
      "Epoch: 16 Training Perplexity: 1.0355 Validation Perplexity: 1.1135\n"
     ]
    },
    {
     "name": "stderr",
     "output_type": "stream",
     "text": [
      "100%|██████████| 229/229 [04:20<00:00,  1.14s/it]\n"
     ]
    },
    {
     "name": "stdout",
     "output_type": "stream",
     "text": [
      "Epoch: 17 Training Perplexity: 1.0303 Validation Perplexity: 1.1125\n"
     ]
    },
    {
     "name": "stderr",
     "output_type": "stream",
     "text": [
      "100%|██████████| 229/229 [04:21<00:00,  1.14s/it]\n"
     ]
    },
    {
     "name": "stdout",
     "output_type": "stream",
     "text": [
      "Epoch: 18 Training Perplexity: 1.0272 Validation Perplexity: 1.1168\n"
     ]
    },
    {
     "name": "stderr",
     "output_type": "stream",
     "text": [
      "100%|██████████| 229/229 [04:24<00:00,  1.15s/it]\n"
     ]
    },
    {
     "name": "stdout",
     "output_type": "stream",
     "text": [
      "Epoch: 19 Training Perplexity: 1.0275 Validation Perplexity: 1.1281\n",
      "Validation perplexity: 1.113\n"
     ]
    }
   ],
   "source": [
    "EPOCHS = 20 # epochs, we recommend starting with a smaller number like 1\n",
    "LEARNING_RATE = 1e-4 # learning rate\n",
    "\n",
    "# Instantiate and train classifier\n",
    "model2 = AttnEncoderDecoder2(SRC, TGT,\n",
    "  hidden_size    = 1024,\n",
    "  layers         = 1,\n",
    ").to(device)\n",
    "\n",
    "model2.train_all(train_iter, val_iter, epochs=EPOCHS, learning_rate=LEARNING_RATE)\n",
    "model2.load_state_dict(model2.best_model)\n",
    "\n",
    "# Evaluate model performance, the expected value should be < 1.2\n",
    "print (f'Validation perplexity: {model2.evaluate_ppl(val_iter):.3f}')"
   ]
  },
  {
   "cell_type": "markdown",
   "id": "f16694cf",
   "metadata": {
    "id": "f16694cf"
   },
   "source": [
    "### Evaluation\n",
    "\n",
    "Now we are ready to run the full evaluation. A proper implementation should reach more than 35% precision/recall/F1."
   ]
  },
  {
   "cell_type": "code",
   "execution_count": 73,
   "id": "6afaf1cb",
   "metadata": {
    "id": "6afaf1cb"
   },
   "outputs": [],
   "source": [
    "def seq2seq_predictor2(tokens):\n",
    "  prediction = model2.predict(tokens, K=1, max_T=400)\n",
    "  return prediction"
   ]
  },
  {
   "cell_type": "code",
   "execution_count": 74,
   "id": "bddaf61a",
   "metadata": {
    "colab": {
     "base_uri": "https://localhost:8080/"
    },
    "id": "bddaf61a",
    "outputId": "7262549f-1ab5-4fd8-bfc9-f47deb562efa"
   },
   "outputs": [
    {
     "name": "stderr",
     "output_type": "stream",
     "text": [
      "100%|██████████| 332/332 [02:28<00:00,  2.23it/s]"
     ]
    },
    {
     "name": "stdout",
     "output_type": "stream",
     "text": [
      "precision: 0.36\n",
      "recall:    0.36\n",
      "F1:        0.36\n"
     ]
    },
    {
     "name": "stderr",
     "output_type": "stream",
     "text": [
      "\n"
     ]
    }
   ],
   "source": [
    "precision, recall, f1 = evaluate(seq2seq_predictor2, test_iter.dataset, num_examples=0)\n",
    "print(f\"precision: {precision:3.2f}\")\n",
    "print(f\"recall:    {recall:3.2f}\")\n",
    "print(f\"F1:        {f1:3.2f}\")"
   ]
  },
  {
   "cell_type": "markdown",
   "id": "874edc55",
   "metadata": {
    "id": "874edc55"
   },
   "source": [
    "# Discussion"
   ]
  },
  {
   "cell_type": "markdown",
   "id": "c4f5c727",
   "metadata": {
    "deletable": false,
    "editable": false,
    "id": "c4f5c727"
   },
   "source": [
    "<!-- BEGIN QUESTION -->\n",
    "\n",
    "## Goal 4: Compare the pros and cons of rule-based and neural approaches.\n",
    "\n",
    "Compare the pros and cons of the rule-based approach and the neural approaches with relevant examples from your experiments above. Concerning the accuracy, which approach would you choose to be used in a product? Explain.\n",
    "<!--\n",
    "BEGIN QUESTION\n",
    "name: open_response_comp\n",
    "manual: true\n",
    "-->"
   ]
  },
  {
   "cell_type": "markdown",
   "id": "59a1b21a",
   "metadata": {
    "id": "59a1b21a"
   },
   "source": [
    "Rule-based approaches require more human parsing of the data since we have to come up with a grammar that must be\n",
    "large enough to cover the training dataset and even expect a good coverage of a testing data set. Then, you have to\n",
    "write a lot of augmentations that vary a lot since there are syntactically many differences that lead to semantically\n",
    "different results. Therefore, it is very time consuming and becomes very nitty-gritty. The only good thing about rule-based approaches is that you can immediately rule out\n",
    "sentences that cannot be parsed according to the grammar and guarantee that converted sentences fit the grammar\n",
    "of the SQL queries. Therefore, for rule-based approaches, the coverage set will likely have a very high accuracy, but the coverage could be very small.\n",
    "\n",
    "If we think about rule-based approaches applied to other contexts, if you have a simple dataset, for example polynomials of degree two in factored $(ax +b)(cx + d)$ form that you have to expand, then a rule based\n",
    "approach is a great option since the rule is simply getting $a, b, c, d$. and putting them in $abx^2 + (bc + da)x + bd$ form. However, for this task of converting questions to SQL queries, then it is probably better\n",
    "to use seq2seq neural models. \n",
    "\n",
    "Seq2seq neural models, on the other hand allow us to come up with some sort of conversion for every data point. However, some conversions may be very wrong.\n"
   ]
  },
  {
   "cell_type": "markdown",
   "id": "cf7005e0",
   "metadata": {
    "id": "cf7005e0"
   },
   "source": [
    "<!-- END QUESTION -->\n",
    "\n",
    "\n",
    "\n",
    "## (Optional) Goal 5: Use state-of-the-art pretrained transformers\n",
    "\n",
    "\n",
    "The most recent breakthrough in natural-language processing stems from the use of pretrained transformer models. For example, you might have heard of pretrained transformers such as [GPT-3](https://arxiv.org/abs/2005.14165) and [BERT](https://arxiv.org/abs/1810.04805). (BERT is already used in [Google search](https://searchengineland.com/google-bert-used-on-almost-every-english-query-342193).) These models are usually trained on vast amounts of text data using variants of language modeling objectives, and researchers have found that finetuning them on downstream tasks usually results in better performance as compared to training a model from scratch.\n",
    "\n",
    "In the previous part, you implemented an LSTM-based sequence-to-sequence approach. To \"upgrade\" the model to be a state-of-the-art pretrained transformer only requires minor modifications.\n",
    "\n",
    "The pretrained model that we will use is [BART](https://arxiv.org/abs/1910.13461), which uses a bidirectional transformer encoder and a unidirectional transformer decoder, as illustrated in the below diagram (image courtesy https://arxiv.org/pdf/1910.13461):\n",
    "\n",
    "<img src=\"https://raw.githubusercontent.com/nlp-course/data/master/img/bart_architecture.png\" alt=\"encoder-decoder illustration\" />\n",
    "\n",
    "We can see that this model is strikingly similar to the LSTM-based encoder-decoder model we've been using. The only difference is that they use transformers instead of LSTMs. Therefore, we only need to change the modeling parts of the code, as we will see later."
   ]
  },
  {
   "cell_type": "markdown",
   "id": "794e0ace",
   "metadata": {
    "id": "794e0ace"
   },
   "source": [
    "First, we download and load the pretrained BART model from the [transformers](https://github.com/huggingface/transformers) package by Huggingface. Note that we also need to use the \"tokenizer\" of BART, which is actually a combination of a tokenizer and a mapping from strings to word ids."
   ]
  },
  {
   "cell_type": "code",
   "execution_count": 75,
   "id": "6500ba0a",
   "metadata": {
    "colab": {
     "base_uri": "https://localhost:8080/",
     "height": 177,
     "referenced_widgets": [
      "3616f58f35c44b9abd979c7506bd800f",
      "1f6849158ac742219ef31adccd42aa18",
      "b92e75fe2ad8429c9b5a5e72f20d7a95",
      "ee4423a37bed48a989eb8d5c9c8033c4",
      "e8d75a779c4b4d5b95831d6530d94ddf",
      "3ba16590ade74dad80b0d5a3bd23f24a",
      "9adfd2a285bc4d56bd2817743c48f328",
      "9c3df6f00a5541998c85b56159ba4e7c",
      "26062de4012645b89e4467e871a4f517",
      "327a83139f1e4d0c8fd03a4bb871ae3b",
      "db78a99798e2416a9a4bbdcc318401e0",
      "36dad5eb025e42d986a1ab9746f1f424",
      "2bee73f285504d7989724b169c3582f6",
      "ea1f9200a7b549078a7f954bbff7d52f",
      "094eda4ef2994fb2a277bf85392091b8",
      "f5b8b80d1f824e57b9e2fba5dad7e687",
      "caa9b2652351435a99d117ad4668ef15",
      "8d3a6c14e4cd4e418680d22b4a07cf7b",
      "f07e1da88c3c48819c5ea4efd62b3ce2",
      "9c9e9ed0bb7f4178b522b791c5b08f9f",
      "56f64b61587f4c4480b0c57492438939",
      "2cfe440330dd4f0fa2d442ec81070100",
      "ac1b58cec1f04903bcd7a16d9d1590ca",
      "18e02ee7cdaf4689b39773e3a0ce894a",
      "8e249e0b173a4979a9cc9406b9634a19",
      "8b40f56333eb45d5a17a61dc57e621ed",
      "5055b80e74c84ede9731fd2302649306",
      "a108b91ce5ad4d34ad370bbad973cbff",
      "4b76d1f9462147ab8513306ea3e6d3d0",
      "81eb7b1572164e1d87d4972ea46448b5",
      "8506aa1354194303bb435ae096b6e564",
      "9eb3c9e7e2294fadb1157decc9e0d463",
      "67fe5be63f6141efb236744aaafa363c",
      "303e5e553b70434aa60ee7e71d60cf0e",
      "542bc758b3904720b0ed3c9aab76d558",
      "ce8fd9151bd341d6a27d47565ede25ec",
      "cc51c166edcc452e82eecb7e9f5897ea",
      "d7c3c8cd1f9e47a1adcc820d83935ac9",
      "f00959952bc14a74bf6d78b8ce9b9c9c",
      "a12bafa5640d4f9581ab6d2f8a398691",
      "ce9a31a3bafe40899bd9e11b115fc524",
      "24bfae0808ca48f4911f05c92708d1d9",
      "2fb3647fe949416d941ddeba17756dc4",
      "6ffaf1e333f44c76a9b52370b6e17ab9",
      "c2bffcb480a64fa8b753ae21d868c175",
      "e738e479f9f74aea8c7547a9de6f3f91",
      "5034089d5b7749c3bc77e4e6f844fc3f",
      "fcd084bef313444ea44674eea5a3eafd",
      "03ddaa9061184a50882408da6ea49100",
      "90126352a7614ff19ac00365e96f3a96",
      "6c119ee936184856acd1f5b49db8bc84",
      "5e76db2d21ce40e6bfa45a0b334834c3",
      "6e9defe0688145899db2291d750422c7",
      "10aec2f1248d435cb74d1e8a3e62d4d3",
      "ff08611232cd4107a451c405520f3e6f"
     ]
    },
    "id": "6500ba0a",
    "outputId": "9e249551-de21-462a-aa33-32d5de93e6d3"
   },
   "outputs": [
    {
     "data": {
      "application/vnd.jupyter.widget-view+json": {
       "model_id": "3616f58f35c44b9abd979c7506bd800f",
       "version_major": 2,
       "version_minor": 0
      },
      "text/plain": [
       "Downloading:   0%|          | 0.00/1.65k [00:00<?, ?B/s]"
      ]
     },
     "metadata": {},
     "output_type": "display_data"
    },
    {
     "data": {
      "application/vnd.jupyter.widget-view+json": {
       "model_id": "36dad5eb025e42d986a1ab9746f1f424",
       "version_major": 2,
       "version_minor": 0
      },
      "text/plain": [
       "Downloading:   0%|          | 0.00/532M [00:00<?, ?B/s]"
      ]
     },
     "metadata": {},
     "output_type": "display_data"
    },
    {
     "data": {
      "application/vnd.jupyter.widget-view+json": {
       "model_id": "ac1b58cec1f04903bcd7a16d9d1590ca",
       "version_major": 2,
       "version_minor": 0
      },
      "text/plain": [
       "Downloading:   0%|          | 0.00/878k [00:00<?, ?B/s]"
      ]
     },
     "metadata": {},
     "output_type": "display_data"
    },
    {
     "data": {
      "application/vnd.jupyter.widget-view+json": {
       "model_id": "303e5e553b70434aa60ee7e71d60cf0e",
       "version_major": 2,
       "version_minor": 0
      },
      "text/plain": [
       "Downloading:   0%|          | 0.00/446k [00:00<?, ?B/s]"
      ]
     },
     "metadata": {},
     "output_type": "display_data"
    },
    {
     "data": {
      "application/vnd.jupyter.widget-view+json": {
       "model_id": "c2bffcb480a64fa8b753ae21d868c175",
       "version_major": 2,
       "version_minor": 0
      },
      "text/plain": [
       "Downloading:   0%|          | 0.00/1.29M [00:00<?, ?B/s]"
      ]
     },
     "metadata": {},
     "output_type": "display_data"
    }
   ],
   "source": [
    "pretrained_bart = BartForConditionalGeneration.from_pretrained('facebook/bart-base')\n",
    "bart_tokenizer = BartTokenizer.from_pretrained('facebook/bart-base')"
   ]
  },
  {
   "cell_type": "markdown",
   "id": "4ecf8b5f",
   "metadata": {
    "id": "4ecf8b5f"
   },
   "source": [
    "Below we demonstrate how to use BART's tokenizer to convert a sentence to a list of word ids, and vice versa."
   ]
  },
  {
   "cell_type": "code",
   "execution_count": 76,
   "id": "10a2d105",
   "metadata": {
    "colab": {
     "base_uri": "https://localhost:8080/"
    },
    "id": "10a2d105",
    "outputId": "aeea8fc1-1486-412f-fb87-49777d92e8d6"
   },
   "outputs": [
    {
     "name": "stdout",
     "output_type": "stream",
     "text": [
      "tokenized: [0, 13755, 89, 143, 78, 12, 4684, 4871, 31, 312, 4, 3217, 23, 365, 1685, 13, 540, 87, 68, 246, 4, 1096, 116, 2]\n",
      "detokenized: Are there any first-class flights from St. Louis at 11pm for less than $3.50?\n"
     ]
    }
   ],
   "source": [
    "# BART uses a predefined \"tokenizer\", which directly maps a sentence \n",
    "# to a list of ids\n",
    "def bart_tokenize(string):\n",
    "  return bart_tokenizer(string)['input_ids'][:1024] # BART model can process at most 1024 tokens\n",
    "\n",
    "def bart_detokenize(token_ids):\n",
    "    return bart_tokenizer.decode(token_ids, skip_special_tokens=True)\n",
    "\n",
    "## Demonstrating the tokenizer\n",
    "question = 'Are there any first-class flights from St. Louis at 11pm for less than $3.50?'\n",
    "\n",
    "tokenized_question = bart_tokenize(question)\n",
    "print('tokenized:', tokenized_question)\n",
    "\n",
    "detokenized_question = bart_detokenize(tokenized_question)\n",
    "print('detokenized:', detokenized_question)"
   ]
  },
  {
   "cell_type": "markdown",
   "id": "903dae4a",
   "metadata": {
    "id": "903dae4a"
   },
   "source": [
    "We need to reprocess the data using our new tokenizer. Note that here we set `batch_first` to `True`, since that's the expected input shape of the transformers package."
   ]
  },
  {
   "cell_type": "code",
   "execution_count": 77,
   "id": "1d0ca8d1",
   "metadata": {
    "colab": {
     "base_uri": "https://localhost:8080/"
    },
    "id": "1d0ca8d1",
    "outputId": "47fe192d-00ed-44cb-fe92-b887fd6ac8bd"
   },
   "outputs": [
    {
     "name": "stderr",
     "output_type": "stream",
     "text": [
      "Token indices sequence length is longer than the specified maximum sequence length for this model (1135 > 1024). Running this sequence through the model will result in indexing errors\n"
     ]
    }
   ],
   "source": [
    "SRC_BART = tt.data.Field(include_lengths=True,   # include lengths\n",
    "                         batch_first=True,       # batches will be batch_size x max_len\n",
    "                         tokenize=bart_tokenize, # use bart tokenizer\n",
    "                         use_vocab=False,        # bart tokenizer already converts to int ids\n",
    "                         pad_token=bart_tokenizer.pad_token_id\n",
    "                        ) \n",
    "TGT_BART = tt.data.Field(include_lengths=False,\n",
    "                         batch_first=True,       # batches will be batch_size x max_len\n",
    "                         tokenize=bart_tokenize, # use bart tokenizer\n",
    "                         use_vocab=False,        # bart tokenizer already converts to int ids\n",
    "                         pad_token=bart_tokenizer.pad_token_id\n",
    "                        )\n",
    "fields_bart = [('src', SRC_BART), ('tgt', TGT_BART)]\n",
    "\n",
    "# Make splits for data\n",
    "train_data_bart, val_data_bart, test_data_bart = tt.datasets.TranslationDataset.splits(\n",
    "    ('_flightid.nl', '_flightid.sql'), fields_bart, path='./data/',\n",
    "    train='train', validation='dev', test='test')\n",
    "\n",
    "BATCH_SIZE = 1 # batch size for training/validation\n",
    "TEST_BATCH_SIZE = 1 # batch size for test, we use 1 to make beam search implementation easier\n",
    "\n",
    "train_iter_bart, val_iter_bart = tt.data.BucketIterator.splits((train_data_bart, val_data_bart),\n",
    "                                                     batch_size=BATCH_SIZE, \n",
    "                                                     device=device,\n",
    "                                                     repeat=False, \n",
    "                                                     sort_key=lambda x: len(x.src), \n",
    "                                                     sort_within_batch=True)\n",
    "test_iter_bart = tt.data.BucketIterator(test_data_bart, \n",
    "                                   batch_size=1, \n",
    "                                   device=device,\n",
    "                                   repeat=False, \n",
    "                                   sort=False, \n",
    "                                   train=False)"
   ]
  },
  {
   "cell_type": "markdown",
   "id": "ccfd94b7",
   "metadata": {
    "id": "ccfd94b7"
   },
   "source": [
    "Let's take a look at the batch. Note that the shape of the batch is `batch_size x max_len`, instead of `max_len x batch_size` as in the previous part."
   ]
  },
  {
   "cell_type": "code",
   "execution_count": 78,
   "id": "b1b10983",
   "metadata": {
    "colab": {
     "base_uri": "https://localhost:8080/"
    },
    "id": "b1b10983",
    "outputId": "2ab12b6f-1a5d-4fe8-91c5-cbedbd7907dc"
   },
   "outputs": [
    {
     "name": "stdout",
     "output_type": "stream",
     "text": [
      "Size of text batch: torch.Size([1, 12])\n",
      "First sentence in batch: tensor([    0, 12005,   162,     5,  4871,    31, 27121,  8726,     7,  7843,\n",
      "        10758,     2], device='cuda:0')\n",
      "Length of the third sentence in batch: 12\n",
      "Converted back to string: show me the flights from montreal to philly\n",
      "Size of sql batch: torch.Size([1, 155])\n",
      "First sql in batch: tensor([    0, 49179,   211, 11595,  2444,  7164,  2524,  1215,   134,     4,\n",
      "        15801,  1215,   808, 11974,  2524,  2524,  1215,   134,  2156,  3062,\n",
      "         1215, 11131,  3062,  1215, 11131,  1215,   134,  2156,   343,   343,\n",
      "         1215,   134,  2156,  3062,  1215, 11131,  3062,  1215, 11131,  1215,\n",
      "          176,  2156,   343,   343,  1215,   176, 29919,  2524,  1215,   134,\n",
      "            4,  7761,  1215,  2456,  3427,  5457,  3062,  1215, 11131,  1215,\n",
      "          134,     4,  2456,  3427,  1215, 20414,  4248,  3062,  1215, 11131,\n",
      "         1215,   134,     4, 14853,  1215, 20414,  5457,   343,  1215,   134,\n",
      "            4, 14853,  1215, 20414,  4248,   343,  1215,   134,     4, 14853,\n",
      "         1215, 13650,  5457,   128, 20911,   565,  4629,  2118,   108,  4248,\n",
      "         2524,  1215,   134,     4,   560,  1215,  2456,  3427,  5457,  3062,\n",
      "         1215, 11131,  1215,   176,     4,  2456,  3427,  1215, 20414,  4248,\n",
      "         3062,  1215, 11131,  1215,   176,     4, 14853,  1215, 20414,  5457,\n",
      "          343,  1215,   176,     4, 14853,  1215, 20414,  4248,   343,  1215,\n",
      "          176,     4, 14853,  1215, 13650,  5457,   128,  7561,  3063,  2606,\n",
      "         3721,  7561,  2889,   108,     2], device='cuda:0')\n",
      "Converted back to string: SELECT DISTINCT flight_1.flight_id FROM flight flight_1, airport_service airport_service_1, city city_1, airport_service airport_service_2, city city_2 WHERE flight_1.from_airport = airport_service_1.airport_code AND airport_service_1.city_code = city_1.city_code AND city_1.city_name = 'MONTREAL' AND flight_1.to_airport = airport_service_2.airport_code AND airport_service_2.city_code = city_2.city_code AND city_2.city_name = 'PHILADELPHIA'\n"
     ]
    }
   ],
   "source": [
    "batch = next(iter(train_iter_bart))\n",
    "train_batch_text, train_batch_text_lengths = batch.src\n",
    "print (f\"Size of text batch: {train_batch_text.shape}\")\n",
    "print (f\"First sentence in batch: {train_batch_text[0]}\")\n",
    "print (f\"Length of the third sentence in batch: {train_batch_text_lengths[0]}\")\n",
    "print (f\"Converted back to string: {bart_detokenize(train_batch_text[0])}\")\n",
    "\n",
    "train_batch_sql = batch.tgt\n",
    "print (f\"Size of sql batch: {train_batch_sql.shape}\")\n",
    "print (f\"First sql in batch: {train_batch_sql[0]}\")\n",
    "print (f\"Converted back to string: {bart_detokenize(train_batch_sql[0])}\")"
   ]
  },
  {
   "cell_type": "markdown",
   "id": "5e0ff77c",
   "metadata": {
    "id": "5e0ff77c"
   },
   "source": [
    "Now we are ready to implement the BART-based approach for the text-to-SQL conversion problem. In the below `BART` class, we have provided the constructer `__init__`, the `forward` function, and the `predict` function. Your job is to implement the main optimization `train_all`, and `evaluate_ppl` for evaluating validation perplexity for model selection.\n",
    "\n",
    "> Hint: you can use almost the same `train_all` and `evaluate_ppl` function you implemented before, but here a major difference is that due to setting `batch_first=True`, the batched source/target tensors are of size `batch_size x max_len`, as opposed to `max_len x batch_size` in the LSTM-based approach, and you need to make changes in `train_all` and `evaluate_ppl` accordingly."
   ]
  },
  {
   "cell_type": "code",
   "execution_count": 79,
   "id": "bdfb7741",
   "metadata": {
    "id": "bdfb7741"
   },
   "outputs": [],
   "source": [
    "#TODO - finish implementing the `BART` class.\n",
    "class BART(nn.Module):\n",
    "  def __init__(self, tokenizer, pretrained_bart):\n",
    "    \"\"\"\n",
    "    Initializer. Creates network modules and loss function.\n",
    "    Arguments:\n",
    "        tokenizer: BART tokenizer\n",
    "        pretrained_bart: pretrained BART\n",
    "    \"\"\"\n",
    "    super(BART, self).__init__()\n",
    "    \n",
    "    self.V_tgt = len(tokenizer)\n",
    "    \n",
    "    # Get special word ids\n",
    "    self.padding_id_tgt = tokenizer.pad_token_id\n",
    "\n",
    "    # Create essential modules\n",
    "    self.bart = pretrained_bart\n",
    "\n",
    "    # Create loss function\n",
    "    self.loss_function = nn.CrossEntropyLoss(reduction=\"sum\", \n",
    "                                             ignore_index=self.padding_id_tgt)\n",
    "\n",
    "  def forward(self, src, src_lengths, tgt_in):\n",
    "    \"\"\"\n",
    "    Performs forward computation, returns logits.\n",
    "    Arguments:\n",
    "        src: src batch of size (batch_size, max_src_len)\n",
    "        src_lengths: src lengths of size (batch_size)\n",
    "        tgt_in:  a tensor of size (tgt_len, bsz)\n",
    "    \"\"\"\n",
    "    # BART assumes inputs to be batch-first\n",
    "    # This single function is forwarding both encoder and decoder (w/ cross attn),\n",
    "    # using `input_ids` as encoder inputs, and `decoder_input_ids`\n",
    "    # as decoder inputs.\n",
    "    logits = self.bart(input_ids=src, \n",
    "                       decoder_input_ids=tgt_in,\n",
    "                       use_cache=False\n",
    "                      ).logits\n",
    "    return logits\n",
    "\n",
    "  def evaluate_ppl(self, iterator):\n",
    "    \"\"\"Returns the model's perplexity on a given dataset `iterator`.\"\"\"\n",
    "    #TODO - implement this function\n",
    "    ...\n",
    "    ppl = ...\n",
    "    return ppl\n",
    "\n",
    "  def train_all(self, train_iter, val_iter, epochs=10, learning_rate=0.001):\n",
    "    \"\"\"Train the model.\"\"\"\n",
    "    #TODO - implement this function\n",
    "    ...\n",
    "        \n",
    "  def predict(self, tokens, K=1, max_T=400):\n",
    "    \"\"\"\n",
    "    Generates the target sequence given the source sequence using beam search decoding. \n",
    "    Note that for simplicity, we only use batch size 1.\n",
    "    Arguments:\n",
    "        tokens: a list of strings, the source sentence.\n",
    "        max_T: at most proceed this many steps of decoding\n",
    "    Returns: \n",
    "        a string of the generated target sentence.\n",
    "    \"\"\"\n",
    "    string = ' '.join(tokens) # first convert to a string\n",
    "    # Tokenize and map to a list of word ids\n",
    "    inputs = torch.LongTensor(bart_tokenize(string)).to(device).view(1, -1)\n",
    "    # The `transformers` package provides built-in beam search support\n",
    "    prediction = self.bart.generate(inputs, \n",
    "                                    num_beams=K, \n",
    "                                    max_length=max_T, \n",
    "                                    early_stopping=True, \n",
    "                                    no_repeat_ngram_size=0,\n",
    "                                    decoder_start_token_id=0, \n",
    "                                    use_cache=True)[0]\n",
    "    return bart_detokenize(prediction)"
   ]
  },
  {
   "cell_type": "markdown",
   "id": "fcfea1b9",
   "metadata": {
    "id": "fcfea1b9"
   },
   "source": [
    "The code below will kick off training, and evaluate the validation perplexity. You should expect to see a value very close to 1."
   ]
  },
  {
   "cell_type": "code",
   "execution_count": null,
   "id": "f33cdf86",
   "metadata": {
    "id": "f33cdf86"
   },
   "outputs": [],
   "source": [
    "EPOCHS = 5 # epochs, we recommend starting with a smaller number like 1\n",
    "LEARNING_RATE = 1e-5 # learning rate\n",
    "\n",
    "# Instantiate and train classifier\n",
    "bart_model = BART(bart_tokenizer,\n",
    "                 pretrained_bart\n",
    ").to(device)\n",
    "\n",
    "bart_model.train_all(train_iter_bart, val_iter_bart, epochs=EPOCHS, learning_rate=LEARNING_RATE)\n",
    "bart_model.load_state_dict(bart_model.best_model)\n",
    "\n",
    "# Evaluate model performance, the expected value should be < 1.2\n",
    "print (f'Validation perplexity: {bart_model.evaluate_ppl(val_iter_bart):.3f}')"
   ]
  },
  {
   "cell_type": "markdown",
   "id": "e0d77243",
   "metadata": {
    "id": "e0d77243"
   },
   "source": [
    "As before, make sure that your model is making reasonable predictions on a few examples before evaluating on the entire test set."
   ]
  },
  {
   "cell_type": "code",
   "execution_count": null,
   "id": "0c00f1b0",
   "metadata": {
    "id": "0c00f1b0"
   },
   "outputs": [],
   "source": [
    "def bart_trial(sentence, gold_sql):\n",
    "  print(\"Sentence: \", sentence, \"\\n\")\n",
    "  tokens = tokenize(sentence)\n",
    "\n",
    "  predicted_sql = bart_model.predict(tokens, K=1, max_T=300)\n",
    "  print(\"Predicted SQL:\\n\\n\", predicted_sql, \"\\n\")\n",
    "\n",
    "  if verify(predicted_sql, gold_sql, silent=False):\n",
    "    print ('Correct!')\n",
    "  else:\n",
    "    print ('Incorrect!')"
   ]
  },
  {
   "cell_type": "code",
   "execution_count": null,
   "id": "a1cd22e8",
   "metadata": {
    "id": "a1cd22e8"
   },
   "outputs": [],
   "source": [
    "bart_trial(example_1, gold_sql_1)"
   ]
  },
  {
   "cell_type": "code",
   "execution_count": null,
   "id": "111f4a02",
   "metadata": {
    "id": "111f4a02"
   },
   "outputs": [],
   "source": [
    "bart_trial(example_2, gold_sql_2)"
   ]
  },
  {
   "cell_type": "code",
   "execution_count": null,
   "id": "0734784a",
   "metadata": {
    "id": "0734784a"
   },
   "outputs": [],
   "source": [
    "bart_trial(example_3, gold_sql_3)"
   ]
  },
  {
   "cell_type": "code",
   "execution_count": null,
   "id": "2154b0c2",
   "metadata": {
    "id": "2154b0c2"
   },
   "outputs": [],
   "source": [
    "bart_trial(example_4, gold_sql_4)"
   ]
  },
  {
   "cell_type": "code",
   "execution_count": null,
   "id": "33982cdf",
   "metadata": {
    "id": "33982cdf"
   },
   "outputs": [],
   "source": [
    "bart_trial(example_5, gold_sql_5)"
   ]
  },
  {
   "cell_type": "code",
   "execution_count": null,
   "id": "ecbbb38c",
   "metadata": {
    "id": "ecbbb38c"
   },
   "outputs": [],
   "source": [
    "bart_trial(example_6, gold_sql_6b)"
   ]
  },
  {
   "cell_type": "code",
   "execution_count": null,
   "id": "395ff379",
   "metadata": {
    "id": "395ff379"
   },
   "outputs": [],
   "source": [
    "bart_trial(example_7, gold_sql_7b)"
   ]
  },
  {
   "cell_type": "code",
   "execution_count": null,
   "id": "14dea3a2",
   "metadata": {
    "id": "14dea3a2"
   },
   "outputs": [],
   "source": [
    "bart_trial(example_8, gold_sql_8)"
   ]
  },
  {
   "cell_type": "markdown",
   "id": "e6c62528",
   "metadata": {
    "id": "e6c62528"
   },
   "source": [
    "### Evaluation"
   ]
  },
  {
   "cell_type": "markdown",
   "id": "ed606dda",
   "metadata": {
    "id": "ed606dda"
   },
   "source": [
    "The code below will evaluate on the entire test set. You should expect to see precision/recall/F1 greater than 40%."
   ]
  },
  {
   "cell_type": "code",
   "execution_count": null,
   "id": "4ea89388",
   "metadata": {
    "id": "4ea89388"
   },
   "outputs": [],
   "source": [
    "def seq2seq_predictor_bart(tokens):\n",
    "  prediction = bart_model.predict(tokens, K=4, max_T=400)\n",
    "  return prediction"
   ]
  },
  {
   "cell_type": "code",
   "execution_count": null,
   "id": "a3654ee7",
   "metadata": {
    "id": "a3654ee7"
   },
   "outputs": [],
   "source": [
    "precision, recall, f1 = evaluate(seq2seq_predictor_bart, test_iter.dataset, num_examples=0)\n",
    "print(f\"precision: {precision:3.2f}\")\n",
    "print(f\"recall:    {recall:3.2f}\")\n",
    "print(f\"F1:        {f1:3.2f}\")"
   ]
  },
  {
   "cell_type": "markdown",
   "id": "227d1056",
   "metadata": {
    "deletable": false,
    "editable": false,
    "id": "227d1056"
   },
   "source": [
    "<!-- BEGIN QUESTION -->\n",
    "\n",
    "# Debrief\n",
    "\n",
    "**Question:** We're interested in any thoughts you have about this project segment so that we can improve it for later years, and to inform later segments for this year. Please list any issues that arose or comments you have to improve the project segment. Useful things to comment on might include the following: \n",
    "\n",
    "* Was the project segment clear or unclear? Which portions?\n",
    "* Were the readings appropriate background for the project segment? \n",
    "* Are there additions or changes you think would make the project segment better?\n",
    "\n",
    "<!--\n",
    "BEGIN QUESTION\n",
    "name: open_response_debrief\n",
    "manual: true\n",
    "-->\n",
    "\n",
    "but you should comment on whatever aspects you found especially positive or negative."
   ]
  },
  {
   "cell_type": "markdown",
   "id": "46834d00",
   "metadata": {
    "id": "46834d00"
   },
   "source": [
    "The project was of appropriate challenge but I think I would have liked a bit more conceptual guidance on cross-attention mechanism in goal three because I was mainly guessing and checking since I didn't exactly understand how the flow of data would go. Otherwise it was clear and of appropriate length."
   ]
  },
  {
   "cell_type": "markdown",
   "id": "7302348c",
   "metadata": {
    "id": "7302348c"
   },
   "source": [
    "<!-- END QUESTION -->\n",
    "\n",
    "\n",
    "\n",
    "# Instructions for submission of the project segment\n",
    "\n",
    "This project segment should be submitted to Gradescope at <http://go.cs187.info/project4-submit-code> and <http://go.cs187.info/project4-submit-pdf>, which will be made available some time before the due date.\n",
    "\n",
    "Project segment notebooks are manually graded, not autograded using otter as labs are. (Otter is used within project segment notebooks to synchronize distribution and solution code however.) **We will not run your notebook before grading it.** Instead, we ask that you submit the already freshly run notebook. The best method is to \"restart kernel and run all cells\", allowing time for all cells to be run to completion. You should submit your code to Gradescope at the code submission assignment at <http://go.cs187.info/project4-submit-code>. Make sure that you are also submitting your `data/grammar` file as part of your solution code as well.\n",
    "\n",
    "We also request that you **submit a PDF of the freshly run notebook**. The simplest method is to use \"Export notebook to PDF\", which will render the notebook to PDF via LaTeX. If that doesn't work, the method that seems to be most reliable is to export the notebook as HTML (if you are using Jupyter Notebook, you can do so using `File -> Print Preview`), open the HTML in a browser, and print it to a file. Then make sure to add the file to your git commit. Please name the file the same name as this notebook, but with a `.pdf` extension. (Conveniently, the methods just described will use that name by default.) You can then perform a git commit and push and submit the commit to Gradescope at <http://go.cs187.info/project4-submit-pdf>."
   ]
  },
  {
   "cell_type": "markdown",
   "id": "6377f4dd",
   "metadata": {
    "id": "6377f4dd"
   },
   "source": [
    "# End of project segment 4 {-}"
   ]
  }
 ],
 "metadata": {
  "accelerator": "GPU",
  "celltoolbar": "Tags",
  "colab": {
   "collapsed_sections": [],
   "name": "project4_semantics.ipynb",
   "provenance": [],
   "toc_visible": true
  },
  "kernelspec": {
   "display_name": "Python 3 (ipykernel)",
   "language": "python",
   "name": "python3"
  },
  "language_info": {
   "codemirror_mode": {
    "name": "ipython",
    "version": 3
   },
   "file_extension": ".py",
   "mimetype": "text/x-python",
   "name": "python",
   "nbconvert_exporter": "python",
   "pygments_lexer": "ipython3",
   "version": "3.8.3"
  },
  "title": "CS187 Project Segment 4: Semantic Interpretation – Question Answering",
  "widgets": {
   "application/vnd.jupyter.widget-state+json": {
    "03ddaa9061184a50882408da6ea49100": {
     "model_module": "@jupyter-widgets/controls",
     "model_module_version": "1.5.0",
     "model_name": "HTMLModel",
     "state": {
      "_dom_classes": [],
      "_model_module": "@jupyter-widgets/controls",
      "_model_module_version": "1.5.0",
      "_model_name": "HTMLModel",
      "_view_count": null,
      "_view_module": "@jupyter-widgets/controls",
      "_view_module_version": "1.5.0",
      "_view_name": "HTMLView",
      "description": "",
      "description_tooltip": null,
      "layout": "IPY_MODEL_ff08611232cd4107a451c405520f3e6f",
      "placeholder": "​",
      "style": "IPY_MODEL_10aec2f1248d435cb74d1e8a3e62d4d3",
      "value": " 1.29M/1.29M [00:00&lt;00:00, 2.69MB/s]"
     }
    },
    "094eda4ef2994fb2a277bf85392091b8": {
     "model_module": "@jupyter-widgets/controls",
     "model_module_version": "1.5.0",
     "model_name": "FloatProgressModel",
     "state": {
      "_dom_classes": [],
      "_model_module": "@jupyter-widgets/controls",
      "_model_module_version": "1.5.0",
      "_model_name": "FloatProgressModel",
      "_view_count": null,
      "_view_module": "@jupyter-widgets/controls",
      "_view_module_version": "1.5.0",
      "_view_name": "ProgressView",
      "bar_style": "success",
      "description": "",
      "description_tooltip": null,
      "layout": "IPY_MODEL_9c9e9ed0bb7f4178b522b791c5b08f9f",
      "max": 557771387,
      "min": 0,
      "orientation": "horizontal",
      "style": "IPY_MODEL_f07e1da88c3c48819c5ea4efd62b3ce2",
      "value": 557771387
     }
    },
    "10aec2f1248d435cb74d1e8a3e62d4d3": {
     "model_module": "@jupyter-widgets/controls",
     "model_module_version": "1.5.0",
     "model_name": "DescriptionStyleModel",
     "state": {
      "_model_module": "@jupyter-widgets/controls",
      "_model_module_version": "1.5.0",
      "_model_name": "DescriptionStyleModel",
      "_view_count": null,
      "_view_module": "@jupyter-widgets/base",
      "_view_module_version": "1.2.0",
      "_view_name": "StyleView",
      "description_width": ""
     }
    },
    "18e02ee7cdaf4689b39773e3a0ce894a": {
     "model_module": "@jupyter-widgets/base",
     "model_module_version": "1.2.0",
     "model_name": "LayoutModel",
     "state": {
      "_model_module": "@jupyter-widgets/base",
      "_model_module_version": "1.2.0",
      "_model_name": "LayoutModel",
      "_view_count": null,
      "_view_module": "@jupyter-widgets/base",
      "_view_module_version": "1.2.0",
      "_view_name": "LayoutView",
      "align_content": null,
      "align_items": null,
      "align_self": null,
      "border": null,
      "bottom": null,
      "display": null,
      "flex": null,
      "flex_flow": null,
      "grid_area": null,
      "grid_auto_columns": null,
      "grid_auto_flow": null,
      "grid_auto_rows": null,
      "grid_column": null,
      "grid_gap": null,
      "grid_row": null,
      "grid_template_areas": null,
      "grid_template_columns": null,
      "grid_template_rows": null,
      "height": null,
      "justify_content": null,
      "justify_items": null,
      "left": null,
      "margin": null,
      "max_height": null,
      "max_width": null,
      "min_height": null,
      "min_width": null,
      "object_fit": null,
      "object_position": null,
      "order": null,
      "overflow": null,
      "overflow_x": null,
      "overflow_y": null,
      "padding": null,
      "right": null,
      "top": null,
      "visibility": null,
      "width": null
     }
    },
    "1f6849158ac742219ef31adccd42aa18": {
     "model_module": "@jupyter-widgets/base",
     "model_module_version": "1.2.0",
     "model_name": "LayoutModel",
     "state": {
      "_model_module": "@jupyter-widgets/base",
      "_model_module_version": "1.2.0",
      "_model_name": "LayoutModel",
      "_view_count": null,
      "_view_module": "@jupyter-widgets/base",
      "_view_module_version": "1.2.0",
      "_view_name": "LayoutView",
      "align_content": null,
      "align_items": null,
      "align_self": null,
      "border": null,
      "bottom": null,
      "display": null,
      "flex": null,
      "flex_flow": null,
      "grid_area": null,
      "grid_auto_columns": null,
      "grid_auto_flow": null,
      "grid_auto_rows": null,
      "grid_column": null,
      "grid_gap": null,
      "grid_row": null,
      "grid_template_areas": null,
      "grid_template_columns": null,
      "grid_template_rows": null,
      "height": null,
      "justify_content": null,
      "justify_items": null,
      "left": null,
      "margin": null,
      "max_height": null,
      "max_width": null,
      "min_height": null,
      "min_width": null,
      "object_fit": null,
      "object_position": null,
      "order": null,
      "overflow": null,
      "overflow_x": null,
      "overflow_y": null,
      "padding": null,
      "right": null,
      "top": null,
      "visibility": null,
      "width": null
     }
    },
    "24bfae0808ca48f4911f05c92708d1d9": {
     "model_module": "@jupyter-widgets/base",
     "model_module_version": "1.2.0",
     "model_name": "LayoutModel",
     "state": {
      "_model_module": "@jupyter-widgets/base",
      "_model_module_version": "1.2.0",
      "_model_name": "LayoutModel",
      "_view_count": null,
      "_view_module": "@jupyter-widgets/base",
      "_view_module_version": "1.2.0",
      "_view_name": "LayoutView",
      "align_content": null,
      "align_items": null,
      "align_self": null,
      "border": null,
      "bottom": null,
      "display": null,
      "flex": null,
      "flex_flow": null,
      "grid_area": null,
      "grid_auto_columns": null,
      "grid_auto_flow": null,
      "grid_auto_rows": null,
      "grid_column": null,
      "grid_gap": null,
      "grid_row": null,
      "grid_template_areas": null,
      "grid_template_columns": null,
      "grid_template_rows": null,
      "height": null,
      "justify_content": null,
      "justify_items": null,
      "left": null,
      "margin": null,
      "max_height": null,
      "max_width": null,
      "min_height": null,
      "min_width": null,
      "object_fit": null,
      "object_position": null,
      "order": null,
      "overflow": null,
      "overflow_x": null,
      "overflow_y": null,
      "padding": null,
      "right": null,
      "top": null,
      "visibility": null,
      "width": null
     }
    },
    "26062de4012645b89e4467e871a4f517": {
     "model_module": "@jupyter-widgets/base",
     "model_module_version": "1.2.0",
     "model_name": "LayoutModel",
     "state": {
      "_model_module": "@jupyter-widgets/base",
      "_model_module_version": "1.2.0",
      "_model_name": "LayoutModel",
      "_view_count": null,
      "_view_module": "@jupyter-widgets/base",
      "_view_module_version": "1.2.0",
      "_view_name": "LayoutView",
      "align_content": null,
      "align_items": null,
      "align_self": null,
      "border": null,
      "bottom": null,
      "display": null,
      "flex": null,
      "flex_flow": null,
      "grid_area": null,
      "grid_auto_columns": null,
      "grid_auto_flow": null,
      "grid_auto_rows": null,
      "grid_column": null,
      "grid_gap": null,
      "grid_row": null,
      "grid_template_areas": null,
      "grid_template_columns": null,
      "grid_template_rows": null,
      "height": null,
      "justify_content": null,
      "justify_items": null,
      "left": null,
      "margin": null,
      "max_height": null,
      "max_width": null,
      "min_height": null,
      "min_width": null,
      "object_fit": null,
      "object_position": null,
      "order": null,
      "overflow": null,
      "overflow_x": null,
      "overflow_y": null,
      "padding": null,
      "right": null,
      "top": null,
      "visibility": null,
      "width": null
     }
    },
    "2bee73f285504d7989724b169c3582f6": {
     "model_module": "@jupyter-widgets/base",
     "model_module_version": "1.2.0",
     "model_name": "LayoutModel",
     "state": {
      "_model_module": "@jupyter-widgets/base",
      "_model_module_version": "1.2.0",
      "_model_name": "LayoutModel",
      "_view_count": null,
      "_view_module": "@jupyter-widgets/base",
      "_view_module_version": "1.2.0",
      "_view_name": "LayoutView",
      "align_content": null,
      "align_items": null,
      "align_self": null,
      "border": null,
      "bottom": null,
      "display": null,
      "flex": null,
      "flex_flow": null,
      "grid_area": null,
      "grid_auto_columns": null,
      "grid_auto_flow": null,
      "grid_auto_rows": null,
      "grid_column": null,
      "grid_gap": null,
      "grid_row": null,
      "grid_template_areas": null,
      "grid_template_columns": null,
      "grid_template_rows": null,
      "height": null,
      "justify_content": null,
      "justify_items": null,
      "left": null,
      "margin": null,
      "max_height": null,
      "max_width": null,
      "min_height": null,
      "min_width": null,
      "object_fit": null,
      "object_position": null,
      "order": null,
      "overflow": null,
      "overflow_x": null,
      "overflow_y": null,
      "padding": null,
      "right": null,
      "top": null,
      "visibility": null,
      "width": null
     }
    },
    "2cfe440330dd4f0fa2d442ec81070100": {
     "model_module": "@jupyter-widgets/base",
     "model_module_version": "1.2.0",
     "model_name": "LayoutModel",
     "state": {
      "_model_module": "@jupyter-widgets/base",
      "_model_module_version": "1.2.0",
      "_model_name": "LayoutModel",
      "_view_count": null,
      "_view_module": "@jupyter-widgets/base",
      "_view_module_version": "1.2.0",
      "_view_name": "LayoutView",
      "align_content": null,
      "align_items": null,
      "align_self": null,
      "border": null,
      "bottom": null,
      "display": null,
      "flex": null,
      "flex_flow": null,
      "grid_area": null,
      "grid_auto_columns": null,
      "grid_auto_flow": null,
      "grid_auto_rows": null,
      "grid_column": null,
      "grid_gap": null,
      "grid_row": null,
      "grid_template_areas": null,
      "grid_template_columns": null,
      "grid_template_rows": null,
      "height": null,
      "justify_content": null,
      "justify_items": null,
      "left": null,
      "margin": null,
      "max_height": null,
      "max_width": null,
      "min_height": null,
      "min_width": null,
      "object_fit": null,
      "object_position": null,
      "order": null,
      "overflow": null,
      "overflow_x": null,
      "overflow_y": null,
      "padding": null,
      "right": null,
      "top": null,
      "visibility": null,
      "width": null
     }
    },
    "2fb3647fe949416d941ddeba17756dc4": {
     "model_module": "@jupyter-widgets/controls",
     "model_module_version": "1.5.0",
     "model_name": "DescriptionStyleModel",
     "state": {
      "_model_module": "@jupyter-widgets/controls",
      "_model_module_version": "1.5.0",
      "_model_name": "DescriptionStyleModel",
      "_view_count": null,
      "_view_module": "@jupyter-widgets/base",
      "_view_module_version": "1.2.0",
      "_view_name": "StyleView",
      "description_width": ""
     }
    },
    "303e5e553b70434aa60ee7e71d60cf0e": {
     "model_module": "@jupyter-widgets/controls",
     "model_module_version": "1.5.0",
     "model_name": "HBoxModel",
     "state": {
      "_dom_classes": [],
      "_model_module": "@jupyter-widgets/controls",
      "_model_module_version": "1.5.0",
      "_model_name": "HBoxModel",
      "_view_count": null,
      "_view_module": "@jupyter-widgets/controls",
      "_view_module_version": "1.5.0",
      "_view_name": "HBoxView",
      "box_style": "",
      "children": [
       "IPY_MODEL_ce8fd9151bd341d6a27d47565ede25ec",
       "IPY_MODEL_cc51c166edcc452e82eecb7e9f5897ea",
       "IPY_MODEL_d7c3c8cd1f9e47a1adcc820d83935ac9"
      ],
      "layout": "IPY_MODEL_542bc758b3904720b0ed3c9aab76d558"
     }
    },
    "327a83139f1e4d0c8fd03a4bb871ae3b": {
     "model_module": "@jupyter-widgets/controls",
     "model_module_version": "1.5.0",
     "model_name": "DescriptionStyleModel",
     "state": {
      "_model_module": "@jupyter-widgets/controls",
      "_model_module_version": "1.5.0",
      "_model_name": "DescriptionStyleModel",
      "_view_count": null,
      "_view_module": "@jupyter-widgets/base",
      "_view_module_version": "1.2.0",
      "_view_name": "StyleView",
      "description_width": ""
     }
    },
    "3616f58f35c44b9abd979c7506bd800f": {
     "model_module": "@jupyter-widgets/controls",
     "model_module_version": "1.5.0",
     "model_name": "HBoxModel",
     "state": {
      "_dom_classes": [],
      "_model_module": "@jupyter-widgets/controls",
      "_model_module_version": "1.5.0",
      "_model_name": "HBoxModel",
      "_view_count": null,
      "_view_module": "@jupyter-widgets/controls",
      "_view_module_version": "1.5.0",
      "_view_name": "HBoxView",
      "box_style": "",
      "children": [
       "IPY_MODEL_b92e75fe2ad8429c9b5a5e72f20d7a95",
       "IPY_MODEL_ee4423a37bed48a989eb8d5c9c8033c4",
       "IPY_MODEL_e8d75a779c4b4d5b95831d6530d94ddf"
      ],
      "layout": "IPY_MODEL_1f6849158ac742219ef31adccd42aa18"
     }
    },
    "36dad5eb025e42d986a1ab9746f1f424": {
     "model_module": "@jupyter-widgets/controls",
     "model_module_version": "1.5.0",
     "model_name": "HBoxModel",
     "state": {
      "_dom_classes": [],
      "_model_module": "@jupyter-widgets/controls",
      "_model_module_version": "1.5.0",
      "_model_name": "HBoxModel",
      "_view_count": null,
      "_view_module": "@jupyter-widgets/controls",
      "_view_module_version": "1.5.0",
      "_view_name": "HBoxView",
      "box_style": "",
      "children": [
       "IPY_MODEL_ea1f9200a7b549078a7f954bbff7d52f",
       "IPY_MODEL_094eda4ef2994fb2a277bf85392091b8",
       "IPY_MODEL_f5b8b80d1f824e57b9e2fba5dad7e687"
      ],
      "layout": "IPY_MODEL_2bee73f285504d7989724b169c3582f6"
     }
    },
    "3ba16590ade74dad80b0d5a3bd23f24a": {
     "model_module": "@jupyter-widgets/controls",
     "model_module_version": "1.5.0",
     "model_name": "DescriptionStyleModel",
     "state": {
      "_model_module": "@jupyter-widgets/controls",
      "_model_module_version": "1.5.0",
      "_model_name": "DescriptionStyleModel",
      "_view_count": null,
      "_view_module": "@jupyter-widgets/base",
      "_view_module_version": "1.2.0",
      "_view_name": "StyleView",
      "description_width": ""
     }
    },
    "4b76d1f9462147ab8513306ea3e6d3d0": {
     "model_module": "@jupyter-widgets/base",
     "model_module_version": "1.2.0",
     "model_name": "LayoutModel",
     "state": {
      "_model_module": "@jupyter-widgets/base",
      "_model_module_version": "1.2.0",
      "_model_name": "LayoutModel",
      "_view_count": null,
      "_view_module": "@jupyter-widgets/base",
      "_view_module_version": "1.2.0",
      "_view_name": "LayoutView",
      "align_content": null,
      "align_items": null,
      "align_self": null,
      "border": null,
      "bottom": null,
      "display": null,
      "flex": null,
      "flex_flow": null,
      "grid_area": null,
      "grid_auto_columns": null,
      "grid_auto_flow": null,
      "grid_auto_rows": null,
      "grid_column": null,
      "grid_gap": null,
      "grid_row": null,
      "grid_template_areas": null,
      "grid_template_columns": null,
      "grid_template_rows": null,
      "height": null,
      "justify_content": null,
      "justify_items": null,
      "left": null,
      "margin": null,
      "max_height": null,
      "max_width": null,
      "min_height": null,
      "min_width": null,
      "object_fit": null,
      "object_position": null,
      "order": null,
      "overflow": null,
      "overflow_x": null,
      "overflow_y": null,
      "padding": null,
      "right": null,
      "top": null,
      "visibility": null,
      "width": null
     }
    },
    "5034089d5b7749c3bc77e4e6f844fc3f": {
     "model_module": "@jupyter-widgets/controls",
     "model_module_version": "1.5.0",
     "model_name": "HTMLModel",
     "state": {
      "_dom_classes": [],
      "_model_module": "@jupyter-widgets/controls",
      "_model_module_version": "1.5.0",
      "_model_name": "HTMLModel",
      "_view_count": null,
      "_view_module": "@jupyter-widgets/controls",
      "_view_module_version": "1.5.0",
      "_view_name": "HTMLView",
      "description": "",
      "description_tooltip": null,
      "layout": "IPY_MODEL_6c119ee936184856acd1f5b49db8bc84",
      "placeholder": "​",
      "style": "IPY_MODEL_90126352a7614ff19ac00365e96f3a96",
      "value": "Downloading: 100%"
     }
    },
    "5055b80e74c84ede9731fd2302649306": {
     "model_module": "@jupyter-widgets/controls",
     "model_module_version": "1.5.0",
     "model_name": "HTMLModel",
     "state": {
      "_dom_classes": [],
      "_model_module": "@jupyter-widgets/controls",
      "_model_module_version": "1.5.0",
      "_model_name": "HTMLModel",
      "_view_count": null,
      "_view_module": "@jupyter-widgets/controls",
      "_view_module_version": "1.5.0",
      "_view_name": "HTMLView",
      "description": "",
      "description_tooltip": null,
      "layout": "IPY_MODEL_67fe5be63f6141efb236744aaafa363c",
      "placeholder": "​",
      "style": "IPY_MODEL_9eb3c9e7e2294fadb1157decc9e0d463",
      "value": " 878k/878k [00:00&lt;00:00, 2.88MB/s]"
     }
    },
    "542bc758b3904720b0ed3c9aab76d558": {
     "model_module": "@jupyter-widgets/base",
     "model_module_version": "1.2.0",
     "model_name": "LayoutModel",
     "state": {
      "_model_module": "@jupyter-widgets/base",
      "_model_module_version": "1.2.0",
      "_model_name": "LayoutModel",
      "_view_count": null,
      "_view_module": "@jupyter-widgets/base",
      "_view_module_version": "1.2.0",
      "_view_name": "LayoutView",
      "align_content": null,
      "align_items": null,
      "align_self": null,
      "border": null,
      "bottom": null,
      "display": null,
      "flex": null,
      "flex_flow": null,
      "grid_area": null,
      "grid_auto_columns": null,
      "grid_auto_flow": null,
      "grid_auto_rows": null,
      "grid_column": null,
      "grid_gap": null,
      "grid_row": null,
      "grid_template_areas": null,
      "grid_template_columns": null,
      "grid_template_rows": null,
      "height": null,
      "justify_content": null,
      "justify_items": null,
      "left": null,
      "margin": null,
      "max_height": null,
      "max_width": null,
      "min_height": null,
      "min_width": null,
      "object_fit": null,
      "object_position": null,
      "order": null,
      "overflow": null,
      "overflow_x": null,
      "overflow_y": null,
      "padding": null,
      "right": null,
      "top": null,
      "visibility": null,
      "width": null
     }
    },
    "56f64b61587f4c4480b0c57492438939": {
     "model_module": "@jupyter-widgets/controls",
     "model_module_version": "1.5.0",
     "model_name": "DescriptionStyleModel",
     "state": {
      "_model_module": "@jupyter-widgets/controls",
      "_model_module_version": "1.5.0",
      "_model_name": "DescriptionStyleModel",
      "_view_count": null,
      "_view_module": "@jupyter-widgets/base",
      "_view_module_version": "1.2.0",
      "_view_name": "StyleView",
      "description_width": ""
     }
    },
    "5e76db2d21ce40e6bfa45a0b334834c3": {
     "model_module": "@jupyter-widgets/controls",
     "model_module_version": "1.5.0",
     "model_name": "ProgressStyleModel",
     "state": {
      "_model_module": "@jupyter-widgets/controls",
      "_model_module_version": "1.5.0",
      "_model_name": "ProgressStyleModel",
      "_view_count": null,
      "_view_module": "@jupyter-widgets/base",
      "_view_module_version": "1.2.0",
      "_view_name": "StyleView",
      "bar_color": null,
      "description_width": ""
     }
    },
    "67fe5be63f6141efb236744aaafa363c": {
     "model_module": "@jupyter-widgets/base",
     "model_module_version": "1.2.0",
     "model_name": "LayoutModel",
     "state": {
      "_model_module": "@jupyter-widgets/base",
      "_model_module_version": "1.2.0",
      "_model_name": "LayoutModel",
      "_view_count": null,
      "_view_module": "@jupyter-widgets/base",
      "_view_module_version": "1.2.0",
      "_view_name": "LayoutView",
      "align_content": null,
      "align_items": null,
      "align_self": null,
      "border": null,
      "bottom": null,
      "display": null,
      "flex": null,
      "flex_flow": null,
      "grid_area": null,
      "grid_auto_columns": null,
      "grid_auto_flow": null,
      "grid_auto_rows": null,
      "grid_column": null,
      "grid_gap": null,
      "grid_row": null,
      "grid_template_areas": null,
      "grid_template_columns": null,
      "grid_template_rows": null,
      "height": null,
      "justify_content": null,
      "justify_items": null,
      "left": null,
      "margin": null,
      "max_height": null,
      "max_width": null,
      "min_height": null,
      "min_width": null,
      "object_fit": null,
      "object_position": null,
      "order": null,
      "overflow": null,
      "overflow_x": null,
      "overflow_y": null,
      "padding": null,
      "right": null,
      "top": null,
      "visibility": null,
      "width": null
     }
    },
    "6c119ee936184856acd1f5b49db8bc84": {
     "model_module": "@jupyter-widgets/base",
     "model_module_version": "1.2.0",
     "model_name": "LayoutModel",
     "state": {
      "_model_module": "@jupyter-widgets/base",
      "_model_module_version": "1.2.0",
      "_model_name": "LayoutModel",
      "_view_count": null,
      "_view_module": "@jupyter-widgets/base",
      "_view_module_version": "1.2.0",
      "_view_name": "LayoutView",
      "align_content": null,
      "align_items": null,
      "align_self": null,
      "border": null,
      "bottom": null,
      "display": null,
      "flex": null,
      "flex_flow": null,
      "grid_area": null,
      "grid_auto_columns": null,
      "grid_auto_flow": null,
      "grid_auto_rows": null,
      "grid_column": null,
      "grid_gap": null,
      "grid_row": null,
      "grid_template_areas": null,
      "grid_template_columns": null,
      "grid_template_rows": null,
      "height": null,
      "justify_content": null,
      "justify_items": null,
      "left": null,
      "margin": null,
      "max_height": null,
      "max_width": null,
      "min_height": null,
      "min_width": null,
      "object_fit": null,
      "object_position": null,
      "order": null,
      "overflow": null,
      "overflow_x": null,
      "overflow_y": null,
      "padding": null,
      "right": null,
      "top": null,
      "visibility": null,
      "width": null
     }
    },
    "6e9defe0688145899db2291d750422c7": {
     "model_module": "@jupyter-widgets/base",
     "model_module_version": "1.2.0",
     "model_name": "LayoutModel",
     "state": {
      "_model_module": "@jupyter-widgets/base",
      "_model_module_version": "1.2.0",
      "_model_name": "LayoutModel",
      "_view_count": null,
      "_view_module": "@jupyter-widgets/base",
      "_view_module_version": "1.2.0",
      "_view_name": "LayoutView",
      "align_content": null,
      "align_items": null,
      "align_self": null,
      "border": null,
      "bottom": null,
      "display": null,
      "flex": null,
      "flex_flow": null,
      "grid_area": null,
      "grid_auto_columns": null,
      "grid_auto_flow": null,
      "grid_auto_rows": null,
      "grid_column": null,
      "grid_gap": null,
      "grid_row": null,
      "grid_template_areas": null,
      "grid_template_columns": null,
      "grid_template_rows": null,
      "height": null,
      "justify_content": null,
      "justify_items": null,
      "left": null,
      "margin": null,
      "max_height": null,
      "max_width": null,
      "min_height": null,
      "min_width": null,
      "object_fit": null,
      "object_position": null,
      "order": null,
      "overflow": null,
      "overflow_x": null,
      "overflow_y": null,
      "padding": null,
      "right": null,
      "top": null,
      "visibility": null,
      "width": null
     }
    },
    "6ffaf1e333f44c76a9b52370b6e17ab9": {
     "model_module": "@jupyter-widgets/base",
     "model_module_version": "1.2.0",
     "model_name": "LayoutModel",
     "state": {
      "_model_module": "@jupyter-widgets/base",
      "_model_module_version": "1.2.0",
      "_model_name": "LayoutModel",
      "_view_count": null,
      "_view_module": "@jupyter-widgets/base",
      "_view_module_version": "1.2.0",
      "_view_name": "LayoutView",
      "align_content": null,
      "align_items": null,
      "align_self": null,
      "border": null,
      "bottom": null,
      "display": null,
      "flex": null,
      "flex_flow": null,
      "grid_area": null,
      "grid_auto_columns": null,
      "grid_auto_flow": null,
      "grid_auto_rows": null,
      "grid_column": null,
      "grid_gap": null,
      "grid_row": null,
      "grid_template_areas": null,
      "grid_template_columns": null,
      "grid_template_rows": null,
      "height": null,
      "justify_content": null,
      "justify_items": null,
      "left": null,
      "margin": null,
      "max_height": null,
      "max_width": null,
      "min_height": null,
      "min_width": null,
      "object_fit": null,
      "object_position": null,
      "order": null,
      "overflow": null,
      "overflow_x": null,
      "overflow_y": null,
      "padding": null,
      "right": null,
      "top": null,
      "visibility": null,
      "width": null
     }
    },
    "81eb7b1572164e1d87d4972ea46448b5": {
     "model_module": "@jupyter-widgets/controls",
     "model_module_version": "1.5.0",
     "model_name": "ProgressStyleModel",
     "state": {
      "_model_module": "@jupyter-widgets/controls",
      "_model_module_version": "1.5.0",
      "_model_name": "ProgressStyleModel",
      "_view_count": null,
      "_view_module": "@jupyter-widgets/base",
      "_view_module_version": "1.2.0",
      "_view_name": "StyleView",
      "bar_color": null,
      "description_width": ""
     }
    },
    "8506aa1354194303bb435ae096b6e564": {
     "model_module": "@jupyter-widgets/base",
     "model_module_version": "1.2.0",
     "model_name": "LayoutModel",
     "state": {
      "_model_module": "@jupyter-widgets/base",
      "_model_module_version": "1.2.0",
      "_model_name": "LayoutModel",
      "_view_count": null,
      "_view_module": "@jupyter-widgets/base",
      "_view_module_version": "1.2.0",
      "_view_name": "LayoutView",
      "align_content": null,
      "align_items": null,
      "align_self": null,
      "border": null,
      "bottom": null,
      "display": null,
      "flex": null,
      "flex_flow": null,
      "grid_area": null,
      "grid_auto_columns": null,
      "grid_auto_flow": null,
      "grid_auto_rows": null,
      "grid_column": null,
      "grid_gap": null,
      "grid_row": null,
      "grid_template_areas": null,
      "grid_template_columns": null,
      "grid_template_rows": null,
      "height": null,
      "justify_content": null,
      "justify_items": null,
      "left": null,
      "margin": null,
      "max_height": null,
      "max_width": null,
      "min_height": null,
      "min_width": null,
      "object_fit": null,
      "object_position": null,
      "order": null,
      "overflow": null,
      "overflow_x": null,
      "overflow_y": null,
      "padding": null,
      "right": null,
      "top": null,
      "visibility": null,
      "width": null
     }
    },
    "8b40f56333eb45d5a17a61dc57e621ed": {
     "model_module": "@jupyter-widgets/controls",
     "model_module_version": "1.5.0",
     "model_name": "FloatProgressModel",
     "state": {
      "_dom_classes": [],
      "_model_module": "@jupyter-widgets/controls",
      "_model_module_version": "1.5.0",
      "_model_name": "FloatProgressModel",
      "_view_count": null,
      "_view_module": "@jupyter-widgets/controls",
      "_view_module_version": "1.5.0",
      "_view_name": "ProgressView",
      "bar_style": "success",
      "description": "",
      "description_tooltip": null,
      "layout": "IPY_MODEL_8506aa1354194303bb435ae096b6e564",
      "max": 898823,
      "min": 0,
      "orientation": "horizontal",
      "style": "IPY_MODEL_81eb7b1572164e1d87d4972ea46448b5",
      "value": 898823
     }
    },
    "8d3a6c14e4cd4e418680d22b4a07cf7b": {
     "model_module": "@jupyter-widgets/base",
     "model_module_version": "1.2.0",
     "model_name": "LayoutModel",
     "state": {
      "_model_module": "@jupyter-widgets/base",
      "_model_module_version": "1.2.0",
      "_model_name": "LayoutModel",
      "_view_count": null,
      "_view_module": "@jupyter-widgets/base",
      "_view_module_version": "1.2.0",
      "_view_name": "LayoutView",
      "align_content": null,
      "align_items": null,
      "align_self": null,
      "border": null,
      "bottom": null,
      "display": null,
      "flex": null,
      "flex_flow": null,
      "grid_area": null,
      "grid_auto_columns": null,
      "grid_auto_flow": null,
      "grid_auto_rows": null,
      "grid_column": null,
      "grid_gap": null,
      "grid_row": null,
      "grid_template_areas": null,
      "grid_template_columns": null,
      "grid_template_rows": null,
      "height": null,
      "justify_content": null,
      "justify_items": null,
      "left": null,
      "margin": null,
      "max_height": null,
      "max_width": null,
      "min_height": null,
      "min_width": null,
      "object_fit": null,
      "object_position": null,
      "order": null,
      "overflow": null,
      "overflow_x": null,
      "overflow_y": null,
      "padding": null,
      "right": null,
      "top": null,
      "visibility": null,
      "width": null
     }
    },
    "8e249e0b173a4979a9cc9406b9634a19": {
     "model_module": "@jupyter-widgets/controls",
     "model_module_version": "1.5.0",
     "model_name": "HTMLModel",
     "state": {
      "_dom_classes": [],
      "_model_module": "@jupyter-widgets/controls",
      "_model_module_version": "1.5.0",
      "_model_name": "HTMLModel",
      "_view_count": null,
      "_view_module": "@jupyter-widgets/controls",
      "_view_module_version": "1.5.0",
      "_view_name": "HTMLView",
      "description": "",
      "description_tooltip": null,
      "layout": "IPY_MODEL_4b76d1f9462147ab8513306ea3e6d3d0",
      "placeholder": "​",
      "style": "IPY_MODEL_a108b91ce5ad4d34ad370bbad973cbff",
      "value": "Downloading: 100%"
     }
    },
    "90126352a7614ff19ac00365e96f3a96": {
     "model_module": "@jupyter-widgets/controls",
     "model_module_version": "1.5.0",
     "model_name": "DescriptionStyleModel",
     "state": {
      "_model_module": "@jupyter-widgets/controls",
      "_model_module_version": "1.5.0",
      "_model_name": "DescriptionStyleModel",
      "_view_count": null,
      "_view_module": "@jupyter-widgets/base",
      "_view_module_version": "1.2.0",
      "_view_name": "StyleView",
      "description_width": ""
     }
    },
    "9adfd2a285bc4d56bd2817743c48f328": {
     "model_module": "@jupyter-widgets/base",
     "model_module_version": "1.2.0",
     "model_name": "LayoutModel",
     "state": {
      "_model_module": "@jupyter-widgets/base",
      "_model_module_version": "1.2.0",
      "_model_name": "LayoutModel",
      "_view_count": null,
      "_view_module": "@jupyter-widgets/base",
      "_view_module_version": "1.2.0",
      "_view_name": "LayoutView",
      "align_content": null,
      "align_items": null,
      "align_self": null,
      "border": null,
      "bottom": null,
      "display": null,
      "flex": null,
      "flex_flow": null,
      "grid_area": null,
      "grid_auto_columns": null,
      "grid_auto_flow": null,
      "grid_auto_rows": null,
      "grid_column": null,
      "grid_gap": null,
      "grid_row": null,
      "grid_template_areas": null,
      "grid_template_columns": null,
      "grid_template_rows": null,
      "height": null,
      "justify_content": null,
      "justify_items": null,
      "left": null,
      "margin": null,
      "max_height": null,
      "max_width": null,
      "min_height": null,
      "min_width": null,
      "object_fit": null,
      "object_position": null,
      "order": null,
      "overflow": null,
      "overflow_x": null,
      "overflow_y": null,
      "padding": null,
      "right": null,
      "top": null,
      "visibility": null,
      "width": null
     }
    },
    "9c3df6f00a5541998c85b56159ba4e7c": {
     "model_module": "@jupyter-widgets/controls",
     "model_module_version": "1.5.0",
     "model_name": "ProgressStyleModel",
     "state": {
      "_model_module": "@jupyter-widgets/controls",
      "_model_module_version": "1.5.0",
      "_model_name": "ProgressStyleModel",
      "_view_count": null,
      "_view_module": "@jupyter-widgets/base",
      "_view_module_version": "1.2.0",
      "_view_name": "StyleView",
      "bar_color": null,
      "description_width": ""
     }
    },
    "9c9e9ed0bb7f4178b522b791c5b08f9f": {
     "model_module": "@jupyter-widgets/base",
     "model_module_version": "1.2.0",
     "model_name": "LayoutModel",
     "state": {
      "_model_module": "@jupyter-widgets/base",
      "_model_module_version": "1.2.0",
      "_model_name": "LayoutModel",
      "_view_count": null,
      "_view_module": "@jupyter-widgets/base",
      "_view_module_version": "1.2.0",
      "_view_name": "LayoutView",
      "align_content": null,
      "align_items": null,
      "align_self": null,
      "border": null,
      "bottom": null,
      "display": null,
      "flex": null,
      "flex_flow": null,
      "grid_area": null,
      "grid_auto_columns": null,
      "grid_auto_flow": null,
      "grid_auto_rows": null,
      "grid_column": null,
      "grid_gap": null,
      "grid_row": null,
      "grid_template_areas": null,
      "grid_template_columns": null,
      "grid_template_rows": null,
      "height": null,
      "justify_content": null,
      "justify_items": null,
      "left": null,
      "margin": null,
      "max_height": null,
      "max_width": null,
      "min_height": null,
      "min_width": null,
      "object_fit": null,
      "object_position": null,
      "order": null,
      "overflow": null,
      "overflow_x": null,
      "overflow_y": null,
      "padding": null,
      "right": null,
      "top": null,
      "visibility": null,
      "width": null
     }
    },
    "9eb3c9e7e2294fadb1157decc9e0d463": {
     "model_module": "@jupyter-widgets/controls",
     "model_module_version": "1.5.0",
     "model_name": "DescriptionStyleModel",
     "state": {
      "_model_module": "@jupyter-widgets/controls",
      "_model_module_version": "1.5.0",
      "_model_name": "DescriptionStyleModel",
      "_view_count": null,
      "_view_module": "@jupyter-widgets/base",
      "_view_module_version": "1.2.0",
      "_view_name": "StyleView",
      "description_width": ""
     }
    },
    "a108b91ce5ad4d34ad370bbad973cbff": {
     "model_module": "@jupyter-widgets/controls",
     "model_module_version": "1.5.0",
     "model_name": "DescriptionStyleModel",
     "state": {
      "_model_module": "@jupyter-widgets/controls",
      "_model_module_version": "1.5.0",
      "_model_name": "DescriptionStyleModel",
      "_view_count": null,
      "_view_module": "@jupyter-widgets/base",
      "_view_module_version": "1.2.0",
      "_view_name": "StyleView",
      "description_width": ""
     }
    },
    "a12bafa5640d4f9581ab6d2f8a398691": {
     "model_module": "@jupyter-widgets/base",
     "model_module_version": "1.2.0",
     "model_name": "LayoutModel",
     "state": {
      "_model_module": "@jupyter-widgets/base",
      "_model_module_version": "1.2.0",
      "_model_name": "LayoutModel",
      "_view_count": null,
      "_view_module": "@jupyter-widgets/base",
      "_view_module_version": "1.2.0",
      "_view_name": "LayoutView",
      "align_content": null,
      "align_items": null,
      "align_self": null,
      "border": null,
      "bottom": null,
      "display": null,
      "flex": null,
      "flex_flow": null,
      "grid_area": null,
      "grid_auto_columns": null,
      "grid_auto_flow": null,
      "grid_auto_rows": null,
      "grid_column": null,
      "grid_gap": null,
      "grid_row": null,
      "grid_template_areas": null,
      "grid_template_columns": null,
      "grid_template_rows": null,
      "height": null,
      "justify_content": null,
      "justify_items": null,
      "left": null,
      "margin": null,
      "max_height": null,
      "max_width": null,
      "min_height": null,
      "min_width": null,
      "object_fit": null,
      "object_position": null,
      "order": null,
      "overflow": null,
      "overflow_x": null,
      "overflow_y": null,
      "padding": null,
      "right": null,
      "top": null,
      "visibility": null,
      "width": null
     }
    },
    "ac1b58cec1f04903bcd7a16d9d1590ca": {
     "model_module": "@jupyter-widgets/controls",
     "model_module_version": "1.5.0",
     "model_name": "HBoxModel",
     "state": {
      "_dom_classes": [],
      "_model_module": "@jupyter-widgets/controls",
      "_model_module_version": "1.5.0",
      "_model_name": "HBoxModel",
      "_view_count": null,
      "_view_module": "@jupyter-widgets/controls",
      "_view_module_version": "1.5.0",
      "_view_name": "HBoxView",
      "box_style": "",
      "children": [
       "IPY_MODEL_8e249e0b173a4979a9cc9406b9634a19",
       "IPY_MODEL_8b40f56333eb45d5a17a61dc57e621ed",
       "IPY_MODEL_5055b80e74c84ede9731fd2302649306"
      ],
      "layout": "IPY_MODEL_18e02ee7cdaf4689b39773e3a0ce894a"
     }
    },
    "b92e75fe2ad8429c9b5a5e72f20d7a95": {
     "model_module": "@jupyter-widgets/controls",
     "model_module_version": "1.5.0",
     "model_name": "HTMLModel",
     "state": {
      "_dom_classes": [],
      "_model_module": "@jupyter-widgets/controls",
      "_model_module_version": "1.5.0",
      "_model_name": "HTMLModel",
      "_view_count": null,
      "_view_module": "@jupyter-widgets/controls",
      "_view_module_version": "1.5.0",
      "_view_name": "HTMLView",
      "description": "",
      "description_tooltip": null,
      "layout": "IPY_MODEL_9adfd2a285bc4d56bd2817743c48f328",
      "placeholder": "​",
      "style": "IPY_MODEL_3ba16590ade74dad80b0d5a3bd23f24a",
      "value": "Downloading: 100%"
     }
    },
    "c2bffcb480a64fa8b753ae21d868c175": {
     "model_module": "@jupyter-widgets/controls",
     "model_module_version": "1.5.0",
     "model_name": "HBoxModel",
     "state": {
      "_dom_classes": [],
      "_model_module": "@jupyter-widgets/controls",
      "_model_module_version": "1.5.0",
      "_model_name": "HBoxModel",
      "_view_count": null,
      "_view_module": "@jupyter-widgets/controls",
      "_view_module_version": "1.5.0",
      "_view_name": "HBoxView",
      "box_style": "",
      "children": [
       "IPY_MODEL_5034089d5b7749c3bc77e4e6f844fc3f",
       "IPY_MODEL_fcd084bef313444ea44674eea5a3eafd",
       "IPY_MODEL_03ddaa9061184a50882408da6ea49100"
      ],
      "layout": "IPY_MODEL_e738e479f9f74aea8c7547a9de6f3f91"
     }
    },
    "caa9b2652351435a99d117ad4668ef15": {
     "model_module": "@jupyter-widgets/controls",
     "model_module_version": "1.5.0",
     "model_name": "DescriptionStyleModel",
     "state": {
      "_model_module": "@jupyter-widgets/controls",
      "_model_module_version": "1.5.0",
      "_model_name": "DescriptionStyleModel",
      "_view_count": null,
      "_view_module": "@jupyter-widgets/base",
      "_view_module_version": "1.2.0",
      "_view_name": "StyleView",
      "description_width": ""
     }
    },
    "cc51c166edcc452e82eecb7e9f5897ea": {
     "model_module": "@jupyter-widgets/controls",
     "model_module_version": "1.5.0",
     "model_name": "FloatProgressModel",
     "state": {
      "_dom_classes": [],
      "_model_module": "@jupyter-widgets/controls",
      "_model_module_version": "1.5.0",
      "_model_name": "FloatProgressModel",
      "_view_count": null,
      "_view_module": "@jupyter-widgets/controls",
      "_view_module_version": "1.5.0",
      "_view_name": "ProgressView",
      "bar_style": "success",
      "description": "",
      "description_tooltip": null,
      "layout": "IPY_MODEL_24bfae0808ca48f4911f05c92708d1d9",
      "max": 456318,
      "min": 0,
      "orientation": "horizontal",
      "style": "IPY_MODEL_ce9a31a3bafe40899bd9e11b115fc524",
      "value": 456318
     }
    },
    "ce8fd9151bd341d6a27d47565ede25ec": {
     "model_module": "@jupyter-widgets/controls",
     "model_module_version": "1.5.0",
     "model_name": "HTMLModel",
     "state": {
      "_dom_classes": [],
      "_model_module": "@jupyter-widgets/controls",
      "_model_module_version": "1.5.0",
      "_model_name": "HTMLModel",
      "_view_count": null,
      "_view_module": "@jupyter-widgets/controls",
      "_view_module_version": "1.5.0",
      "_view_name": "HTMLView",
      "description": "",
      "description_tooltip": null,
      "layout": "IPY_MODEL_a12bafa5640d4f9581ab6d2f8a398691",
      "placeholder": "​",
      "style": "IPY_MODEL_f00959952bc14a74bf6d78b8ce9b9c9c",
      "value": "Downloading: 100%"
     }
    },
    "ce9a31a3bafe40899bd9e11b115fc524": {
     "model_module": "@jupyter-widgets/controls",
     "model_module_version": "1.5.0",
     "model_name": "ProgressStyleModel",
     "state": {
      "_model_module": "@jupyter-widgets/controls",
      "_model_module_version": "1.5.0",
      "_model_name": "ProgressStyleModel",
      "_view_count": null,
      "_view_module": "@jupyter-widgets/base",
      "_view_module_version": "1.2.0",
      "_view_name": "StyleView",
      "bar_color": null,
      "description_width": ""
     }
    },
    "d7c3c8cd1f9e47a1adcc820d83935ac9": {
     "model_module": "@jupyter-widgets/controls",
     "model_module_version": "1.5.0",
     "model_name": "HTMLModel",
     "state": {
      "_dom_classes": [],
      "_model_module": "@jupyter-widgets/controls",
      "_model_module_version": "1.5.0",
      "_model_name": "HTMLModel",
      "_view_count": null,
      "_view_module": "@jupyter-widgets/controls",
      "_view_module_version": "1.5.0",
      "_view_name": "HTMLView",
      "description": "",
      "description_tooltip": null,
      "layout": "IPY_MODEL_6ffaf1e333f44c76a9b52370b6e17ab9",
      "placeholder": "​",
      "style": "IPY_MODEL_2fb3647fe949416d941ddeba17756dc4",
      "value": " 446k/446k [00:00&lt;00:00, 802kB/s]"
     }
    },
    "db78a99798e2416a9a4bbdcc318401e0": {
     "model_module": "@jupyter-widgets/base",
     "model_module_version": "1.2.0",
     "model_name": "LayoutModel",
     "state": {
      "_model_module": "@jupyter-widgets/base",
      "_model_module_version": "1.2.0",
      "_model_name": "LayoutModel",
      "_view_count": null,
      "_view_module": "@jupyter-widgets/base",
      "_view_module_version": "1.2.0",
      "_view_name": "LayoutView",
      "align_content": null,
      "align_items": null,
      "align_self": null,
      "border": null,
      "bottom": null,
      "display": null,
      "flex": null,
      "flex_flow": null,
      "grid_area": null,
      "grid_auto_columns": null,
      "grid_auto_flow": null,
      "grid_auto_rows": null,
      "grid_column": null,
      "grid_gap": null,
      "grid_row": null,
      "grid_template_areas": null,
      "grid_template_columns": null,
      "grid_template_rows": null,
      "height": null,
      "justify_content": null,
      "justify_items": null,
      "left": null,
      "margin": null,
      "max_height": null,
      "max_width": null,
      "min_height": null,
      "min_width": null,
      "object_fit": null,
      "object_position": null,
      "order": null,
      "overflow": null,
      "overflow_x": null,
      "overflow_y": null,
      "padding": null,
      "right": null,
      "top": null,
      "visibility": null,
      "width": null
     }
    },
    "e738e479f9f74aea8c7547a9de6f3f91": {
     "model_module": "@jupyter-widgets/base",
     "model_module_version": "1.2.0",
     "model_name": "LayoutModel",
     "state": {
      "_model_module": "@jupyter-widgets/base",
      "_model_module_version": "1.2.0",
      "_model_name": "LayoutModel",
      "_view_count": null,
      "_view_module": "@jupyter-widgets/base",
      "_view_module_version": "1.2.0",
      "_view_name": "LayoutView",
      "align_content": null,
      "align_items": null,
      "align_self": null,
      "border": null,
      "bottom": null,
      "display": null,
      "flex": null,
      "flex_flow": null,
      "grid_area": null,
      "grid_auto_columns": null,
      "grid_auto_flow": null,
      "grid_auto_rows": null,
      "grid_column": null,
      "grid_gap": null,
      "grid_row": null,
      "grid_template_areas": null,
      "grid_template_columns": null,
      "grid_template_rows": null,
      "height": null,
      "justify_content": null,
      "justify_items": null,
      "left": null,
      "margin": null,
      "max_height": null,
      "max_width": null,
      "min_height": null,
      "min_width": null,
      "object_fit": null,
      "object_position": null,
      "order": null,
      "overflow": null,
      "overflow_x": null,
      "overflow_y": null,
      "padding": null,
      "right": null,
      "top": null,
      "visibility": null,
      "width": null
     }
    },
    "e8d75a779c4b4d5b95831d6530d94ddf": {
     "model_module": "@jupyter-widgets/controls",
     "model_module_version": "1.5.0",
     "model_name": "HTMLModel",
     "state": {
      "_dom_classes": [],
      "_model_module": "@jupyter-widgets/controls",
      "_model_module_version": "1.5.0",
      "_model_name": "HTMLModel",
      "_view_count": null,
      "_view_module": "@jupyter-widgets/controls",
      "_view_module_version": "1.5.0",
      "_view_name": "HTMLView",
      "description": "",
      "description_tooltip": null,
      "layout": "IPY_MODEL_db78a99798e2416a9a4bbdcc318401e0",
      "placeholder": "​",
      "style": "IPY_MODEL_327a83139f1e4d0c8fd03a4bb871ae3b",
      "value": " 1.65k/1.65k [00:00&lt;00:00, 5.46kB/s]"
     }
    },
    "ea1f9200a7b549078a7f954bbff7d52f": {
     "model_module": "@jupyter-widgets/controls",
     "model_module_version": "1.5.0",
     "model_name": "HTMLModel",
     "state": {
      "_dom_classes": [],
      "_model_module": "@jupyter-widgets/controls",
      "_model_module_version": "1.5.0",
      "_model_name": "HTMLModel",
      "_view_count": null,
      "_view_module": "@jupyter-widgets/controls",
      "_view_module_version": "1.5.0",
      "_view_name": "HTMLView",
      "description": "",
      "description_tooltip": null,
      "layout": "IPY_MODEL_8d3a6c14e4cd4e418680d22b4a07cf7b",
      "placeholder": "​",
      "style": "IPY_MODEL_caa9b2652351435a99d117ad4668ef15",
      "value": "Downloading: 100%"
     }
    },
    "ee4423a37bed48a989eb8d5c9c8033c4": {
     "model_module": "@jupyter-widgets/controls",
     "model_module_version": "1.5.0",
     "model_name": "FloatProgressModel",
     "state": {
      "_dom_classes": [],
      "_model_module": "@jupyter-widgets/controls",
      "_model_module_version": "1.5.0",
      "_model_name": "FloatProgressModel",
      "_view_count": null,
      "_view_module": "@jupyter-widgets/controls",
      "_view_module_version": "1.5.0",
      "_view_name": "ProgressView",
      "bar_style": "success",
      "description": "",
      "description_tooltip": null,
      "layout": "IPY_MODEL_26062de4012645b89e4467e871a4f517",
      "max": 1688,
      "min": 0,
      "orientation": "horizontal",
      "style": "IPY_MODEL_9c3df6f00a5541998c85b56159ba4e7c",
      "value": 1688
     }
    },
    "f00959952bc14a74bf6d78b8ce9b9c9c": {
     "model_module": "@jupyter-widgets/controls",
     "model_module_version": "1.5.0",
     "model_name": "DescriptionStyleModel",
     "state": {
      "_model_module": "@jupyter-widgets/controls",
      "_model_module_version": "1.5.0",
      "_model_name": "DescriptionStyleModel",
      "_view_count": null,
      "_view_module": "@jupyter-widgets/base",
      "_view_module_version": "1.2.0",
      "_view_name": "StyleView",
      "description_width": ""
     }
    },
    "f07e1da88c3c48819c5ea4efd62b3ce2": {
     "model_module": "@jupyter-widgets/controls",
     "model_module_version": "1.5.0",
     "model_name": "ProgressStyleModel",
     "state": {
      "_model_module": "@jupyter-widgets/controls",
      "_model_module_version": "1.5.0",
      "_model_name": "ProgressStyleModel",
      "_view_count": null,
      "_view_module": "@jupyter-widgets/base",
      "_view_module_version": "1.2.0",
      "_view_name": "StyleView",
      "bar_color": null,
      "description_width": ""
     }
    },
    "f5b8b80d1f824e57b9e2fba5dad7e687": {
     "model_module": "@jupyter-widgets/controls",
     "model_module_version": "1.5.0",
     "model_name": "HTMLModel",
     "state": {
      "_dom_classes": [],
      "_model_module": "@jupyter-widgets/controls",
      "_model_module_version": "1.5.0",
      "_model_name": "HTMLModel",
      "_view_count": null,
      "_view_module": "@jupyter-widgets/controls",
      "_view_module_version": "1.5.0",
      "_view_name": "HTMLView",
      "description": "",
      "description_tooltip": null,
      "layout": "IPY_MODEL_2cfe440330dd4f0fa2d442ec81070100",
      "placeholder": "​",
      "style": "IPY_MODEL_56f64b61587f4c4480b0c57492438939",
      "value": " 532M/532M [01:18&lt;00:00, 7.22MB/s]"
     }
    },
    "fcd084bef313444ea44674eea5a3eafd": {
     "model_module": "@jupyter-widgets/controls",
     "model_module_version": "1.5.0",
     "model_name": "FloatProgressModel",
     "state": {
      "_dom_classes": [],
      "_model_module": "@jupyter-widgets/controls",
      "_model_module_version": "1.5.0",
      "_model_name": "FloatProgressModel",
      "_view_count": null,
      "_view_module": "@jupyter-widgets/controls",
      "_view_module_version": "1.5.0",
      "_view_name": "ProgressView",
      "bar_style": "success",
      "description": "",
      "description_tooltip": null,
      "layout": "IPY_MODEL_6e9defe0688145899db2291d750422c7",
      "max": 1355863,
      "min": 0,
      "orientation": "horizontal",
      "style": "IPY_MODEL_5e76db2d21ce40e6bfa45a0b334834c3",
      "value": 1355863
     }
    },
    "ff08611232cd4107a451c405520f3e6f": {
     "model_module": "@jupyter-widgets/base",
     "model_module_version": "1.2.0",
     "model_name": "LayoutModel",
     "state": {
      "_model_module": "@jupyter-widgets/base",
      "_model_module_version": "1.2.0",
      "_model_name": "LayoutModel",
      "_view_count": null,
      "_view_module": "@jupyter-widgets/base",
      "_view_module_version": "1.2.0",
      "_view_name": "LayoutView",
      "align_content": null,
      "align_items": null,
      "align_self": null,
      "border": null,
      "bottom": null,
      "display": null,
      "flex": null,
      "flex_flow": null,
      "grid_area": null,
      "grid_auto_columns": null,
      "grid_auto_flow": null,
      "grid_auto_rows": null,
      "grid_column": null,
      "grid_gap": null,
      "grid_row": null,
      "grid_template_areas": null,
      "grid_template_columns": null,
      "grid_template_rows": null,
      "height": null,
      "justify_content": null,
      "justify_items": null,
      "left": null,
      "margin": null,
      "max_height": null,
      "max_width": null,
      "min_height": null,
      "min_width": null,
      "object_fit": null,
      "object_position": null,
      "order": null,
      "overflow": null,
      "overflow_x": null,
      "overflow_y": null,
      "padding": null,
      "right": null,
      "top": null,
      "visibility": null,
      "width": null
     }
    }
   }
  }
 },
 "nbformat": 4,
 "nbformat_minor": 5
}
